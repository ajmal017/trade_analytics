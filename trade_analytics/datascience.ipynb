{
 "cells": [
  {
   "cell_type": "code",
   "execution_count": 1,
   "metadata": {},
   "outputs": [],
   "source": [
    "import networkx as nx"
   ]
  },
  {
   "cell_type": "code",
   "execution_count": null,
   "metadata": {
    "collapsed": true
   },
   "outputs": [],
   "source": [
    "class _pipeline(object):\n",
    "    def __init__(self):\n",
    "        _mode='Train' # 'Predict'\n",
    "        _dataset=None\n",
    "        \n",
    "    def save(self)\n",
    "        pass\n",
    "    \n",
    "    def initialize(self,pipeline):\n",
    "        pass\n",
    "    \n",
    "    def run(self):\n",
    "        pass\n",
    "    def set_next(self):\n",
    "        pass\n",
    "    def set_dataset(self):\n",
    "        pass\n",
    "    \n",
    "    \n",
    "    \n",
    "\n",
    "class DataSet(_pipeline):\n",
    "    def get_training_data(self):\n",
    "        pass\n",
    "\n",
    "    def get_test_data(self):\n",
    "        pass\n",
    "    \n",
    "    def set_prediction(self):\n",
    "        pass\n",
    "    \n",
    "    def make_copy(self):\n",
    "        pass\n",
    "    \n",
    "    \n",
    "    \n",
    "class Transform(_pipeline):\n",
    "    \n",
    "    def fit(self):\n",
    "        pass\n",
    "    def transform(self):\n",
    "        pass\n",
    "    def fit_transform(self):\n",
    "        pass\n",
    "\n",
    "class Model(_pipeline):\n",
    "    def train_gridsearch_cv(self):\n",
    "        pass\n",
    "    def train(self):\n",
    "        pass\n",
    "    def predict(self):\n",
    "        pass\n",
    "    \n",
    "class Source(_pipeline):\n",
    "    pass\n",
    "\n",
    "class Sink(_pipeline):\n",
    "    pass\n",
    "\n"
   ]
  }
 ],
 "metadata": {
  "kernelspec": {
   "display_name": "Django Shell-Plus",
   "language": "python",
   "name": "django_extensions"
  },
  "language_info": {
   "codemirror_mode": {
    "name": "ipython",
    "version": 2
   },
   "file_extension": ".py",
   "mimetype": "text/x-python",
   "name": "python",
   "nbconvert_exporter": "python",
   "pygments_lexer": "ipython2",
   "version": "2.7.14"
  }
 },
 "nbformat": 4,
 "nbformat_minor": 2
}
