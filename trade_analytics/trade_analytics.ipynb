{
 "cells": [
  {
   "cell_type": "code",
   "execution_count": 1,
   "metadata": {
    "collapsed": true
   },
   "outputs": [],
   "source": [
    "%load_ext autoreload\n",
    "%autoreload 2"
   ]
  },
  {
   "cell_type": "code",
   "execution_count": 2,
   "metadata": {},
   "outputs": [
    {
     "name": "stderr",
     "output_type": "stream",
     "text": [
      "/usr/local/lib/python2.7/dist-packages/matplotlib/cbook.py:136: MatplotlibDeprecationWarning: The finance module has been deprecated in mpl 2.0 and will be removed in mpl 2.2. Please use the module mpl_finance instead.\n",
      "  warnings.warn(message, mplDeprecation, stacklevel=1)\n"
     ]
    }
   ],
   "source": [
    "from __future__ import division\n",
    "%matplotlib inline\n",
    "import matplotlib.pyplot as plt\n",
    "from matplotlib.dates import DateFormatter, WeekdayLocator,\\\n",
    "    DayLocator, MONDAY,date2num,num2date,AutoDateLocator\n",
    "from matplotlib.finance import quotes_historical_yahoo_ohlc, candlestick_ohlc,candlestick2_ochl,volume_overlay3\n",
    "\n",
    "from stockapp import models as stkmd\n",
    "from dataapp import models as dtamd\n",
    "from dataapp import tasks as dtatks\n",
    "from dataapp import libs as dtalibs\n",
    "from featureapp import libs as ftlibs\n",
    "from featureapp import models as ftmd\n",
    "from stockapp import tasks as stktks\n",
    "from stockapp import libs as stklibs\n",
    "import featureapp.models as ftmd\n",
    "import featureapp.tasks as fttks\n",
    "import queryapp.models as qrymd\n",
    "import queryapp.tasks as qrytks\n",
    "\n",
    "import featureapp as ftapp\n",
    "import utility as uty\n",
    "from utility import models as utymd\n",
    "import itertools as itt\n",
    "import multiprocessing as mp\n",
    "from django.db import connection,connections\n",
    "from django.db import reset_queries\n",
    "import time \n",
    "import pandas as pd\n",
    "import numpy as np\n",
    "import inspect\n",
    "import imp\n",
    "import datetime\n",
    "from talib.abstract import *\n",
    "import utility.models as utmd\n",
    "import stockapp.libs as stklib\n",
    "from utility import codemanager as cdmng\n",
    "from utility import maintenance as mnt\n",
    "\n",
    "import json\n",
    "from django.contrib.auth.models import AnonymousUser\n",
    "import threading\n",
    "\n",
    "stk=stkmd.Stockmeta.objects.get(Symbol='TSLA')\n",
    "Fromdate=pd.datetime(2008,1,1)\n",
    "Todate=pd.datetime.today()\n",
    "Trange=pd.date_range(Fromdate,Todate)\n",
    "Trange=[T.date() for T in Trange if T.weekday()<=4]\n",
    "\n",
    "# fttks.computefeatuers(stk.id,Trange)"
   ]
  },
  {
   "cell_type": "code",
   "execution_count": 3,
   "metadata": {},
   "outputs": [
    {
     "name": "stdout",
     "output_type": "stream",
     "text": [
      "TIMING : GetStockData time = 0.328475 on 2017-05-21 11:54:17 with args: ((6264,),{}) \n",
      "TIMING : addindicators time = 0.002141 on 2017-05-21 11:54:17 with args: ((            Close   Open   High    Low  Volume Symbol    SMA20\n",
      "Date                                ,{}) \n",
      "TIMING : addindicators time = 0.002214 on 2017-05-21 11:54:17 with args: ((            Close   Open   High    Low  Volume Symbol    SMA20  SMAstd20\n",
      "Date                      ,{}) \n",
      "TIMING : addindicators time = 0.002259 on 2017-05-21 11:54:17 with args: ((            Close   Open   High    Low  Volume Symbol    SMA20  SMAstd20  \\\n",
      "Date                   ,{}) \n",
      "TIMING : addindicators time = 0.002977 on 2017-05-21 11:54:17 with args: ((            Close   Open   High    Low  Volume Symbol    SMA20  SMAstd20  \\\n",
      "Date                   ,{}) \n",
      "TIMING : addindicators time = 0.002081 on 2017-05-21 11:54:17 with args: ((            Close   Open   High    Low  Volume Symbol    SMA20  SMAstd20  \\\n",
      "Date                   ,{}) \n",
      "TIMING : addindicators time = 0.002311 on 2017-05-21 11:54:17 with args: ((            Close   Open   High    Low  Volume Symbol    SMA20  SMAstd20  \\\n",
      "Date                   ,{}) \n",
      "TIMING : computefeature time = 0.031031 on 2017-05-21 11:54:17 with args: ((<featureapp.FeatureCodes.AnonymousUser.features object at 0x7f09f0c06f50>, 'PastLOSS10days', [datet,{}) featuremodel\n",
      "TIMING : computefeature time = 10.279874 on 2017-05-21 11:54:27 with args: ((<featureapp.FeatureCodes.AnonymousUser.features object at 0x7f09f0c06f50>, 'EMALowPoly2win4Fit', [d,{}) featuremodel\n",
      "TIMING : computefeature time = 0.098926 on 2017-05-21 11:54:27 with args: ((<featureapp.FeatureCodes.AnonymousUser.features object at 0x7f09f0c06f50>, 'FutLOSS90days', [dateti,{}) featuremodel\n",
      "TIMING : computefeature time = 0.016331 on 2017-05-21 11:54:27 with args: ((<featureapp.FeatureCodes.AnonymousUser.features object at 0x7f09f0c06f50>, 'SMAstd20', [datetime.da,{}) featuremodel\n",
      "TIMING : computefeature time = 0.015656 on 2017-05-21 11:54:27 with args: ((<featureapp.FeatureCodes.AnonymousUser.features object at 0x7f09f0c06f50>, 'SMA20', [datetime.date(,{}) featuremodel\n",
      "TIMING : computefeature time = 0.016526 on 2017-05-21 11:54:27 with args: ((<featureapp.FeatureCodes.AnonymousUser.features object at 0x7f09f0c06f50>, 'EMAstd8', [datetime.dat,{}) featuremodel\n",
      "TIMING : computefeature time = 0.043597 on 2017-05-21 11:54:27 with args: ((<featureapp.FeatureCodes.AnonymousUser.features object at 0x7f09f0c06f50>, 'FutLOSS30days', [dateti,{}) featuremodel\n",
      "TIMING : computefeature time = 10.620628 on 2017-05-21 11:54:38 with args: ((<featureapp.FeatureCodes.AnonymousUser.features object at 0x7f09f0c06f50>, 'SMALowPoly2win4Fit', [d,{}) featuremodel\n",
      "TIMING : computefeature time = 0.015552 on 2017-05-21 11:54:38 with args: ((<featureapp.FeatureCodes.AnonymousUser.features object at 0x7f09f0c06f50>, 'CCI50', [datetime.date(,{}) featuremodel\n",
      "TIMING : computefeature time = 0.02657 on 2017-05-21 11:54:38 with args: ((<featureapp.FeatureCodes.AnonymousUser.features object at 0x7f09f0c06f50>, 'FutPROFIT10days', [date,{}) featuremodel\n",
      "TIMING : computefeature time = 0.015416 on 2017-05-21 11:54:38 with args: ((<featureapp.FeatureCodes.AnonymousUser.features object at 0x7f09f0c06f50>, 'PastPROFIT10days', [dat,{}) featuremodel\n",
      "TIMING : computefeature time = 0.016716 on 2017-05-21 11:54:38 with args: ((<featureapp.FeatureCodes.AnonymousUser.features object at 0x7f09f0c06f50>, 'CCI5', [datetime.date(2,{}) featuremodel\n",
      "TIMING : computefeature time = 0.021646 on 2017-05-21 11:54:38 with args: ((<featureapp.FeatureCodes.AnonymousUser.features object at 0x7f09f0c06f50>, 'FutPROFIT90days', [date,{}) featuremodel\n",
      "TIMING : computefeature time = 0.015611 on 2017-05-21 11:54:38 with args: ((<featureapp.FeatureCodes.AnonymousUser.features object at 0x7f09f0c06f50>, 'EMA8', [datetime.date(2,{}) featuremodel\n",
      "TIMING : computefeature time = 0.016705 on 2017-05-21 11:54:38 with args: ((<featureapp.FeatureCodes.AnonymousUser.features object at 0x7f09f0c06f50>, 'FutPROFIT30days', [date,{}) featuremodel\n",
      "TIMING : computefeature time = 0.016458 on 2017-05-21 11:54:38 with args: ((<featureapp.FeatureCodes.AnonymousUser.features object at 0x7f09f0c06f50>, 'FutLOSS10days', [dateti,{}) featuremodel\n",
      "TIMING : computefeature time = 0.049104 on 2017-05-21 11:54:38 with args: ((<featureapp.FeatureCodes.AnonymousUser.features object at 0x7f09f0c06f50>, 'PastPROFIT30days', [dat,{}) featuremodel\n",
      "TIMING : computefeature time = 0.016894 on 2017-05-21 11:54:38 with args: ((<featureapp.FeatureCodes.AnonymousUser.features object at 0x7f09f0c06f50>, 'PastLOSS30days', [datet,{}) featuremodel\n",
      "Done compute\n",
      "Done save\n",
      "TIMING : saveall time = 23.070629 on 2017-05-21 11:55:07 with args: ((<featureapp.FeatureCodes.AnonymousUser.features object at 0x7f09f0c06f50>,),{}) saveallfeatures\n"
     ]
    }
   ],
   "source": [
    "featurecodes=ftmd.FeatureComputeCode.objects.all()\n",
    "for computecode in featurecodes:\n",
    "    computeclass=computecode.importcomputeclass()\n",
    "    CC=computeclass(6264,Trange)\n",
    "    CC.computeall(skipdone=True)\n",
    "    CC.saveall()\n",
    "#     del CC\n",
    "\n"
   ]
  },
  {
   "cell_type": "code",
   "execution_count": 4,
   "metadata": {},
   "outputs": [
    {
     "name": "stdout",
     "output_type": "stream",
     "text": [
      "(3414, 24)\n",
      "2003-10-17\n"
     ]
    },
    {
     "data": {
      "text/plain": [
       "{u'EMA8_max': 15.771658653846158,\n",
       " u'EMA8_mean': 15.58627606242527,\n",
       " u'EMA8_min': 15.35,\n",
       " u'EMAstd8_max': 0.2828427124746193,\n",
       " u'EMAstd8_mean': 0.25137579201042914,\n",
       " u'EMAstd8_min': 0.21546431367240648,\n",
       " u'err': [-0.75,\n",
       "  -0.22500000000000142,\n",
       "  0.10155440414507666,\n",
       "  -0.02165865384615806],\n",
       " u'err_max': 0.10155440414507666,\n",
       " u'err_mean': -0.2237760624252707,\n",
       " u'err_min': -0.75,\n",
       " u'poly': [-0.16205326449780852, 0.7373176377540855, -0.76256609331407]}"
      ]
     },
     "execution_count": 4,
     "metadata": {},
     "output_type": "execute_result"
    }
   ],
   "source": [
    "print CC.df.shape\n",
    "print CC.df.index[2]\n",
    "CC.df['EMALowPoly2win4Fit'].iloc[2]"
   ]
  },
  {
   "cell_type": "code",
   "execution_count": 5,
   "metadata": {},
   "outputs": [
    {
     "data": {
      "text/plain": [
       "3414"
      ]
     },
     "execution_count": 5,
     "metadata": {},
     "output_type": "execute_result"
    }
   ],
   "source": [
    "Trange=[T.date() for T in pd.date_range(pd.datetime(2002,1,1),pd.datetime.today()) if T.weekday()<=4]\n",
    "ftmd.FeaturesData.objects.filter(Symbol__id=6264,T__in=Trange).count()"
   ]
  },
  {
   "cell_type": "code",
   "execution_count": null,
   "metadata": {},
   "outputs": [],
   "source": [
    "Trange[-100:]"
   ]
  },
  {
   "cell_type": "code",
   "execution_count": 7,
   "metadata": {},
   "outputs": [
    {
     "name": "stdout",
     "output_type": "stream",
     "text": [
      "TIMING : GetFeature time = 0.683464 on 2017-05-21 11:56:10 with args: ((),{'Symbolids': [6264]}) \n",
      "(3414, 21)\n",
      "2003-10-17 00:00:00\n"
     ]
    },
    {
     "data": {
      "text/plain": [
       "{u'EMA8_max': 15.771658653846158,\n",
       " u'EMA8_mean': 15.58627606242527,\n",
       " u'EMA8_min': 15.35,\n",
       " u'EMAstd8_max': 0.2828427124746193,\n",
       " u'EMAstd8_mean': 0.25137579201042914,\n",
       " u'EMAstd8_min': 0.21546431367240648,\n",
       " u'err': [-0.75,\n",
       "  -0.22500000000000142,\n",
       "  0.10155440414507666,\n",
       "  -0.02165865384615806],\n",
       " u'err_max': 0.10155440414507666,\n",
       " u'err_mean': -0.2237760624252707,\n",
       " u'err_min': -0.75,\n",
       " u'poly': [-0.16205326449780852, 0.7373176377540855, -0.76256609331407]}"
      ]
     },
     "execution_count": 7,
     "metadata": {},
     "output_type": "execute_result"
    }
   ],
   "source": [
    "df=ftlibs.GetFeature(Symbolids=[6264])\n",
    "print df.shape\n",
    "print df.index[2]\n",
    "df['EMALowPoly2win4Fit'].iloc[2]\n",
    "# df.index"
   ]
  },
  {
   "cell_type": "code",
   "execution_count": null,
   "metadata": {
    "collapsed": true
   },
   "outputs": [],
   "source": [
    "df[['EMA8','EMAstd8']]"
   ]
  },
  {
   "cell_type": "code",
   "execution_count": null,
   "metadata": {},
   "outputs": [],
   "source": [
    "df['FutPROFIT30days']\n"
   ]
  },
  {
   "cell_type": "code",
   "execution_count": null,
   "metadata": {
    "collapsed": true
   },
   "outputs": [],
   "source": []
  },
  {
   "cell_type": "code",
   "execution_count": null,
   "metadata": {},
   "outputs": [],
   "source": [
    "CC.saveall()"
   ]
  },
  {
   "cell_type": "code",
   "execution_count": null,
   "metadata": {
    "collapsed": true
   },
   "outputs": [],
   "source": []
  },
  {
   "cell_type": "code",
   "execution_count": null,
   "metadata": {},
   "outputs": [],
   "source": [
    "def replaceNaN2None(x):\n",
    "    print x\n",
    "    if type(x)==list:\n",
    "        for i in range(len(x)):\n",
    "            x[i]=replaceNaN2None(x[i])\n",
    "\n",
    "        return x\n",
    "    elif type(x)==tuple:\n",
    "        a=[]\n",
    "        for i in range(len(x)):\n",
    "            a.append(replaceNaN2None(x[i]))\n",
    "        x=tuple(a)\n",
    "        return x\n",
    "\n",
    "    elif type(x)==dict:\n",
    "        for k,v in x.items():\n",
    "            x[k]=replaceNaN2None(v)\n",
    "        return x\n",
    "    else:\n",
    "        if pd.isnull(x):\n",
    "            return None\t\n",
    "        else:\n",
    "            return x\n",
    "\n",
    "D={'a':[1,2,np.nan],'b':{'c':None,'d':['a',np.nan,'gg',None]}}\n",
    "E=replaceNaN2None(D)\n",
    "E"
   ]
  },
  {
   "cell_type": "code",
   "execution_count": null,
   "metadata": {},
   "outputs": [],
   "source": [
    "import logging\n",
    "logger=logging.getLogger('debug')\n",
    "logger.info(\"timing\")"
   ]
  },
  {
   "cell_type": "code",
   "execution_count": null,
   "metadata": {},
   "outputs": [],
   "source": [
    "logger"
   ]
  },
  {
   "cell_type": "code",
   "execution_count": null,
   "metadata": {
    "collapsed": true
   },
   "outputs": [],
   "source": []
  },
  {
   "cell_type": "code",
   "execution_count": null,
   "metadata": {},
   "outputs": [],
   "source": [
    "stk.id"
   ]
  },
  {
   "cell_type": "markdown",
   "metadata": {},
   "source": [
    "\n",
    "# Running Features"
   ]
  },
  {
   "cell_type": "code",
   "execution_count": null,
   "metadata": {},
   "outputs": [],
   "source": [
    "print \"---------------- features-------------------\"\n",
    "featurecodes=ftmd.FeatureComputeCode.objects.all()\n",
    "computecode=featurecodes[0]\n",
    "computeclass=computecode.importcomputeclass()\n",
    "CF=computeclass(stk.id,Trange)\n",
    "CF.computeall(skipdone=True)\n",
    "# CF.saveall()\n",
    "print CF.getfeaturelist()\n",
    "\n",
    "CF.df=CF.addindicators(CF.df,[\n",
    "        {'name':'SMAstd','timeperiod':20,'colname':'SMAstd20'},\n",
    "        {'name':'EMAstd','timeperiod':8,'colname':'EMAstd8'},\n",
    "    ])"
   ]
  },
  {
   "cell_type": "code",
   "execution_count": null,
   "metadata": {
    "scrolled": false
   },
   "outputs": [],
   "source": [
    "print \"---------------- Queries-------------------\"\n",
    "querycodes=qrymd.QueryComputeCode.objects.all()\n",
    "computecode=querycodes[0]\n",
    "computeclass=computecode.importcomputeclass()\n",
    "CQ=computeclass(stk.id,Trange)\n",
    "CQ.df=CF.df.copy()\n",
    "CQ.computeall(skipdone=True)\n",
    "# CQ.saveall()\n",
    "print CQ.OutcomeCharts()\n",
    "\n",
    "CQ.OutcomeCharts(perf=['FutPROFIT10days','FutLOSS10days','FutPROFIT30days','FutLOSS30days'])\n",
    "\n",
    "# CQ.chartfeatures(addpricecols=(),addfeatcols=[\n",
    "#     ['CCI5','CCI50'],\n",
    "#     ['PastPROFIT10days','PastLOSS10days','PastPROFIT30days','PastLOSS30days'],\n",
    "# #     [],\n",
    "# #     ['FutPROFIT10days','FutLOSS10days']\n",
    "# ],\n",
    "#  addquerycols=[\n",
    "#     'CCICHERRIES',\n",
    "# ],\n",
    "# ip=5562)"
   ]
  },
  {
   "cell_type": "code",
   "execution_count": null,
   "metadata": {},
   "outputs": [],
   "source": [
    "# CQ.chartfeatures(addpricecols=(),addfeatcols=[\n",
    "# #     ['CCI5','CCI50'],\n",
    "#     ['PastPROFIT10days','PastLOSS10days','PastPROFIT30days','PastLOSS30days'],\n",
    "# #     [],\n",
    "# #     ['FutPROFIT10days','FutLOSS10days']\n",
    "# ],\n",
    "#  addquerycols=[\n",
    "#     'CCICHERRIES','SMA20BOUNCE1','SMA20BOUNCE2','SMA20BOUNCE3'\n",
    "# ],\n",
    "# ip=5562)\n",
    "\n",
    "\n",
    "CQ.chartfeatures(addpricecols=(),addfeatcols=[\n",
    "#     ['CCI5','CCI50'],\n",
    "    ['PastPROFIT10days','PastLOSS10days','PastPROFIT30days','PastLOSS30days'],\n",
    "#     [],\n",
    "#     ['FutPROFIT10days','FutLOSS10days']\n",
    "],\n",
    " addquerycols=[\n",
    "    'CHERRYSMABOUNCE',\n",
    "],\n",
    "ip=5562)"
   ]
  },
  {
   "cell_type": "code",
   "execution_count": null,
   "metadata": {
    "collapsed": true
   },
   "outputs": [],
   "source": [
    "import json\n",
    "import simplejson\n",
    "def applyrollingfunc(df,newcolname,func,window,edge='right'):\n",
    "    df[newcolname]=np.nan\n",
    "    for i in range(1,len(df)-1):\n",
    "        if edge=='right':\n",
    "            dw=df.loc[ df.index[i-window:i],:  ]\n",
    "        elif edge=='left':\n",
    "            dw=df.loc[ df.index[i:i+window],:  ]\n",
    "        else:\n",
    "            dw=df.loc[ df.index[max(i-int(window/2),0):i+int(window/2)],:  ]\n",
    "        df.loc[df.index[i],newcolname]=func(dw)\n",
    "        \n",
    "    return df[newcolname]\n",
    "\n",
    "def getsignal(dw):\n",
    "    n=int( len(dw)/2.0 )\n",
    "    err=(dw['Low']-dw['SMA20']).values\n",
    "    p=np.polyfit(np.arange(len(err)),err,2)\n",
    "    mid=dw.index[n]\n",
    "#     print p,mid\n",
    "    if p[0]>0 and abs(min(err))<=0.5*dw['SMAstd20'].mean():\n",
    "        return 1\n",
    "    else:\n",
    "        return 0\n",
    "def getsignal(dw):\n",
    "    n=int( len(dw)/2.0 )\n",
    "    err=(dw['Low']-dw['SMA20']).values\n",
    "    p=np.polyfit(np.arange(len(err)),err,2)\n",
    "    s=[]\n",
    "    for a in p:\n",
    "        if np.isnan(a):\n",
    "            s.append(None)\n",
    "        else:\n",
    "            s.append(a)\n",
    "    return json.dumps( {'poly':s,'SMAstd20_mean':dw['SMAstd20'].mean(),'SMAstd20_max':dw['SMAstd20'].max(),'SMAstd20_min':dw['SMAstd20'].min()})\n",
    "\n",
    "def getbouncefeatures(dw):\n",
    "    n=int( len(dw)/2.0 )\n",
    "    err=(dw['Low']-dw['SMA20']).values\n",
    "    p=np.polyfit(np.arange(len(err)),err,2)\n",
    "    p=map(lambda x : None if np.isnan(x) else x,p)\n",
    "    return json.dumps({'poly':p,\n",
    "                        'err_mean':np.mean(err),'err_max':max(err),'err_min':min(err),\n",
    "                        'SMAstd20_mean':dw['SMAstd20'].mean(),'SMAstd20_max':dw['SMAstd20'].max(),'SMAstd20_min':dw['SMAstd20'].min()\n",
    "                        })\n",
    "\n",
    "CF.df['SMALowPoly2win4Fit']=applyrollingfunc(CF.df,'SMALowPoly2win4Fit',getbouncefeatures,4,edge='center')\n",
    "\n",
    "# CF.df=applyrollingfunc(CF.df,'mysignal',getsignal,4,edge='center')\n",
    "# print CF.df.shape,CF.df[CF.df['mysignal']==1].shape\n",
    "# CQ.chartfeatures(addpricecols=(),addfeatcols=[\n",
    "# #     ['CCI5','CCI50'],\n",
    "#     ['PastPROFIT10days','PastLOSS10days','PastPROFIT30days','PastLOSS30days'],\n",
    "# #     [],\n",
    "# #     ['FutPROFIT10days','FutLOSS10days']\n",
    "# ],\n",
    "#  addquerycols=[\n",
    "#     'mysignal','CCICHERRIES'\n",
    "# ],\n",
    "# ip=5562)"
   ]
  },
  {
   "cell_type": "code",
   "execution_count": null,
   "metadata": {},
   "outputs": [],
   "source": [
    "CF.df['SMALowPoly2win4Fit'].iloc[1]"
   ]
  },
  {
   "cell_type": "code",
   "execution_count": null,
   "metadata": {
    "collapsed": true
   },
   "outputs": [],
   "source": []
  },
  {
   "cell_type": "markdown",
   "metadata": {},
   "source": [
    "# Running Queries"
   ]
  },
  {
   "cell_type": "code",
   "execution_count": null,
   "metadata": {},
   "outputs": [],
   "source": [
    "querycodes=qrymd.QueryComputeCode.objects.all()\n",
    "computecode=querycodes[0]\n",
    "computeclass=computecode.importcomputeclass()\n",
    "CQ=computeclass(stk.id,Trange)\n",
    "CQ.computeall(skipdone=True)\n",
    "CQ.saveall()"
   ]
  },
  {
   "cell_type": "code",
   "execution_count": null,
   "metadata": {},
   "outputs": [],
   "source": [
    "CQ.OutcomeCharts()"
   ]
  },
  {
   "cell_type": "code",
   "execution_count": null,
   "metadata": {},
   "outputs": [],
   "source": [
    "CQ.getquerylist()"
   ]
  },
  {
   "cell_type": "code",
   "execution_count": null,
   "metadata": {},
   "outputs": [],
   "source": [
    "CQ.chartfeatures(addpricecols=(),ip=5562,\n",
    "addfeatcols=[\n",
    "    ['CCI5','CCI50'],\n",
    "    ['PastPROFIT10days','PastLOSS10days'],['FutPROFIT10days','FutLOSS10days']\n",
    "],\n",
    "addquerycols=[\n",
    "    'CCICHERRIES',\n",
    "]\n",
    ")"
   ]
  },
  {
   "cell_type": "code",
   "execution_count": null,
   "metadata": {
    "collapsed": true
   },
   "outputs": [],
   "source": []
  },
  {
   "cell_type": "code",
   "execution_count": null,
   "metadata": {
    "collapsed": true
   },
   "outputs": [],
   "source": []
  },
  {
   "cell_type": "code",
   "execution_count": null,
   "metadata": {
    "collapsed": true
   },
   "outputs": [],
   "source": []
  },
  {
   "cell_type": "code",
   "execution_count": null,
   "metadata": {
    "collapsed": true
   },
   "outputs": [],
   "source": []
  },
  {
   "cell_type": "markdown",
   "metadata": {},
   "source": [
    "# Misc"
   ]
  },
  {
   "cell_type": "code",
   "execution_count": null,
   "metadata": {},
   "outputs": [],
   "source": [
    "def applyrollingfunc(df,newcolname,func,window,edge='right'):\n",
    "    df[newcolname]=np.nan\n",
    "    for i in range(1,len(df)-1):\n",
    "        if edge=='right':\n",
    "            dw=df.loc[ df.index[i-window:i],:  ]\n",
    "        elif edge=='left':\n",
    "            dw=df.loc[ df.index[i:i+window],:  ]\n",
    "        else:\n",
    "            dw=df.loc[ df.index[max(i-int(window/2),0):i+int(window/2)],:  ]\n",
    "        df.loc[df.index[i],newcolname]=func(dw)\n",
    "        \n",
    "    return df\n",
    "\n",
    "def getsignal(dw):\n",
    "    n=int( len(dw)/2.0 )\n",
    "    err=(dw['Low']-dw['SMA20']).values\n",
    "    p=np.polyfit(np.arange(len(err)),err,2)\n",
    "    mid=dw.index[n]\n",
    "    \n",
    "    if len(err[err>0])>len(err)/2 and p[0]>=0 and min(err)<=0.3*dw['SMAstd20'].max():\n",
    "        return 1\n",
    "    else:\n",
    "        return 0\n",
    "    \n",
    "CF.df=applyrollingfunc(CF.df,'mysignal',getsignal,10,edge='center')\n",
    "print CF.df.shape,CF.df[CF.df['mysignal']==1].shape\n",
    "CQ.chartfeatures(addpricecols=(),addfeatcols=[\n",
    "    ['CCI5','CCI50'],\n",
    "    ['PastPROFIT10days','PastLOSS10days','PastPROFIT30days','PastLOSS30days'],\n",
    "#     [],\n",
    "#     ['FutPROFIT10days','FutLOSS10days']\n",
    "],\n",
    " addquerycols=[\n",
    "    'CCICHERRIES','mysignal',\n",
    "],\n",
    "ip=5562)"
   ]
  },
  {
   "cell_type": "code",
   "execution_count": null,
   "metadata": {},
   "outputs": [],
   "source": [
    "window=10\n",
    "i=4\n",
    "# CF.df.index[[1,2,3,4]]\n",
    "range(max(i-int(window/2),0),i+int(window/2) )\n",
    "CF.df.loc[ CF.df.index[max(i-int(window/2),0):i+int(window/2)],:  ]"
   ]
  },
  {
   "cell_type": "code",
   "execution_count": null,
   "metadata": {
    "collapsed": true
   },
   "outputs": [],
   "source": []
  },
  {
   "cell_type": "code",
   "execution_count": null,
   "metadata": {
    "collapsed": true
   },
   "outputs": [],
   "source": []
  },
  {
   "cell_type": "code",
   "execution_count": null,
   "metadata": {
    "collapsed": true
   },
   "outputs": [],
   "source": []
  },
  {
   "cell_type": "code",
   "execution_count": null,
   "metadata": {
    "collapsed": true
   },
   "outputs": [],
   "source": []
  },
  {
   "cell_type": "markdown",
   "metadata": {
    "collapsed": true
   },
   "source": [
    "# Add Index"
   ]
  },
  {
   "cell_type": "code",
   "execution_count": null,
   "metadata": {},
   "outputs": [],
   "source": []
  },
  {
   "cell_type": "markdown",
   "metadata": {},
   "source": [
    "# Building Query"
   ]
  },
  {
   "cell_type": "code",
   "execution_count": null,
   "metadata": {
    "collapsed": true
   },
   "outputs": [],
   "source": []
  },
  {
   "cell_type": "code",
   "execution_count": null,
   "metadata": {
    "collapsed": true
   },
   "outputs": [],
   "source": [
    "\n",
    "\n"
   ]
  },
  {
   "cell_type": "code",
   "execution_count": null,
   "metadata": {
    "collapsed": true
   },
   "outputs": [],
   "source": [
    "url='http://ec2-54-183-21-11.us-west-1.compute.amazonaws.com:8080/?symbols=TSLA,MSFT,AAPL&from=2012-01-01&to=2017-01-01'\n",
    "import urllib2\n",
    "response = urllib2.urlopen(url)\n",
    "html = response.read()\n",
    "D=json.loads(html)"
   ]
  },
  {
   "cell_type": "code",
   "execution_count": null,
   "metadata": {},
   "outputs": [],
   "source": [
    "D['query']"
   ]
  },
  {
   "cell_type": "code",
   "execution_count": null,
   "metadata": {},
   "outputs": [],
   "source": [
    "print len(D['result'])\n",
    "# pd.DataFrame(D['result'])\n",
    "df=pd.DataFrame()\n",
    "for d in D['result']:\n",
    "    df=pd.concat([df,pd.DataFrame(d['quotes'])])\n",
    "df['date']=df['date'].apply(lambda x : pd.to_datetime(x))\n",
    "df"
   ]
  },
  {
   "cell_type": "code",
   "execution_count": null,
   "metadata": {
    "scrolled": false
   },
   "outputs": [],
   "source": [
    "Todate=pd.datetime(2017,1,1).date()\n",
    "Fromdate=pd.datetime(2014,8,1).date()\n",
    "stk=stkmd.Stockmeta.objects.get(Symbol='AAPL')\n",
    "df=dtalibs.GetStockData([stk.id],Fromdate,Todate,'concat')\n",
    "\n",
    "# uses close prices (default)\n",
    "df[['Open','High','Low','Close','Volume']]\n",
    "inputs1 = {\n",
    "    'open': df['Open'].values,\n",
    "    'high': df['High'].values,\n",
    "    'low': df['Low'].values,\n",
    "    'close': df['Close'].values,\n",
    "    'volume': df['Volume'].values\n",
    "}\n",
    "output = SMA(inputs1, timeperiod=25)\n",
    "df['sma20']=df['Close'].rolling(window=20).mean()\n",
    "df['smastd20']=df['Close'].rolling(window=20).std()\n",
    "df['ema20']=df['Close'].ewm(span=20).mean()\n",
    "df['emastd20']=df['Close'].ewm(span=20).std(bias=False)\n",
    "\n",
    "df['ema8']=df['Close'].ewm(span=8).mean()\n",
    "df['emastd8']=df['Close'].ewm(span=8).std(bias=False)\n",
    "\n",
    "\n",
    "df['sma50']=df['Close'].rolling(window=50).mean()\n",
    "df['smastd50']=df['Close'].rolling(window=50).std()\n",
    "df['ema50']=df['Close'].ewm(span=50).mean()\n",
    "df['emastd50']=df['Close'].ewm(span=50).std(bias=False)\n",
    "\n",
    "df['cci5'] = CCI(inputs1, timeperiod=5)\n",
    "df['cci50']= CCI(inputs1, timeperiod=50)\n",
    "df['hasCherries']=(df['cci50']-df['cci5'])>180\n",
    "\n",
    "def sequentialcluster(dp):\n",
    "    dp['date']=dp.index.copy()\n",
    "    dp.index=range(len(dp))\n",
    "    C=[]\n",
    "    c=[]\n",
    "    for i in dp.index[1:]:\n",
    "        if (dp.loc[i,'date']-dp.loc[i-1,'date']).days<=1:\n",
    "                c.append(dp.loc[i-1,'date'])\n",
    "        else:\n",
    "            if len(c)==0:\n",
    "                c=[dp.loc[i-1,'date']]\n",
    "            C.append(c)\n",
    "            c=[]\n",
    "    \n",
    "    C=[c[int(len(c)/2)] for c in C if len(c)>0]\n",
    "    dC=dp[dp['date'].isin(C)].copy()\n",
    "    dC.index=dC['date'].copy()\n",
    "    dC=dC[dC[\"Close\"]>=dC['sma20']].copy()\n",
    "    \n",
    "#     for ind in dC.index:\n",
    "    return dC\n",
    "        \n",
    "# C=sequentialcluster(dbsma20)\n",
    "\n",
    "\n",
    "dp=df[(df.index<Todate) & (df.index>Fromdate)].copy()\n",
    "\n",
    "dbsma20=dp[abs(dp['Close']-dp['ema20'])/dp['ema20']<= 0.6*dp['emastd20']/dp['ema20']].copy()\n",
    "# kmeans = KMeans(n_clusters=30, random_state=0).fit(dbsma20['date'].values.reshape(-1,1))\n",
    "# dateclusters=[pd.to_datetime(f) for f in kmeans.cluster_centers_.reshape(1,-1)[0]]\n",
    "\n",
    "dC=sequentialcluster(dbsma20)\n",
    "idx=[]\n",
    "print len(dC)\n",
    "for i in range(len(dC)):\n",
    "    for j in range(len(dp)):\n",
    "        if dp.index[j]==dC.index[i]:\n",
    "            break\n",
    "            \n",
    "    if (dp.loc[dp.index[j-2]:dp.index[j+3],'Close']-dp.loc[dp.index[j-2]:dp.index[j+3],'sma20']).min()>0:\n",
    "        idx.append(i)\n",
    "dC=dC.iloc[idx]\n",
    "\n",
    "fig,ax=plt.subplots(1,1,figsize=(15,7))\n",
    "ax.plot(dp.index,dp['Close'],linewidth=3,label='close')\n",
    "ax.plot(dp.index,dp['sma20'],'--',label='sma20')\n",
    "ax.plot(dp.index,dp['sma50'],'--',label='sma50')\n",
    "# ax.plot(dp.index,dp['sma20']+1*dp['smastd20'],'k--',label='+std20')\n",
    "# ax.plot(dp.index,dp['sma20']-1*dp['smastd20'],'k--',label='-std20')\n",
    "dc=dp[(dp['hasCherries']==True) & (dp['cci50']>100)].copy()\n",
    "ax.plot(dc.index,dc['Close'],'r',marker='o',linestyle='',label='cherry')\n",
    "ax.plot(dC.index,dC['Close'],'k',marker='*',markersize=10,linestyle='',label='bounce')\n",
    "\n",
    "\n",
    "ax.legend()\n",
    "fig,ax=plt.subplots(1,1,figsize=(15,2))\n",
    "ax.plot(dp.index,dp['Volume'])\n",
    "plt.show()"
   ]
  },
  {
   "cell_type": "code",
   "execution_count": null,
   "metadata": {
    "collapsed": true
   },
   "outputs": [],
   "source": [
    "def convexity()"
   ]
  },
  {
   "cell_type": "code",
   "execution_count": null,
   "metadata": {
    "scrolled": true
   },
   "outputs": [],
   "source": [
    "Todate=pd.datetime(2017,5,1).date()\n",
    "Fromdate=pd.datetime(2010,8,1).date()\n",
    "stk=stkmd.Stockmeta.objects.get(Symbol='TSLA')\n",
    "df=dtalibs.GetStockData([stk.id],Fromdate,Todate,'concat')\n",
    "\n",
    "# uses close prices (default)\n",
    "df[['Open','High','Low','Close','Volume']]\n",
    "inputs1 = {\n",
    "    'open': df['Open'].values,\n",
    "    'high': df['High'].values,\n",
    "    'low': df['Low'].values,\n",
    "    'close': df['Close'].values,\n",
    "    'volume': df['Volume'].values\n",
    "}\n",
    "output = SMA(inputs1, timeperiod=25)\n",
    "df['sma20']=df['Close'].rolling(window=20).mean()\n",
    "df['smastd20']=df['Close'].rolling(window=20).std()\n",
    "df['ema20']=df['Close'].ewm(span=20).mean()\n",
    "df['emastd20']=df['Close'].ewm(span=20).std(bias=False)\n",
    "\n",
    "df['ema8']=df['Close'].ewm(span=8).mean()\n",
    "df['emastd8']=df['Close'].ewm(span=8).std(bias=False)\n",
    "\n",
    "\n",
    "df['sma50']=df['Close'].rolling(window=50).mean()\n",
    "df['smastd50']=df['Close'].rolling(window=50).std()\n",
    "df['ema50']=df['Close'].ewm(span=50).mean()\n",
    "df['emastd50']=df['Close'].ewm(span=50).std(bias=False)\n",
    "\n",
    "df['cci5'] = CCI(inputs1, timeperiod=5)\n",
    "df['cci50']= CCI(inputs1, timeperiod=50)\n",
    "df['hasCherries']=(df['cci50']-df['cci5'])>180\n",
    "df['datenum']=date2num(df.index)\n",
    "\n",
    "def feature1(df,label=None):\n",
    "#     dp=df[(df['hasCherries']==True) & (df['cci50']>100)].copy()\n",
    "#     dp=df[df['cci50']>50].copy()\n",
    "    dp=df.copy()\n",
    "    dp['date']=dp.index.copy()\n",
    "    dp['bottom']=dp[['Open','Close']].min(axis=1)\n",
    "\n",
    "    dbsma20=dp[abs(dp['Low']-dp['ema20'])/dp['ema20']<= 0.2*dp['emastd20']/dp['ema20']].copy()\n",
    "#     dbsma20=dp[abs(dp['bottom']-dp['sma20'])/dp['sma20']<= 0.3*dp['smastd20']/dp['sma20']].copy()\n",
    "    \n",
    "#     dbsma20.index=range(len(dbsma20))\n",
    "#     C=[]\n",
    "#     c=[]\n",
    "#     for i in dbsma20.index[1:]:\n",
    "#         if (dbsma20.loc[i,'date']-dbsma20.loc[i-1,'date']).days<=1:\n",
    "#                 c.append(dbsma20.loc[i-1,'date'])\n",
    "#         else:\n",
    "#             if len(c)==0:\n",
    "#                 c=[dbsma20.loc[i-1,'date']]\n",
    "#             C.append(c)\n",
    "#             c=[]\n",
    "    \n",
    "#     C=[c[int(len(c)/2)] for c in C if len(c)>0]\n",
    "#     dC=dbsma20[dbsma20['date'].isin(C)].copy()\n",
    "    \n",
    "    \n",
    "    dC=dbsma20\n",
    "    \n",
    "    \n",
    "    dC.index=dC['date'].copy()\n",
    "\n",
    "    idx=[]\n",
    "    print len(dC)\n",
    "    for i in range(len(dC)):\n",
    "        for j in range(len(df)):\n",
    "            if df.index[j]==dC.index[i]:\n",
    "                break\n",
    "#         if (df.loc[df.index[j-3]:df.index[j],'Low']-df.loc[df.index[j-3]:df.index[j],'sma20']).min()>0:\n",
    "#             idx.append(i)\n",
    "#     dC=dC.iloc[idx]\n",
    "    \n",
    "    df['SMA20bounce']=False\n",
    "    for ind in dC.index:\n",
    "        df.loc[ind,'SMA20bounce']=True\n",
    "        ix=np.argwhere(df.index==ind)[0,0]\n",
    "#         if np.any(df.loc[df.index[ix-10:ix+10],'hasCherries'].values==True):\n",
    "#             df.loc[ind,'SMA20bounce']=True\n",
    "#         else:\n",
    "#             df.loc[ind,'SMA20bounce']=False\n",
    "            \n",
    "    return df\n",
    "\n",
    "def GetPerformance(df,label):\n",
    "    df['3monProf']=np.nan\n",
    "    df['6monProf']=np.nan\n",
    "    df['3monLoss']=np.nan\n",
    "    df['6monLoss']=np.nan\n",
    "    for ind in df[df[label]==True].index:\n",
    "        S=df.loc[ind:(ind+pd.DateOffset(90)).date(),'Close']-df.loc[ind,'Close']\n",
    "        df.loc[ind,'3monProf']=100*S[S>0].max()/df.loc[ind,'Close']\n",
    "        df.loc[ind,'3monLoss']=100*S[S<0].min()/df.loc[ind,'Close']\n",
    "        \n",
    "        S=df.loc[ind:(ind+pd.DateOffset(180)).date(),'Close']-df.loc[ind,'Close']\n",
    "        df.loc[ind,'6monProf']=100*S[S>0].max()/df.loc[ind,'Close']\n",
    "        df.loc[ind,'6monLoss']=100*S[S<0].min()/df.loc[ind,'Close']\n",
    "    return df\n",
    "\n",
    "def MakeChart(dF,T0,T,featcols):\n",
    "    df=dF[T0:T].copy()\n",
    "    autodate=AutoDateLocator()\n",
    "    mondays = WeekdayLocator(MONDAY)        # major ticks on the mondays\n",
    "    alldays = DayLocator()              # minor ticks on the days\n",
    "    weekFormatter = DateFormatter('%Y %b %d')  # e.g., Jan 12\n",
    "    dayFormatter = DateFormatter('%d')      # e.g., 12\n",
    "\n",
    "    fig, ax = plt.subplots(figsize=(30,10))\n",
    "    fig.subplots_adjust(bottom=0.2)\n",
    "    ax.xaxis.set_major_locator(autodate)\n",
    "    ax.xaxis.set_minor_locator(alldays)\n",
    "    ax.xaxis.set_major_formatter(weekFormatter)\n",
    "    #ax.xaxis.set_minor_formatter(dayFormatter)\n",
    "\n",
    "    quotes=[tuple(x) for x in df[['datenum','Open','High','Low','Close']].to_records(index=False)]\n",
    "    #plot_day_summary(ax, quotes, ticksize=3)\n",
    "    # candlestick2_ochl(ax, df['Open'], df['Close'], df['High'], df['Low'], width=4, colorup='k', colordown='r', alpha=0.75)\n",
    "    candlestick_ohlc(ax, quotes, width=0.6)\n",
    "    ax.plot(df['datenum'],df['sma20'],'--',label='sma20')\n",
    "    ax.plot(df['datenum'],df['sma50'],'--',label='sma50')\n",
    "    # ax.plot(dp.index,dp['sma20']+1*dp['smastd20'],'k--',label='+std20')\n",
    "    # ax.plot(dp.index,dp['sma20']-1*dp['smastd20'],'k--',label='-std20')\n",
    "#     dc=dp[(dp['hasCherries']==True) & (dp['cci50']>100)].copy()\n",
    "    for ff in  featcols:\n",
    "        dp=df[df[ff]==True]\n",
    "        ax.plot(dp['datenum'],dp['Close'],'r',marker='o',markersize=20,linestyle='',label=ff)\n",
    "#     ax.plot(dC['datenum'],dC['Close'],'k',marker='*',markersize=10,linestyle='',label='bounce')\n",
    "#     ax.arrow( dC['datenum'].iloc[0], dC['Close'].iloc[0]+1,0, 1, fc=\"k\", ec=\"k\",head_width=0.05, head_length=0.1 )\n",
    "\n",
    "    ax.xaxis_date()\n",
    "    ax.autoscale_view()\n",
    "    plt.setp(plt.gca().get_xticklabels(), rotation=45, horizontalalignment='right')\n",
    "\n",
    "    plt.show()\n",
    "    # mpld3.show()\n",
    "    # mpld3.display(fig)\n",
    "\n",
    "    \n",
    "\n",
    "df=feature1(df,label=None)\n",
    "MakeChart(df,pd.datetime(2010,1,1).date(),pd.datetime(2011,1,1).date(),['SMA20bounce'])\n",
    "MakeChart(df,pd.datetime(2011,1,1).date(),pd.datetime(2012,1,1).date(),['SMA20bounce'])\n",
    "MakeChart(df,pd.datetime(2012,1,1).date(),pd.datetime(2013,1,1).date(),['SMA20bounce'])\n",
    "MakeChart(df,pd.datetime(2013,1,1).date(),pd.datetime(2014,1,1).date(),['SMA20bounce'])\n",
    "MakeChart(df,pd.datetime(2014,1,1).date(),pd.datetime(2015,1,1).date(),['SMA20bounce'])\n",
    "MakeChart(df,pd.datetime(2015,1,1).date(),pd.datetime(2016,1,1).date(),['SMA20bounce'])\n",
    "MakeChart(df,pd.datetime(2016,1,1).date(),pd.datetime(2017,5,1).date(),['SMA20bounce'])\n",
    "\n",
    "\n",
    "df=GetPerformance(df,'SMA20bounce')\n",
    "plt.figure()\n",
    "df[['3monProf','3monLoss']].hist(figsize=(20,10),bins=20)\n",
    "plt.show()\n",
    "plt.figure()\n",
    "df[['6monProf','6monLoss']].hist(figsize=(20,10),bins=20)\n",
    "plt.show()\n",
    "\n",
    "color = dict(boxes='DarkGreen', whiskers='DarkOrange',medians='DarkBlue', caps='Gray')\n",
    "plt.figure()\n",
    "df[['3monProf','3monLoss','6monProf','6monLoss']].plot.box(color=color, sym='r+')\n",
    "plt.show()"
   ]
  },
  {
   "cell_type": "code",
   "execution_count": null,
   "metadata": {},
   "outputs": [],
   "source": [
    "def MakeChart(df,pricecols,querycols,featcols):\n",
    "    \"\"\"\n",
    "    pricecols are additional columns that have same range as close\n",
    "    querycols are true/false snapped to close price\n",
    "    featcols are additional that are plotted below\n",
    "    \n",
    "    For example:\n",
    "    pricecols=[{'colname':'sma20','plotargs':('g',),'plotkwargs':{'label':'sma20',}},\n",
    "          {'colname':'sma50','plotargs':('r',),'plotkwargs':{'label':'sma50',}}]\n",
    "    querycols=[{'colname':'hasCherries','plotargs':('y',),'plotkwargs':{'label':'hasCherries','marker':'o','markersize':15,'linestyle':''}}]\n",
    "    featcols=[ [{'colname':'cci5','plotargs':('r--',),'plotkwargs':{'label':'cci5',}}],\n",
    "               [ {'colname':'cci50','plotargs':('g',),'plotkwargs':{'label':'cci50',}}]\n",
    "             ]  \n",
    "    \"\"\"\n",
    "#     df=dF[T0:T].copy()\n",
    "#     dfperf=dF[T:(T+pd.DateOffset(360)).date()].copy()\n",
    "    \n",
    "    autodate=AutoDateLocator()\n",
    "    mondays = WeekdayLocator(MONDAY)        # major ticks on the mondays\n",
    "    alldays = DayLocator()              # minor ticks on the days\n",
    "    weekFormatter = DateFormatter('%Y %b %d')  # e.g., Jan 12\n",
    "    dayFormatter = DateFormatter('%d')      # e.g., 12\n",
    "    \n",
    "    Nsubplots=len(featcols)\n",
    "    fig, ax = plt.subplots(1,2,figsize=(15,7+2*Nsubplots))\n",
    "#     plt.figure(num=None, figsize=(30, 10), dpi=80, facecolor='w', edgecolor='k')\n",
    "#     fig.subplots_adjust(bottom=0.2)\n",
    "    ax1 = plt.subplot2grid((2+Nsubplots, 1), (0, 0), rowspan=2)\n",
    "    axft=[]\n",
    "    for i in range(Nsubplots):\n",
    "        axft.append(plt.subplot2grid((2+Nsubplots, 1), (2+i, 0),sharex=ax1))\n",
    "        \n",
    "    ax1.xaxis.set_major_locator(autodate)\n",
    "    ax1.xaxis.set_minor_locator(alldays)\n",
    "    ax1.xaxis.set_major_formatter(weekFormatter)\n",
    "    \n",
    "    \n",
    "\n",
    "    quotes=[tuple(x) for x in df[['datenum','Open','High','Low','Close','Volume']].to_records(index=False)]\n",
    "    ret=candlestick_ohlc(ax1, quotes, width=0.6)\n",
    "    \n",
    "    for prcl in pricecols:\n",
    "        ax1.plot(df['datenum'],df[prcl['colname'] ],*prcl['plotargs'],**prcl['plotkwargs'] )\n",
    "    \n",
    "    L=df['High'].max()-df['Low'].min()\n",
    "    mm=df['Volume'].max()\n",
    "    ax1.bar(df['datenum'],0.5*L*df['Volume']/mm,bottom=df['Low'].min()-1.5,color='y',alpha=0.5)\n",
    "#     volume_overlay3(ax[0], quotes, colorup='k', colordown='r', width=4, alpha=1.0)\n",
    "    \n",
    "    for qcl in  querycols:\n",
    "        dp=df[df[qcl['colname']]==True]\n",
    "        ax1.plot(dp['datenum'],dp['Close'],*qcl['plotargs'],**qcl['plotkwargs'])\n",
    "    \n",
    "    ax1.set_xlim(quotes[0][0],quotes[-1][0])\n",
    "    ax1.set_ylim(df['Low'].min()*0.9,df['High'].max()*1.1)\n",
    "    ax1.xaxis_date()\n",
    "    ax1.xaxis.tick_top()\n",
    "    ax1.autoscale_view()\n",
    "    ax1.legend()\n",
    "    ax1.grid()\n",
    "    \n",
    "    ax12 = ax1.twinx()\n",
    "    ax12.set_ylim(df['Low'].min()*0.9,df['High'].max()*1.1)\n",
    "    ax12.grid()\n",
    "    \n",
    "    plt.setp(ax1.get_xticklabels(), rotation=45, horizontalalignment='left')\n",
    "        \n",
    "    for i in range(len(featcols)):\n",
    "        autodate=AutoDateLocator()\n",
    "        mondays = WeekdayLocator(MONDAY)        # major ticks on the mondays\n",
    "        alldays = DayLocator()              # minor ticks on the days\n",
    "        weekFormatter = DateFormatter('%Y %b %d')  # e.g., Jan 12\n",
    "        dayFormatter = DateFormatter('%d')      # e.g., 12\n",
    "        \n",
    "        axft[i].xaxis.set_major_locator(autodate)\n",
    "        axft[i].xaxis.set_minor_locator(alldays)\n",
    "        axft[i].xaxis.set_major_formatter(weekFormatter)\n",
    "        \n",
    "        ftymax=-1000000\n",
    "        ftymin=100000\n",
    "        for ft in featcols[i]:\n",
    "            axft[i].plot(df['datenum'],df[ ft['colname'] ],*ft['plotargs'],**ft['plotkwargs'])\n",
    "            ftymin=min([ftymin,df[ft['colname']].min()])\n",
    "            ftymax=max([ftymax,df[ft['colname']].max()])\n",
    "\n",
    "#         axft[i].set_ylim(ftymin*0.8,ftymax*1.2)\n",
    "        axft[i].set_xlim(quotes[0][0],quotes[-1][0])\n",
    "        axft[i].autoscale_view()\n",
    "        axft[i].legend()\n",
    "        axft[i].grid()\n",
    "        \n",
    "        if i==len(featcols)-1:\n",
    "            axft[i].xaxis_date()\n",
    "            plt.setp(axft[i].get_xticklabels(), rotation=45, horizontalalignment='right')\n",
    "        else:\n",
    "            axft[i].get_xaxis().set_visible(False)\n",
    "            \n",
    "    plt.show()\n",
    "\n",
    "    \n",
    "pricecols=[{'colname':'sma20','plotargs':('g',),'plotkwargs':{'label':'sma20',}},\n",
    "          {'colname':'sma50','plotargs':('r',),'plotkwargs':{'label':'sma50',}}]\n",
    "querycols=[{'colname':'hasCherries','plotargs':('y',),'plotkwargs':{'label':'hasCherries','marker':'o','markersize':15,'linestyle':''}}]\n",
    "featcols=[ [{'colname':'cci5','plotargs':('r--',),'plotkwargs':{'label':'cci5',}}],\n",
    "           [ {'colname':'cci50','plotargs':('g',),'plotkwargs':{'label':'cci50',}}]\n",
    "         ]  \n",
    "T0=pd.datetime(2010,1,1).date()\n",
    "TF=pd.datetime(2011,1,1).date()\n",
    "MakeChart(df[T0:TF].copy(),pricecols,querycols,featcols)"
   ]
  },
  {
   "cell_type": "code",
   "execution_count": null,
   "metadata": {},
   "outputs": [],
   "source": [
    "df.columns"
   ]
  },
  {
   "cell_type": "code",
   "execution_count": null,
   "metadata": {},
   "outputs": [],
   "source": [
    "import pickle as pkl\n",
    "import zlib\n",
    "msg={'featcols':['A'],'df':df.round(decimals=3)}\n",
    "msg2={'featcols':['A'],'df':pkl.dumps( df.round(decimals=3))   }\n",
    "p=pkl.dumps(msg)\n",
    "p2=pkl.dumps(msg2)\n",
    "z=zlib.compress(p)\n",
    "z2=zlib.compress(p2)\n",
    "print len(p),len(z),len(p2),len(z2)"
   ]
  },
  {
   "cell_type": "code",
   "execution_count": null,
   "metadata": {
    "collapsed": true
   },
   "outputs": [],
   "source": [
    "window=360\n",
    "T0=df.index[0]\n",
    "TF=(df.index[0]+pd.DateOffset(window) ).date()"
   ]
  },
  {
   "cell_type": "code",
   "execution_count": null,
   "metadata": {},
   "outputs": [],
   "source": [
    "import zmq\n",
    "import pandas as pd\n",
    "import numpy as np\n",
    "import time\n",
    "import zlib\n",
    "import pickle as pkl\n",
    "\n",
    "context = zmq.Context()\n",
    "\n",
    "#  Socket to talk to server\n",
    "print(\"Connecting to hello world server\")\n",
    "socket = context.socket(zmq.REQ)\n",
    "socket.connect(\"tcp://localhost:5557\")\n",
    "\n",
    "msg={'featcols':['SMA20bounce'],'df':df.round(decimals=3)}\n",
    "p=pkl.dumps(msg)\n",
    "z=zlib.compress(p)\n",
    "print len(p),len(z)\n",
    "\n",
    "socket.send(z)\n",
    "\n",
    "#  Get the reply.\n",
    "message = socket.recv()\n",
    "print message\n",
    "socket.close()\n"
   ]
  },
  {
   "cell_type": "code",
   "execution_count": null,
   "metadata": {
    "collapsed": true
   },
   "outputs": [],
   "source": []
  },
  {
   "cell_type": "code",
   "execution_count": null,
   "metadata": {},
   "outputs": [],
   "source": [
    "import json\n",
    "class registerfeature(object):\n",
    "    registry=[]\n",
    "    def __init__(self,para,returntype=None,cache=True):\n",
    "        self.para=para\n",
    "        self.usecache=cache\n",
    "        self.cache={}\n",
    "    def __call__(self,func):\n",
    "        \n",
    "        self.name=func.__name__\n",
    "        self.doc=func.__doc__\n",
    "        self.registry.append([self.name,self.doc])\n",
    "        \n",
    "        def func2(*args,**kwargs):\n",
    "            key=json.dumps([args[1:],kwargs])\n",
    "            if self.usecache:\n",
    "                if key in self.cache:\n",
    "                    print \"return cached result\"\n",
    "                    return self.cache[key]\n",
    "                else:\n",
    "                    print \"computing and saving result\"\n",
    "                    self.cache[key]=func(*args,**kwargs)\n",
    "                    return self.cache[key]\n",
    "            else:\n",
    "                return func(*args,**kwargs)\n",
    "        func2.isfeature=True\n",
    "        \n",
    "        return func2\n",
    "\n",
    "class foo(object):\n",
    "\n",
    "    @registerfeature(3,returntype=float)\n",
    "    def SMA10(self):\n",
    "        \"\"\"\n",
    "        sma10\n",
    "        \"\"\"\n",
    "        return 32\n",
    "    \n",
    "    @classmethod\n",
    "    def getfeatures(cls):\n",
    "        print cls.__dict__.items()\n",
    "        return [x for x, y in cls.__dict__.items() if hasattr(cls.__dict__[x],'isfeature')]\n",
    "    def __getitem__(self,feat):\n",
    "        return getattr(self,feat)()\n",
    "\n",
    "\n",
    "foo.getfeatures()\n",
    "    \n",
    "    \n",
    "f=foo()\n",
    "f.getfeatures()\n",
    "# print f.SMA10()\n",
    "# print f.SMA10()\n",
    "# print f['SMA10']\n"
   ]
  },
  {
   "cell_type": "code",
   "execution_count": null,
   "metadata": {
    "collapsed": true
   },
   "outputs": [],
   "source": []
  },
  {
   "cell_type": "code",
   "execution_count": null,
   "metadata": {},
   "outputs": [],
   "source": [
    "dd=dtalibs.GetStockData(stk.id)\n",
    "dd.sort_index()"
   ]
  },
  {
   "cell_type": "code",
   "execution_count": null,
   "metadata": {},
   "outputs": [],
   "source": [
    "\n",
    "\n",
    "\n"
   ]
  },
  {
   "cell_type": "code",
   "execution_count": null,
   "metadata": {},
   "outputs": [],
   "source": [
    "Fromdate=pd.datetime(2008,1,1)\n",
    "Todate=pd.datetime.today()\n",
    "Trange=pd.date_range(Fromdate,Todate)\n",
    "Trange=[T.date() for T in Trange if T.weekday()<=4]\n",
    "\n",
    "pd.DataFrame(list(ftmd.FeaturesData.objects.filter(T__in=Trange).values_list('Featuredata',flat=True) ))\n",
    "# featdata.Featuredata"
   ]
  },
  {
   "cell_type": "code",
   "execution_count": null,
   "metadata": {},
   "outputs": [],
   "source": [
    "D={}\n",
    "D[(1,[1,2,3])]=4"
   ]
  }
 ],
 "metadata": {
  "kernelspec": {
   "display_name": "Django Shell-Plus",
   "language": "python",
   "name": "django_extensions"
  },
  "language_info": {
   "codemirror_mode": {
    "name": "ipython",
    "version": 2
   },
   "file_extension": ".py",
   "mimetype": "text/x-python",
   "name": "python",
   "nbconvert_exporter": "python",
   "pygments_lexer": "ipython2",
   "version": "2.7.12"
  }
 },
 "nbformat": 4,
 "nbformat_minor": 1
}
