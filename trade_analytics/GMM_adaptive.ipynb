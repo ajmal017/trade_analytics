{
 "cells": [
  {
   "cell_type": "code",
   "execution_count": null,
   "metadata": {
    "collapsed": true
   },
   "outputs": [],
   "source": [
    "import pandas as pd\n",
    "import numpy as np\n"
   ]
  },
  {
   "cell_type": "code",
   "execution_count": null,
   "metadata": {
    "collapsed": true
   },
   "outputs": [],
   "source": [
    "def polar2cart(r,th):\n",
    "    if th>np.pi:\n",
    "        th=th-2*np.pi\n",
    "    if th<-np.pi:\n",
    "        th=th+2*np.pi\n",
    "        \n",
    "    return [r*np.cos(th),r*np.sin(th)]\n",
    "def cart2polar(x,y):\n",
    "    th=np.arctan2(y,x)\n",
    "    r=np.linalg.norm([x,y])\n",
    "    \n",
    "mur=30\n",
    "sigr=5\n",
    "muth=np.pi/2\n",
    "sigth=10*np.pi/180\n",
    "\n"
   ]
  }
 ],
 "metadata": {
  "kernelspec": {
   "display_name": "Python 2",
   "language": "python",
   "name": "python2"
  },
  "language_info": {
   "codemirror_mode": {
    "name": "ipython",
    "version": 2
   },
   "file_extension": ".py",
   "mimetype": "text/x-python",
   "name": "python",
   "nbconvert_exporter": "python",
   "pygments_lexer": "ipython2",
   "version": "2.7.12"
  }
 },
 "nbformat": 4,
 "nbformat_minor": 2
}
