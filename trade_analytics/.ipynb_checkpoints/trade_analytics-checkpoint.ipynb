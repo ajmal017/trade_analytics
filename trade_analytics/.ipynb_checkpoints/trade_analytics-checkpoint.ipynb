{
 "cells": [
  {
   "cell_type": "code",
   "execution_count": 1,
   "metadata": {
    "collapsed": true
   },
   "outputs": [],
   "source": [
    "%load_ext autoreload\n",
    "%autoreload 2"
   ]
  },
  {
   "cell_type": "code",
   "execution_count": 2,
   "metadata": {
    "collapsed": true
   },
   "outputs": [],
   "source": [
    "from __future__ import division\n",
    "%matplotlib inline\n",
    "import matplotlib.pyplot as plt\n",
    "from stockapp import models as stkmd\n",
    "from dataapp import models as dtamd\n",
    "from dataapp import tasks as dtatks\n",
    "from stockapp import tasks as stktks\n",
    "import utility as uty\n",
    "import itertools as itt\n",
    "import multiprocessing as mp\n",
    "from django.db import connection,connections\n",
    "from django.db import reset_queries\n",
    "import time \n",
    "import pandas as pd\n",
    "import numpy as np"
   ]
  },
  {
   "cell_type": "code",
   "execution_count": 4,
   "metadata": {
    "collapsed": true
   },
   "outputs": [],
   "source": [
    "import os\n",
    "# os.mkdir('stockapp')\n",
    "os.mkdir('stockapp/GroupIndicies')"
   ]
  },
  {
   "cell_type": "code",
   "execution_count": 6,
   "metadata": {
    "collapsed": true
   },
   "outputs": [],
   "source": [
    "ss=\"\"\"\n",
    "def func1(x):\n",
    "    return x+1\n",
    "\"\"\"\n",
    "\n",
    "with open('stockapp/GroupIndicies/test.py','w') as ff:\n",
    "    ff.write(ss)\n",
    "with open('stockapp/GroupIndicies/__init__.py','w') as ff:\n",
    "    ff.write('')  "
   ]
  },
  {
   "cell_type": "code",
   "execution_count": 10,
   "metadata": {},
   "outputs": [
    {
     "data": {
      "text/plain": [
       "4"
      ]
     },
     "execution_count": 10,
     "metadata": {},
     "output_type": "execute_result"
    }
   ],
   "source": [
    "import stockapp.GroupIndicies.test as gp\n",
    "gp.func1(3)"
   ]
  },
  {
   "cell_type": "code",
   "execution_count": 7,
   "metadata": {},
   "outputs": [
    {
     "name": "stdout",
     "output_type": "stream",
     "text": [
      "0\n",
      "1\n",
      "2\n",
      "3\n",
      "4\n",
      "6\n",
      "7\n",
      "5\n",
      "8\n",
      "9\n"
     ]
    }
   ],
   "source": [
    "semaphore = mp.Semaphore(1)\n",
    "\n",
    "def func(x,*args,**kwargs):\n",
    "    time.sleep(1)\n",
    "    with kwargs['semaphore']:\n",
    "        print x\n",
    "        time.sleep(2)\n",
    "P=[]\n",
    "for i in range(10):\n",
    "    P.append(mp.Process(target=func,args=(i,),kwargs={'semaphore':semaphore}))\n",
    "\n",
    "for p in P:\n",
    "    p.start()\n",
    "    \n",
    "for p in P:\n",
    "    p.join()"
   ]
  },
  {
   "cell_type": "code",
   "execution_count": null,
   "metadata": {
    "collapsed": true
   },
   "outputs": [],
   "source": []
  },
  {
   "cell_type": "code",
   "execution_count": null,
   "metadata": {
    "collapsed": true
   },
   "outputs": [],
   "source": []
  },
  {
   "cell_type": "markdown",
   "metadata": {},
   "source": [
    "print dtamd.Stockprice.objects.all().delete()\n",
    "stkmd.Stockmeta.objects.all().update(LastPriceUpdate=None,Lastdate=None,Startdate=None)\n"
   ]
  },
  {
   "cell_type": "code",
   "execution_count": null,
   "metadata": {
    "collapsed": true
   },
   "outputs": [],
   "source": [
    "tt=(1,2)\n",
    "tt=tt+(3,)\n",
    "tt"
   ]
  },
  {
   "cell_type": "code",
   "execution_count": null,
   "metadata": {
    "collapsed": true
   },
   "outputs": [],
   "source": []
  },
  {
   "cell_type": "code",
   "execution_count": null,
   "metadata": {
    "collapsed": true
   },
   "outputs": [],
   "source": [
    "print stkmd.Stockmeta.objects.filter(Symbol='AAPL').values()\n",
    "stk=stkmd.Stockmeta.objects.get(Symbol='AAPL')\n",
    "print stk\n",
    "print dtamd.Stockprice.objects.filter(Symbol='AAPL').count()\n",
    "dtatks.UpdatePriceData([stk.id],inputtype='id')"
   ]
  },
  {
   "cell_type": "code",
   "execution_count": null,
   "metadata": {
    "collapsed": true
   },
   "outputs": [],
   "source": [
    "stk=stkmd.Stockmeta.objects.get(Symbol='AAPL')\n",
    "stocksiter=iter([[stk.id,stk.id],[stk.id]])\n",
    "# for ss in stocksiter:\n",
    "#     print tuple(ss)\n",
    "# print \n",
    "computeargs_iter=itt.imap(lambda x: itt.izip([x],['id'] ) , stocksiter)\n",
    "for ss in computeargs_iter:\n",
    "    print list( ss )"
   ]
  },
  {
   "cell_type": "code",
   "execution_count": null,
   "metadata": {
    "collapsed": true
   },
   "outputs": [],
   "source": [
    "for ss in zip([(1,2),(3,4)],itt.repeat('id')):\n",
    "    print ss"
   ]
  },
  {
   "cell_type": "code",
   "execution_count": null,
   "metadata": {
    "collapsed": true
   },
   "outputs": [],
   "source": [
    "# run in parallel\n",
    "stk=stkmd.Stockmeta.objects.get(Symbol='AAPL')\n",
    "stocksiter=iter([[stk.id,stk.id],[stk.id]])\n",
    "computeargs_iter=itt.izip(stocksiter,itt.repeat('id') ) \n",
    "      \n",
    "PllCmpt=uty.ParallelCompute( computeargs_iter, dtatks.UpdatePriceData )\n",
    "PllCmpt.parallelrun()"
   ]
  },
  {
   "cell_type": "code",
   "execution_count": 8,
   "metadata": {},
   "outputs": [
    {
     "name": "stdout",
     "output_type": "stream",
     "text": [
      "error downloading  ARSD  for input dates  2002-01-01 2017-05-01\n",
      "error downloading  CMGE  for input dates  2002-01-01 2017-05-01\n",
      "error downloading  IG  for input dates  2002-01-01 2017-05-01\n",
      "error downloading  ICGE  for input dates  2002-01-01 2017-05-01\n",
      "error downloading  LEAF  for input dates  2002-01-01 2017-05-01\n",
      "error downloading  PCP  for input dates  2002-01-01 2017-05-01\n",
      "error downloading  SZYM  for input dates  2002-01-01 2017-05-01\n",
      "error downloading  BEE  for input dates  2002-01-01 2017-05-01\n",
      "error downloading  TLM  for input dates  2002-01-01 2017-05-01\n",
      "error downloading  TEG  for input dates  2002-01-01 2017-05-01\n",
      "error downloading  CEP  for input dates  2002-01-01 2017-05-01\n",
      "error downloading  HNSN  for input dates  2002-01-01 2017-05-01\n",
      "error downloading  SVLC  for input dates  2002-01-01 2017-05-01\n",
      "error downloading  GSJK  for input dates  2002-01-01 2017-05-01\n",
      "error downloading  VCLK  for input dates  2002-01-01 2017-05-01\n",
      "error downloading  GVT  for input dates  2002-01-01 2017-05-01\n",
      "error downloading  POZN  for input dates  2002-01-01 2017-05-01\n",
      "error downloading  MHR  for input dates  2002-01-01 2017-05-01\n",
      "error downloading  NU  for input dates  2002-01-01 2017-05-01\n",
      "error downloading  IMRS  for input dates  2002-01-01 2017-05-01\n",
      "error downloading  SUTR  for input dates  2002-01-01 2017-05-01\n",
      "error downloading  MEA  for input dates  2002-01-01 2017-05-01\n",
      "error downloading  ZBB  for input dates  2002-01-01 2017-05-01\n",
      "error downloading  CFT  for input dates  2002-01-01 2017-05-01\n",
      "error downloading  AFCE  for input dates  2002-01-01 2017-05-01\n",
      "error downloading  RWG  for input dates  2002-01-01 2017-05-01\n",
      "error downloading  SCRA  for input dates  2002-01-01 2017-05-01\n",
      "error downloading  SCU  for input dates  2002-01-01 2017-05-01\n",
      "error downloading  SFB  for input dates  2002-01-01 2017-05-01\n",
      "error downloading  FNBP  for input dates  2002-01-01 2017-05-01\n",
      "error downloading  FWV  for input dates  2002-01-01 2017-05-01\n",
      "error downloading  GDAY  for input dates  2002-01-01 2017-05-01\n",
      "error downloading  GERJ  for input dates  2002-01-01 2017-05-01\n",
      "error downloading  BONE  for input dates  2002-01-01 2017-05-01\n",
      "error downloading  CTP  for input dates  2002-01-01 2017-05-01\n",
      "error downloading  CACH  for input dates  2002-01-01 2017-05-01\n",
      "error downloading  BPZ  for input dates  2002-01-01 2017-05-01\n",
      "error downloading  FREE  for input dates  2002-01-01 2017-05-01\n",
      "error downloading  NSPH  for input dates  2002-01-01 2017-05-01\n",
      "error downloading  LABC  for input dates  2002-01-01 2017-05-01\n",
      "error downloading  LATM  for input dates  2002-01-01 2017-05-01\n",
      "error downloading  LNBB  for input dates  2002-01-01 2017-05-01\n",
      "error downloading  LOOK  for input dates  2002-01-01 2017-05-01\n",
      "error downloading  LRTR  for input dates  2002-01-01 2017-05-01\n",
      "error downloading  NW  for input dates  2002-01-01 2017-05-01\n",
      "error downloading  BDCV  for input dates  2002-01-01 2017-05-01\n",
      "error downloading  GEVA  for input dates  2002-01-01 2017-05-01\n",
      "error downloading  GTU  for input dates  2002-01-01 2017-05-01\n",
      "error downloading  RSH  for input dates  2002-01-01 2017-05-01\n",
      "error downloading  IACI  for input dates  2002-01-01 2017-05-01\n",
      "error downloading  EPB  for input dates  2002-01-01 2017-05-01\n",
      "error downloading  VPRT  for input dates  2002-01-01 2017-05-01\n",
      "error downloading  YOKU  for input dates  2002-01-01 2017-05-01\n",
      "error downloading  WRT  for input dates  2002-01-01 2017-05-01\n",
      "error downloading  XOVR  for input dates  2002-01-01 2017-05-01\n",
      "error downloading  SMTP  for input dates  2002-01-01 2017-05-01\n",
      "error downloading  IDHB  for input dates  2002-01-01 2017-05-01\n",
      "error downloading  JHP  for input dates  2002-01-01 2017-05-01\n",
      "error downloading  SFG  for input dates  2002-01-01 2017-05-01\n",
      "error downloading  NGX  for input dates  2002-01-01 2017-05-01\n",
      "error downloading  ULGX  for input dates  2002-01-01 2017-05-01\n",
      "error downloading  LNCO  for input dates  2002-01-01 2017-05-01\n",
      "error downloading  BOTA  for input dates  2002-01-01 2017-05-01\n",
      "error downloading  SNHN  for input dates  2002-01-01 2017-05-01\n",
      "error downloading  BAGR  for input dates  2002-01-01 2017-05-01\n",
      "error downloading  ASPX  for input dates  2002-01-01 2017-05-01\n",
      "error downloading  GTAT  for input dates  2002-01-01 2017-05-01\n",
      "error downloading  WITE  for input dates  2002-01-01 2017-05-01\n",
      "error downloading  MVG  for input dates  2002-01-01 2017-05-01\n",
      "error downloading  SIRO  for input dates  2002-01-01 2017-05-01\n",
      "error downloading  DARA  for input dates  2002-01-01 2017-05-01\n",
      "error downloading  AWC  for input dates  2002-01-01 2017-05-01\n",
      "error downloading  LATX  for input dates  2002-01-01 2017-05-01\n",
      "error downloading  MAXX  for input dates  2002-01-01 2017-05-01\n",
      "error downloading  WMBC  for input dates  2002-01-01 2017-05-01\n",
      "error downloading  XNPT  for input dates  2002-01-01 2017-05-01\n",
      "error downloading  RBY  for input dates  2002-01-01 2017-05-01\n",
      "error downloading  SFY  for input dates  2002-01-01 2017-05-01\n",
      "error downloading  RGP  for input dates  2002-01-01 2017-05-01\n",
      "error downloading  HBOS  for input dates  2002-01-01 2017-05-01\n",
      "error downloading  HDGI  for input dates  2002-01-01 2017-05-01\n",
      "error downloading  HFIN  for input dates  2002-01-01 2017-05-01\n",
      "error downloading  HIH  for input dates  2002-01-01 2017-05-01\n",
      "error downloading  HSA  for input dates  2002-01-01 2017-05-01\n",
      "error downloading  MSJ  for input dates  2002-01-01 2017-05-01\n",
      "error downloading  ATK  for input dates  2002-01-01 2017-05-01\n",
      "error downloading  RJET  for input dates  2002-01-01 2017-05-01\n"
     ]
    },
    {
     "name": "stderr",
     "output_type": "stream",
     "text": [
      "Process Process-126:\n",
      "Process Process-150:\n",
      "Process Process-151:\n",
      "Process Process-154:\n",
      "Process Process-157:\n",
      "Process Process-133:\n",
      "Process Process-155:\n",
      "Process Process-134:\n",
      "Process Process-153:\n",
      "Traceback (most recent call last):\n",
      "Traceback (most recent call last):\n",
      "Traceback (most recent call last):\n",
      "Traceback (most recent call last):\n",
      "Traceback (most recent call last):\n",
      "Traceback (most recent call last):\n",
      "Process Process-141:\n",
      "Traceback (most recent call last):\n",
      "Process Process-127:\n",
      "Traceback (most recent call last):\n",
      "Process Process-139:\n",
      "Process Process-131:\n",
      "Process Process-128:\n",
      "Process Process-146:\n",
      "Process Process-156:\n",
      "Process Process-88:\n",
      "KeyboardInterrupt\n",
      "Process Process-158:\n"
     ]
    },
    {
     "name": "stdout",
     "output_type": "stream",
     "text": [
      "Updated data for  CYS  downloaded  1982 \r",
      "Updated data for  APOG  downloaded  3858 \r",
      "Updated data for  CGI  downloaded  3858 \r",
      "Updated data for  ARG  downloaded  3830 \r",
      "Updated data for  APH  downloaded  3858 \r"
     ]
    },
    {
     "name": "stderr",
     "output_type": "stream",
     "text": [
      "Process Process-160:\n",
      "Process Process-130:\n",
      "Process Process-129:\n",
      "Process Process-135:\n",
      "Process Process-143:\n",
      "Process Process-159:\n",
      "Process Process-116:\n",
      "Process Process-147:\n",
      "Process Process-124:\n",
      "Process Process-145:\n",
      "Process Process-97:\n",
      "Process Process-132:\n",
      "Process Process-121:\n",
      "Process Process-86:\n",
      "Traceback (most recent call last):\n",
      "Traceback (most recent call last):\n",
      "Process Process-138:\n",
      "Process Process-125:\n",
      "Process Process-142:\n",
      "Process Process-148:\n",
      "Process Process-122:\n",
      "  File \"/usr/lib/python2.7/multiprocessing/process.py\", line 258, in _bootstrap\n",
      "Process Process-120:\n",
      "Process Process-117:\n",
      "Process Process-118:\n",
      "Process Process-115:\n",
      "Process Process-152:\n",
      "Process Process-149:\n",
      "Process Process-144:\n",
      "  File \"/usr/lib/python2.7/multiprocessing/process.py\", line 258, in _bootstrap\n",
      "  File \"/usr/lib/python2.7/multiprocessing/process.py\", line 258, in _bootstrap\n",
      "  File \"/usr/lib/python2.7/multiprocessing/process.py\", line 258, in _bootstrap\n",
      "Traceback (most recent call last):\n",
      "Traceback (most recent call last):\n",
      "Process Process-140:\n",
      "Traceback (most recent call last):\n",
      "Process Process-123:\n",
      "Process Process-137:\n",
      "Process Process-136:\n",
      "Process Process-98:\n",
      "  File \"/usr/lib/python2.7/multiprocessing/process.py\", line 258, in _bootstrap\n",
      "  File \"/usr/lib/python2.7/multiprocessing/process.py\", line 258, in _bootstrap\n",
      "Traceback (most recent call last):\n",
      "  File \"/usr/lib/python2.7/multiprocessing/process.py\", line 258, in _bootstrap\n",
      "Process Process-119:\n",
      "Process Process-104:\n",
      "Traceback (most recent call last):\n",
      "Traceback (most recent call last):\n",
      "Process Process-101:\n",
      "Process Process-85:\n",
      "Traceback (most recent call last):\n",
      "Traceback (most recent call last):\n",
      "Traceback (most recent call last):\n",
      "Process Process-106:\n",
      "Process Process-90:\n",
      "Process Process-87:\n",
      "Process Process-114:\n",
      "Process Process-93:\n",
      "Traceback (most recent call last):\n",
      "Traceback (most recent call last):\n",
      "Traceback (most recent call last):\n",
      "Process Process-96:\n",
      "Process Process-99:\n",
      "Process Process-83:\n",
      "Traceback (most recent call last):\n",
      "Traceback (most recent call last):\n",
      "Process Process-92:\n",
      "Process Process-89:\n",
      "Process Process-94:\n",
      "Traceback (most recent call last):\n",
      "Traceback (most recent call last):\n",
      "Traceback (most recent call last):\n",
      "Traceback (most recent call last):\n",
      "Traceback (most recent call last):\n",
      "Traceback (most recent call last):\n",
      "  File \"/usr/lib/python2.7/multiprocessing/process.py\", line 258, in _bootstrap\n",
      "Traceback (most recent call last):\n",
      "Process Process-95:\n",
      "Traceback (most recent call last):\n",
      "Traceback (most recent call last):\n",
      "Process Process-81:\n",
      "  File \"/usr/lib/python2.7/multiprocessing/process.py\", line 258, in _bootstrap\n",
      "Traceback (most recent call last):\n",
      "Traceback (most recent call last):\n",
      "Traceback (most recent call last):\n",
      "Traceback (most recent call last):\n",
      "Process Process-82:\n",
      "    self.run()\n",
      "Traceback (most recent call last):\n",
      "Process Process-102:\n",
      "Traceback (most recent call last):\n",
      "Traceback (most recent call last):\n",
      "Traceback (most recent call last):\n",
      "Traceback (most recent call last):\n",
      "Traceback (most recent call last):\n",
      "Traceback (most recent call last):\n",
      "    self.run()\n",
      "    self.run()\n",
      "    self.run()\n",
      "  File \"/usr/lib/python2.7/multiprocessing/process.py\", line 258, in _bootstrap\n",
      "Traceback (most recent call last):\n",
      "  File \"/usr/lib/python2.7/multiprocessing/process.py\", line 258, in _bootstrap\n",
      "  File \"/usr/lib/python2.7/multiprocessing/process.py\", line 258, in _bootstrap\n",
      "Process Process-84:\n",
      "Traceback (most recent call last):\n",
      "Traceback (most recent call last):\n",
      "Traceback (most recent call last):\n",
      "Traceback (most recent call last):\n",
      "    self.run()\n",
      "    self.run()\n",
      "Process Process-113:\n",
      "    self.run()\n",
      "  File \"/usr/lib/python2.7/multiprocessing/process.py\", line 258, in _bootstrap\n",
      "Traceback (most recent call last):\n",
      "Traceback (most recent call last):\n",
      "Process Process-91:\n",
      "  File \"/usr/lib/python2.7/multiprocessing/process.py\", line 258, in _bootstrap\n",
      "Traceback (most recent call last):\n",
      "  File \"/usr/lib/python2.7/multiprocessing/process.py\", line 258, in _bootstrap\n",
      "Process Process-110:\n",
      "Traceback (most recent call last):\n",
      "Traceback (most recent call last):\n",
      "  File \"/usr/lib/python2.7/multiprocessing/process.py\", line 258, in _bootstrap\n",
      "Process Process-111:\n",
      "Process Process-100:\n",
      "  File \"/usr/lib/python2.7/multiprocessing/process.py\", line 258, in _bootstrap\n",
      "  File \"/usr/lib/python2.7/multiprocessing/process.py\", line 258, in _bootstrap\n",
      "Traceback (most recent call last):\n",
      "Traceback (most recent call last):\n",
      "Traceback (most recent call last):\n",
      "  File \"/usr/lib/python2.7/multiprocessing/process.py\", line 258, in _bootstrap\n",
      "Traceback (most recent call last):\n",
      "Process Process-105:\n",
      "Traceback (most recent call last):\n",
      "  File \"/usr/lib/python2.7/multiprocessing/process.py\", line 258, in _bootstrap\n",
      "Traceback (most recent call last):\n",
      "Process Process-103:\n",
      "Traceback (most recent call last):\n",
      "  File \"/usr/lib/python2.7/multiprocessing/process.py\", line 258, in _bootstrap\n",
      "  File \"/usr/lib/python2.7/multiprocessing/process.py\", line 258, in _bootstrap\n",
      "Traceback (most recent call last):\n",
      "  File \"/usr/lib/python2.7/multiprocessing/process.py\", line 258, in _bootstrap\n",
      "Traceback (most recent call last):\n",
      "Traceback (most recent call last):\n",
      "  File \"/usr/lib/python2.7/multiprocessing/process.py\", line 258, in _bootstrap\n",
      "  File \"/usr/lib/python2.7/multiprocessing/process.py\", line 258, in _bootstrap\n",
      "  File \"/usr/lib/python2.7/multiprocessing/process.py\", line 258, in _bootstrap\n",
      "  File \"/usr/lib/python2.7/multiprocessing/process.py\", line 258, in _bootstrap\n",
      "  File \"/usr/lib/python2.7/multiprocessing/process.py\", line 258, in _bootstrap\n",
      "  File \"/usr/lib/python2.7/multiprocessing/process.py\", line 258, in _bootstrap\n",
      "Process Process-109:\n",
      "  File \"/usr/lib/python2.7/multiprocessing/process.py\", line 258, in _bootstrap\n",
      "Traceback (most recent call last):\n",
      "  File \"/usr/lib/python2.7/multiprocessing/process.py\", line 258, in _bootstrap\n",
      "    self.run()\n",
      "  File \"/usr/lib/python2.7/multiprocessing/process.py\", line 258, in _bootstrap\n",
      "  File \"/usr/lib/python2.7/multiprocessing/process.py\", line 114, in run\n",
      "  File \"/usr/lib/python2.7/multiprocessing/process.py\", line 258, in _bootstrap\n",
      "    self.run()\n",
      "  File \"/usr/lib/python2.7/multiprocessing/process.py\", line 258, in _bootstrap\n",
      "  File \"/usr/lib/python2.7/multiprocessing/process.py\", line 258, in _bootstrap\n",
      "  File \"/usr/lib/python2.7/multiprocessing/process.py\", line 258, in _bootstrap\n",
      "  File \"/usr/lib/python2.7/multiprocessing/process.py\", line 114, in run\n",
      "  File \"/usr/lib/python2.7/multiprocessing/process.py\", line 258, in _bootstrap\n",
      "  File \"/usr/lib/python2.7/multiprocessing/process.py\", line 258, in _bootstrap\n",
      "    self.run()\n",
      "  File \"/usr/lib/python2.7/multiprocessing/process.py\", line 114, in run\n",
      "  File \"/usr/lib/python2.7/multiprocessing/process.py\", line 114, in run\n",
      "  File \"/usr/lib/python2.7/multiprocessing/process.py\", line 258, in _bootstrap\n",
      "    self.run()\n",
      "Traceback (most recent call last):\n",
      "  File \"/usr/lib/python2.7/multiprocessing/process.py\", line 258, in _bootstrap\n",
      "Traceback (most recent call last):\n",
      "  File \"/usr/lib/python2.7/multiprocessing/process.py\", line 114, in run\n",
      "  File \"/usr/lib/python2.7/multiprocessing/process.py\", line 258, in _bootstrap\n",
      "Traceback (most recent call last):\n",
      "  File \"/usr/lib/python2.7/multiprocessing/process.py\", line 258, in _bootstrap\n",
      "Traceback (most recent call last):\n",
      "  File \"/usr/lib/python2.7/multiprocessing/process.py\", line 258, in _bootstrap\n",
      "    self.run()\n",
      "Traceback (most recent call last):\n",
      "  File \"/usr/lib/python2.7/multiprocessing/process.py\", line 258, in _bootstrap\n",
      "  File \"/usr/lib/python2.7/multiprocessing/process.py\", line 258, in _bootstrap\n",
      "  File \"/usr/lib/python2.7/multiprocessing/process.py\", line 258, in _bootstrap\n",
      "  File \"/usr/lib/python2.7/multiprocessing/process.py\", line 258, in _bootstrap\n",
      "  File \"/usr/lib/python2.7/multiprocessing/process.py\", line 258, in _bootstrap\n",
      "  File \"/usr/lib/python2.7/multiprocessing/process.py\", line 258, in _bootstrap\n",
      "Traceback (most recent call last):\n",
      "Traceback (most recent call last):\n",
      "Traceback (most recent call last):\n",
      "  File \"/usr/lib/python2.7/multiprocessing/process.py\", line 258, in _bootstrap\n",
      "    self.run()\n",
      "  File \"/usr/lib/python2.7/multiprocessing/process.py\", line 258, in _bootstrap\n",
      "    self.run()\n",
      "  File \"/usr/lib/python2.7/multiprocessing/process.py\", line 258, in _bootstrap\n"
     ]
    },
    {
     "name": "stderr",
     "output_type": "stream",
     "text": [
      "    self.run()\n",
      "    self.run()\n",
      "  File \"/usr/lib/python2.7/multiprocessing/process.py\", line 258, in _bootstrap\n",
      "  File \"/usr/lib/python2.7/multiprocessing/process.py\", line 258, in _bootstrap\n",
      "  File \"/usr/lib/python2.7/multiprocessing/process.py\", line 258, in _bootstrap\n",
      "    self.run()\n",
      "Traceback (most recent call last):\n",
      "    self.run()\n",
      "  File \"/usr/lib/python2.7/multiprocessing/process.py\", line 258, in _bootstrap\n",
      "Traceback (most recent call last):\n",
      "  File \"/usr/lib/python2.7/multiprocessing/process.py\", line 258, in _bootstrap\n",
      "    self.run()\n",
      "  File \"/usr/lib/python2.7/multiprocessing/process.py\", line 114, in run\n",
      "  File \"/usr/lib/python2.7/multiprocessing/process.py\", line 114, in run\n",
      "  File \"/usr/lib/python2.7/multiprocessing/process.py\", line 258, in _bootstrap\n",
      "    self.run()\n",
      "    self.run()\n",
      "  File \"/usr/lib/python2.7/multiprocessing/process.py\", line 258, in _bootstrap\n",
      "  File \"/usr/lib/python2.7/multiprocessing/process.py\", line 258, in _bootstrap\n",
      "Traceback (most recent call last):\n",
      "  File \"/usr/lib/python2.7/multiprocessing/process.py\", line 258, in _bootstrap\n",
      "    self.run()\n",
      "    self.run()\n",
      "  File \"/usr/lib/python2.7/multiprocessing/process.py\", line 258, in _bootstrap\n",
      "    self.run()\n",
      "  File \"/usr/lib/python2.7/multiprocessing/process.py\", line 258, in _bootstrap\n",
      "  File \"/usr/lib/python2.7/multiprocessing/process.py\", line 258, in _bootstrap\n",
      "    self.run()\n",
      "Process Process-107:\n",
      "    self.run()\n",
      "Traceback (most recent call last):\n",
      "    self.run()\n",
      "    self.run()\n",
      "    self.run()\n",
      "    self.run()\n",
      "    self.run()\n",
      "    self.run()\n",
      "    self.run()\n",
      "  File \"/usr/lib/python2.7/multiprocessing/process.py\", line 258, in _bootstrap\n",
      "    self.run()\n",
      "  File \"/usr/lib/python2.7/multiprocessing/process.py\", line 258, in _bootstrap\n",
      "  File \"/usr/lib/python2.7/multiprocessing/process.py\", line 114, in run\n",
      "Process Process-112:\n"
     ]
    },
    {
     "ename": "KeyboardInterrupt",
     "evalue": "",
     "output_type": "error",
     "traceback": [
      "\u001b[0;31m---------------------------------------------------------------------------\u001b[0m",
      "\u001b[0;31mKeyboardInterrupt\u001b[0m                         Traceback (most recent call last)",
      "\u001b[0;32m<ipython-input-8-058309b1a078>\u001b[0m in \u001b[0;36m<module>\u001b[0;34m()\u001b[0m\n\u001b[0;32m----> 1\u001b[0;31m \u001b[0mdtatks\u001b[0m\u001b[0;34m.\u001b[0m\u001b[0mRunDataDownload\u001b[0m\u001b[0;34m(\u001b[0m\u001b[0;34m)\u001b[0m\u001b[0;34m\u001b[0m\u001b[0m\n\u001b[0m",
      "\u001b[0;32m/home/venkat/Documents/repos/trade_analytics/trade_analytics/dataapp/tasks.py\u001b[0m in \u001b[0;36mRunDataDownload\u001b[0;34m()\u001b[0m\n\u001b[1;32m    106\u001b[0m         \u001b[0;31m# run in parallel\u001b[0m\u001b[0;34m\u001b[0m\u001b[0;34m\u001b[0m\u001b[0m\n\u001b[1;32m    107\u001b[0m         \u001b[0mPllCmpt\u001b[0m\u001b[0;34m=\u001b[0m\u001b[0muty\u001b[0m\u001b[0;34m.\u001b[0m\u001b[0mParallelCompute\u001b[0m\u001b[0;34m(\u001b[0m \u001b[0mcomputeargs_iter\u001b[0m\u001b[0;34m,\u001b[0m \u001b[0mUpdatePriceData\u001b[0m \u001b[0;34m)\u001b[0m\u001b[0;34m\u001b[0m\u001b[0m\n\u001b[0;32m--> 108\u001b[0;31m         \u001b[0mPllCmpt\u001b[0m\u001b[0;34m.\u001b[0m\u001b[0mparallelrun\u001b[0m\u001b[0;34m(\u001b[0m\u001b[0;34m)\u001b[0m\u001b[0;34m\u001b[0m\u001b[0m\n\u001b[0m",
      "\u001b[0;32m/home/venkat/Documents/repos/trade_analytics/trade_analytics/utility.pyc\u001b[0m in \u001b[0;36mparallelrun\u001b[0;34m(self)\u001b[0m\n\u001b[1;32m     60\u001b[0m \u001b[0;34m\u001b[0m\u001b[0m\n\u001b[1;32m     61\u001b[0m             \u001b[0;32mfor\u001b[0m \u001b[0mp\u001b[0m \u001b[0;32min\u001b[0m \u001b[0mP\u001b[0m\u001b[0;34m:\u001b[0m\u001b[0;34m\u001b[0m\u001b[0m\n\u001b[0;32m---> 62\u001b[0;31m                 \u001b[0mp\u001b[0m\u001b[0;34m.\u001b[0m\u001b[0mstart\u001b[0m\u001b[0;34m(\u001b[0m\u001b[0;34m)\u001b[0m\u001b[0;34m\u001b[0m\u001b[0m\n\u001b[0m\u001b[1;32m     63\u001b[0m                 \u001b[0mtime\u001b[0m\u001b[0;34m.\u001b[0m\u001b[0msleep\u001b[0m\u001b[0;34m(\u001b[0m\u001b[0;36m1\u001b[0m\u001b[0;34m)\u001b[0m\u001b[0;34m\u001b[0m\u001b[0m\n\u001b[1;32m     64\u001b[0m                 \u001b[0;31m# time.sleep(1)\u001b[0m\u001b[0;34m\u001b[0m\u001b[0;34m\u001b[0m\u001b[0m\n",
      "\u001b[0;32m/usr/lib/python2.7/multiprocessing/process.pyc\u001b[0m in \u001b[0;36mjoin\u001b[0;34m(self, timeout)\u001b[0m\n\u001b[1;32m    143\u001b[0m         \u001b[0;32massert\u001b[0m \u001b[0mself\u001b[0m\u001b[0;34m.\u001b[0m\u001b[0m_parent_pid\u001b[0m \u001b[0;34m==\u001b[0m \u001b[0mos\u001b[0m\u001b[0;34m.\u001b[0m\u001b[0mgetpid\u001b[0m\u001b[0;34m(\u001b[0m\u001b[0;34m)\u001b[0m\u001b[0;34m,\u001b[0m \u001b[0;34m'can only join a child process'\u001b[0m\u001b[0;34m\u001b[0m\u001b[0m\n\u001b[1;32m    144\u001b[0m         \u001b[0;32massert\u001b[0m \u001b[0mself\u001b[0m\u001b[0;34m.\u001b[0m\u001b[0m_popen\u001b[0m \u001b[0;32mis\u001b[0m \u001b[0;32mnot\u001b[0m \u001b[0mNone\u001b[0m\u001b[0;34m,\u001b[0m \u001b[0;34m'can only join a started process'\u001b[0m\u001b[0;34m\u001b[0m\u001b[0m\n\u001b[0;32m--> 145\u001b[0;31m         \u001b[0mres\u001b[0m \u001b[0;34m=\u001b[0m \u001b[0mself\u001b[0m\u001b[0;34m.\u001b[0m\u001b[0m_popen\u001b[0m\u001b[0;34m.\u001b[0m\u001b[0mwait\u001b[0m\u001b[0;34m(\u001b[0m\u001b[0mtimeout\u001b[0m\u001b[0;34m)\u001b[0m\u001b[0;34m\u001b[0m\u001b[0m\n\u001b[0m\u001b[1;32m    146\u001b[0m         \u001b[0;32mif\u001b[0m \u001b[0mres\u001b[0m \u001b[0;32mis\u001b[0m \u001b[0;32mnot\u001b[0m \u001b[0mNone\u001b[0m\u001b[0;34m:\u001b[0m\u001b[0;34m\u001b[0m\u001b[0m\n\u001b[1;32m    147\u001b[0m             \u001b[0m_current_process\u001b[0m\u001b[0;34m.\u001b[0m\u001b[0m_children\u001b[0m\u001b[0;34m.\u001b[0m\u001b[0mdiscard\u001b[0m\u001b[0;34m(\u001b[0m\u001b[0mself\u001b[0m\u001b[0;34m)\u001b[0m\u001b[0;34m\u001b[0m\u001b[0m\n",
      "\u001b[0;32m/usr/lib/python2.7/multiprocessing/forking.py\u001b[0m in \u001b[0;36mwait\u001b[0;34m(self, timeout)\u001b[0m\n\u001b[1;32m    152\u001b[0m         \u001b[0;32mdef\u001b[0m \u001b[0mwait\u001b[0m\u001b[0;34m(\u001b[0m\u001b[0mself\u001b[0m\u001b[0;34m,\u001b[0m \u001b[0mtimeout\u001b[0m\u001b[0;34m=\u001b[0m\u001b[0mNone\u001b[0m\u001b[0;34m)\u001b[0m\u001b[0;34m:\u001b[0m\u001b[0;34m\u001b[0m\u001b[0m\n\u001b[1;32m    153\u001b[0m             \u001b[0;32mif\u001b[0m \u001b[0mtimeout\u001b[0m \u001b[0;32mis\u001b[0m \u001b[0mNone\u001b[0m\u001b[0;34m:\u001b[0m\u001b[0;34m\u001b[0m\u001b[0m\n\u001b[0;32m--> 154\u001b[0;31m                 \u001b[0;32mreturn\u001b[0m \u001b[0mself\u001b[0m\u001b[0;34m.\u001b[0m\u001b[0mpoll\u001b[0m\u001b[0;34m(\u001b[0m\u001b[0;36m0\u001b[0m\u001b[0;34m)\u001b[0m\u001b[0;34m\u001b[0m\u001b[0m\n\u001b[0m\u001b[1;32m    155\u001b[0m             \u001b[0mdeadline\u001b[0m \u001b[0;34m=\u001b[0m \u001b[0mtime\u001b[0m\u001b[0;34m.\u001b[0m\u001b[0mtime\u001b[0m\u001b[0;34m(\u001b[0m\u001b[0;34m)\u001b[0m \u001b[0;34m+\u001b[0m \u001b[0mtimeout\u001b[0m\u001b[0;34m\u001b[0m\u001b[0m\n\u001b[1;32m    156\u001b[0m             \u001b[0mdelay\u001b[0m \u001b[0;34m=\u001b[0m \u001b[0;36m0.0005\u001b[0m\u001b[0;34m\u001b[0m\u001b[0m\n",
      "\u001b[0;32m/usr/lib/python2.7/multiprocessing/forking.py\u001b[0m in \u001b[0;36mpoll\u001b[0;34m(self, flag)\u001b[0m\n\u001b[1;32m    133\u001b[0m                 \u001b[0;32mwhile\u001b[0m \u001b[0mTrue\u001b[0m\u001b[0;34m:\u001b[0m\u001b[0;34m\u001b[0m\u001b[0m\n\u001b[1;32m    134\u001b[0m                     \u001b[0;32mtry\u001b[0m\u001b[0;34m:\u001b[0m\u001b[0;34m\u001b[0m\u001b[0m\n\u001b[0;32m--> 135\u001b[0;31m                         \u001b[0mpid\u001b[0m\u001b[0;34m,\u001b[0m \u001b[0msts\u001b[0m \u001b[0;34m=\u001b[0m \u001b[0mos\u001b[0m\u001b[0;34m.\u001b[0m\u001b[0mwaitpid\u001b[0m\u001b[0;34m(\u001b[0m\u001b[0mself\u001b[0m\u001b[0;34m.\u001b[0m\u001b[0mpid\u001b[0m\u001b[0;34m,\u001b[0m \u001b[0mflag\u001b[0m\u001b[0;34m)\u001b[0m\u001b[0;34m\u001b[0m\u001b[0m\n\u001b[0m\u001b[1;32m    136\u001b[0m                     \u001b[0;32mexcept\u001b[0m \u001b[0mos\u001b[0m\u001b[0;34m.\u001b[0m\u001b[0merror\u001b[0m \u001b[0;32mas\u001b[0m \u001b[0me\u001b[0m\u001b[0;34m:\u001b[0m\u001b[0;34m\u001b[0m\u001b[0m\n\u001b[1;32m    137\u001b[0m                         \u001b[0;32mif\u001b[0m \u001b[0me\u001b[0m\u001b[0;34m.\u001b[0m\u001b[0merrno\u001b[0m \u001b[0;34m==\u001b[0m \u001b[0merrno\u001b[0m\u001b[0;34m.\u001b[0m\u001b[0mEINTR\u001b[0m\u001b[0;34m:\u001b[0m\u001b[0;34m\u001b[0m\u001b[0m\n",
      "\u001b[0;31mKeyboardInterrupt\u001b[0m: "
     ]
    },
    {
     "name": "stderr",
     "output_type": "stream",
     "text": [
      "  File \"/usr/lib/python2.7/multiprocessing/process.py\", line 114, in run\n",
      "    self.run()\n",
      "  File \"/usr/lib/python2.7/multiprocessing/process.py\", line 258, in _bootstrap\n",
      "    self.run()\n",
      "    self.run()\n",
      "  File \"/usr/lib/python2.7/multiprocessing/process.py\", line 258, in _bootstrap\n",
      "  File \"/usr/lib/python2.7/multiprocessing/process.py\", line 114, in run\n",
      "    self.run()\n",
      "    self.run()\n",
      "  File \"/usr/lib/python2.7/multiprocessing/process.py\", line 114, in run\n",
      "  File \"/usr/lib/python2.7/multiprocessing/process.py\", line 114, in run\n",
      "    self.run()\n",
      "    self.run()\n",
      "    self.run()\n",
      "    self.run()\n",
      "  File \"/usr/lib/python2.7/multiprocessing/process.py\", line 258, in _bootstrap\n",
      "  File \"/usr/lib/python2.7/multiprocessing/process.py\", line 114, in run\n",
      "  File \"/usr/lib/python2.7/multiprocessing/process.py\", line 114, in run\n",
      "    self.run()\n",
      "  File \"/usr/lib/python2.7/multiprocessing/process.py\", line 258, in _bootstrap\n",
      "  File \"/usr/lib/python2.7/multiprocessing/process.py\", line 258, in _bootstrap\n",
      "  File \"/usr/lib/python2.7/multiprocessing/process.py\", line 114, in run\n",
      "  File \"/usr/lib/python2.7/multiprocessing/process.py\", line 114, in run\n",
      "  File \"/usr/lib/python2.7/multiprocessing/process.py\", line 114, in run\n",
      "Traceback (most recent call last):\n",
      "  File \"/usr/lib/python2.7/multiprocessing/process.py\", line 258, in _bootstrap\n",
      "  File \"/usr/lib/python2.7/multiprocessing/process.py\", line 114, in run\n",
      "  File \"/usr/lib/python2.7/multiprocessing/process.py\", line 114, in run\n",
      "    self._target(*self._args, **self._kwargs)\n",
      "    self.run()\n",
      "  File \"/usr/lib/python2.7/multiprocessing/process.py\", line 114, in run\n",
      "  File \"/usr/lib/python2.7/multiprocessing/process.py\", line 258, in _bootstrap\n",
      "  File \"/usr/lib/python2.7/multiprocessing/process.py\", line 114, in run\n",
      "    self._target(*self._args, **self._kwargs)\n",
      "    self.run()\n",
      "    self._target(*self._args, **self._kwargs)\n",
      "    self._target(*self._args, **self._kwargs)\n",
      "  File \"/usr/lib/python2.7/multiprocessing/process.py\", line 114, in run\n",
      "    self._target(*self._args, **self._kwargs)\n",
      "    self._target(*self._args, **self._kwargs)\n",
      "    self._target(*self._args, **self._kwargs)\n",
      "  File \"/usr/lib/python2.7/multiprocessing/process.py\", line 114, in run\n",
      "    self.run()\n",
      "    self._target(*self._args, **self._kwargs)\n",
      "    self.run()\n",
      "    self._target(*self._args, **self._kwargs)\n",
      "  File \"/usr/local/lib/python2.7/dist-packages/celery/local.py\", line 191, in __call__\n",
      "  File \"/usr/lib/python2.7/multiprocessing/process.py\", line 258, in _bootstrap\n",
      "    self._target(*self._args, **self._kwargs)\n",
      "    self.run()\n",
      "    self._target(*self._args, **self._kwargs)\n",
      "    self.run()\n",
      "  File \"/usr/lib/python2.7/multiprocessing/process.py\", line 114, in run\n",
      "    self._target(*self._args, **self._kwargs)\n",
      "    self._target(*self._args, **self._kwargs)\n",
      "    self._target(*self._args, **self._kwargs)\n",
      "    self.run()\n",
      "    self.run()\n",
      "    self.run()\n",
      "  File \"/usr/lib/python2.7/multiprocessing/process.py\", line 114, in run\n",
      "  File \"/usr/lib/python2.7/multiprocessing/process.py\", line 114, in run\n",
      "  File \"/usr/lib/python2.7/multiprocessing/process.py\", line 114, in run\n",
      "  File \"/usr/lib/python2.7/multiprocessing/process.py\", line 114, in run\n",
      "    self.run()\n",
      "  File \"/usr/lib/python2.7/multiprocessing/process.py\", line 258, in _bootstrap\n",
      "  File \"/usr/lib/python2.7/multiprocessing/process.py\", line 114, in run\n",
      "    self._target(*self._args, **self._kwargs)\n",
      "  File \"/usr/lib/python2.7/multiprocessing/process.py\", line 114, in run\n",
      "  File \"/usr/local/lib/python2.7/dist-packages/celery/local.py\", line 191, in __call__\n",
      "  File \"/usr/lib/python2.7/multiprocessing/process.py\", line 114, in run\n",
      "  File \"/usr/lib/python2.7/multiprocessing/process.py\", line 114, in run\n",
      "  File \"/usr/local/lib/python2.7/dist-packages/celery/local.py\", line 191, in __call__\n",
      "  File \"/usr/local/lib/python2.7/dist-packages/celery/local.py\", line 191, in __call__\n",
      "    self.run()\n",
      "  File \"/usr/local/lib/python2.7/dist-packages/celery/local.py\", line 191, in __call__\n",
      "  File \"/usr/lib/python2.7/multiprocessing/process.py\", line 114, in run\n",
      "    self.run()\n",
      "    self.run()\n",
      "  File \"/usr/lib/python2.7/multiprocessing/process.py\", line 258, in _bootstrap\n",
      "    self.run()\n",
      "Traceback (most recent call last):\n",
      "  File \"/usr/lib/python2.7/multiprocessing/process.py\", line 258, in _bootstrap\n",
      "  File \"/usr/lib/python2.7/multiprocessing/process.py\", line 114, in run\n",
      "  File \"/usr/lib/python2.7/multiprocessing/process.py\", line 114, in run\n",
      "    self.run()\n",
      "  File \"/usr/local/lib/python2.7/dist-packages/celery/local.py\", line 191, in __call__\n",
      "  File \"/usr/lib/python2.7/multiprocessing/process.py\", line 114, in run\n",
      "  File \"/usr/lib/python2.7/multiprocessing/process.py\", line 114, in run\n",
      "  File \"/usr/lib/python2.7/multiprocessing/process.py\", line 114, in run\n",
      "  File \"/usr/local/lib/python2.7/dist-packages/celery/local.py\", line 191, in __call__\n",
      "  File \"/usr/lib/python2.7/multiprocessing/process.py\", line 258, in _bootstrap\n",
      "    self._target(*self._args, **self._kwargs)\n",
      "    self._target(*self._args, **self._kwargs)\n",
      "  File \"/usr/lib/python2.7/multiprocessing/process.py\", line 114, in run\n",
      "  File \"/usr/local/lib/python2.7/dist-packages/celery/local.py\", line 191, in __call__\n",
      "  File \"/usr/local/lib/python2.7/dist-packages/celery/local.py\", line 191, in __call__\n",
      "  File \"/usr/local/lib/python2.7/dist-packages/celery/local.py\", line 191, in __call__\n",
      "  File \"/usr/lib/python2.7/multiprocessing/process.py\", line 114, in run\n",
      "  File \"/usr/local/lib/python2.7/dist-packages/celery/local.py\", line 191, in __call__\n",
      "    self._target(*self._args, **self._kwargs)\n",
      "    self._target(*self._args, **self._kwargs)\n",
      "  File \"/usr/lib/python2.7/multiprocessing/process.py\", line 114, in run\n",
      "    self._target(*self._args, **self._kwargs)\n",
      "    self.run()\n",
      "    self._target(*self._args, **self._kwargs)\n",
      "    self._target(*self._args, **self._kwargs)\n",
      "    self._target(*self._args, **self._kwargs)\n",
      "    self.run()\n",
      "  File \"/usr/lib/python2.7/multiprocessing/process.py\", line 114, in run\n",
      "  File \"/usr/lib/python2.7/multiprocessing/process.py\", line 114, in run\n",
      "  File \"/usr/local/lib/python2.7/dist-packages/celery/local.py\", line 191, in __call__\n",
      "    self._target(*self._args, **self._kwargs)\n",
      "    return self._get_current_object()(*a, **kw)\n",
      "    self._target(*self._args, **self._kwargs)\n",
      "    self._target(*self._args, **self._kwargs)\n",
      "    self._target(*self._args, **self._kwargs)\n",
      "  File \"/usr/lib/python2.7/multiprocessing/process.py\", line 114, in run\n",
      "    return self._get_current_object()(*a, **kw)\n",
      "    self._target(*self._args, **self._kwargs)\n",
      "  File \"/usr/lib/python2.7/multiprocessing/process.py\", line 114, in run\n",
      "    self._target(*self._args, **self._kwargs)\n",
      "    return self._get_current_object()(*a, **kw)\n",
      "  File \"/usr/lib/python2.7/multiprocessing/process.py\", line 114, in run\n",
      "    self._target(*self._args, **self._kwargs)\n",
      "  File \"/usr/lib/python2.7/multiprocessing/process.py\", line 114, in run\n",
      "  File \"/usr/lib/python2.7/multiprocessing/process.py\", line 114, in run\n",
      "  File \"/usr/lib/python2.7/multiprocessing/process.py\", line 114, in run\n",
      "  File \"/usr/lib/python2.7/multiprocessing/process.py\", line 114, in run\n",
      "    self.run()\n",
      "  File \"/usr/lib/python2.7/multiprocessing/process.py\", line 114, in run\n",
      "    return self._get_current_object()(*a, **kw)\n",
      "    self._target(*self._args, **self._kwargs)\n",
      "    self._target(*self._args, **self._kwargs)\n",
      "  File \"/usr/local/lib/python2.7/dist-packages/celery/local.py\", line 191, in __call__\n",
      "    self.run()\n",
      "    self.run()\n",
      "    self.run()\n",
      "  File \"/usr/local/lib/python2.7/dist-packages/celery/local.py\", line 191, in __call__\n",
      "    self.run()\n",
      "  File \"/usr/lib/python2.7/multiprocessing/process.py\", line 114, in run\n",
      "    self.run()\n",
      "  File \"/usr/lib/python2.7/multiprocessing/process.py\", line 114, in run\n",
      "  File \"/usr/lib/python2.7/multiprocessing/process.py\", line 114, in run\n",
      "    return self._get_current_object()(*a, **kw)\n",
      "    self._target(*self._args, **self._kwargs)\n",
      "    self.run()\n",
      "    self._target(*self._args, **self._kwargs)\n",
      "    self.run()\n",
      "    return self._get_current_object()(*a, **kw)\n",
      "    return self._get_current_object()(*a, **kw)\n",
      "    return self._get_current_object()(*a, **kw)\n",
      "  File \"/usr/local/lib/python2.7/dist-packages/celery/local.py\", line 191, in __call__\n",
      "    self.run()\n",
      "    self.run()\n"
     ]
    },
    {
     "name": "stderr",
     "output_type": "stream",
     "text": [
      "  File \"/usr/local/lib/python2.7/dist-packages/celery/local.py\", line 191, in __call__\n",
      "  File \"/usr/local/lib/python2.7/dist-packages/celery/local.py\", line 191, in __call__\n",
      "  File \"/usr/lib/python2.7/multiprocessing/process.py\", line 258, in _bootstrap\n",
      "  File \"/usr/lib/python2.7/multiprocessing/process.py\", line 114, in run\n",
      "    return self._get_current_object()(*a, **kw)\n",
      "    self.run()\n",
      "    return self._get_current_object()(*a, **kw)\n",
      "  File \"/usr/local/lib/python2.7/dist-packages/celery/app/task.py\", line 379, in __call__\n",
      "  File \"/usr/lib/python2.7/multiprocessing/process.py\", line 114, in run\n",
      "  File \"/usr/lib/python2.7/multiprocessing/process.py\", line 114, in run\n",
      "    self._target(*self._args, **self._kwargs)\n",
      "    self._target(*self._args, **self._kwargs)\n",
      "    self.run()\n",
      "    self.run()\n",
      "  File \"/usr/local/lib/python2.7/dist-packages/celery/local.py\", line 191, in __call__\n",
      "  File \"/usr/lib/python2.7/multiprocessing/process.py\", line 114, in run\n",
      "    self.run()\n",
      "  File \"/usr/local/lib/python2.7/dist-packages/celery/local.py\", line 191, in __call__\n",
      "  File \"/usr/local/lib/python2.7/dist-packages/celery/local.py\", line 191, in __call__\n",
      "  File \"/usr/lib/python2.7/multiprocessing/process.py\", line 114, in run\n",
      "  File \"/usr/lib/python2.7/multiprocessing/process.py\", line 114, in run\n",
      "    self.run()\n",
      "    self._target(*self._args, **self._kwargs)\n",
      "    self._target(*self._args, **self._kwargs)\n",
      "    self._target(*self._args, **self._kwargs)\n",
      "    return self._get_current_object()(*a, **kw)\n",
      "  File \"/usr/local/lib/python2.7/dist-packages/celery/local.py\", line 191, in __call__\n",
      "  File \"/usr/local/lib/python2.7/dist-packages/celery/app/task.py\", line 379, in __call__\n",
      "  File \"/usr/local/lib/python2.7/dist-packages/celery/app/task.py\", line 379, in __call__\n",
      "  File \"/usr/lib/python2.7/multiprocessing/process.py\", line 114, in run\n",
      "  File \"/usr/local/lib/python2.7/dist-packages/celery/local.py\", line 191, in __call__\n",
      "  File \"/usr/lib/python2.7/multiprocessing/process.py\", line 114, in run\n",
      "    self._target(*self._args, **self._kwargs)\n",
      "    self._target(*self._args, **self._kwargs)\n",
      "  File \"/usr/local/lib/python2.7/dist-packages/celery/local.py\", line 191, in __call__\n",
      "    self._target(*self._args, **self._kwargs)\n",
      "  File \"/usr/local/lib/python2.7/dist-packages/celery/local.py\", line 191, in __call__\n",
      "    self._target(*self._args, **self._kwargs)\n",
      "  File \"/usr/local/lib/python2.7/dist-packages/celery/local.py\", line 191, in __call__\n",
      "    self._target(*self._args, **self._kwargs)\n",
      "  File \"/usr/local/lib/python2.7/dist-packages/celery/app/task.py\", line 379, in __call__\n",
      "    self._target(*self._args, **self._kwargs)\n",
      "  File \"/usr/local/lib/python2.7/dist-packages/celery/local.py\", line 191, in __call__\n",
      "    self._target(*self._args, **self._kwargs)\n",
      "    self._target(*self._args, **self._kwargs)\n",
      "    self._target(*self._args, **self._kwargs)\n",
      "    self._target(*self._args, **self._kwargs)\n",
      "    self.run()\n",
      "  File \"/usr/local/lib/python2.7/dist-packages/celery/local.py\", line 191, in __call__\n",
      "  File \"/usr/local/lib/python2.7/dist-packages/celery/local.py\", line 191, in __call__\n",
      "  File \"/usr/local/lib/python2.7/dist-packages/celery/local.py\", line 191, in __call__\n",
      "    self._target(*self._args, **self._kwargs)\n",
      "    return self._get_current_object()(*a, **kw)\n",
      "  File \"/usr/lib/python2.7/multiprocessing/process.py\", line 114, in run\n",
      "    self._target(*self._args, **self._kwargs)\n",
      "    self._target(*self._args, **self._kwargs)\n",
      "  File \"/usr/local/lib/python2.7/dist-packages/celery/local.py\", line 191, in __call__\n",
      "    self._target(*self._args, **self._kwargs)\n",
      "  File \"/usr/lib/python2.7/multiprocessing/process.py\", line 114, in run\n",
      "    self._target(*self._args, **self._kwargs)\n",
      "  File \"/usr/lib/python2.7/multiprocessing/process.py\", line 114, in run\n",
      "  File \"/usr/local/lib/python2.7/dist-packages/celery/local.py\", line 191, in __call__\n",
      "  File \"/usr/local/lib/python2.7/dist-packages/celery/local.py\", line 191, in __call__\n",
      "  File \"/usr/local/lib/python2.7/dist-packages/celery/local.py\", line 191, in __call__\n",
      "    return self.run(*args, **kwargs)\n",
      "  File \"/usr/lib/python2.7/multiprocessing/process.py\", line 114, in run\n",
      "    return self.run(*args, **kwargs)\n",
      "  File \"/usr/local/lib/python2.7/dist-packages/celery/local.py\", line 191, in __call__\n",
      "    self._target(*self._args, **self._kwargs)\n",
      "    self._target(*self._args, **self._kwargs)\n",
      "    return self._get_current_object()(*a, **kw)\n",
      "  File \"/usr/local/lib/python2.7/dist-packages/celery/app/task.py\", line 379, in __call__\n",
      "    return self._get_current_object()(*a, **kw)\n",
      "  File \"/usr/lib/python2.7/multiprocessing/process.py\", line 114, in run\n",
      "    self.run()\n",
      "  File \"/usr/local/lib/python2.7/dist-packages/celery/local.py\", line 191, in __call__\n",
      "  File \"/usr/lib/python2.7/multiprocessing/process.py\", line 114, in run\n",
      "  File \"/usr/local/lib/python2.7/dist-packages/celery/local.py\", line 191, in __call__\n",
      "  File \"/usr/lib/python2.7/multiprocessing/process.py\", line 114, in run\n",
      "    self._target(*self._args, **self._kwargs)\n",
      "    return self._get_current_object()(*a, **kw)\n",
      "    self._target(*self._args, **self._kwargs)\n",
      "    return self._get_current_object()(*a, **kw)\n",
      "    return self._get_current_object()(*a, **kw)\n",
      "    self._target(*self._args, **self._kwargs)\n",
      "  File \"/usr/local/lib/python2.7/dist-packages/celery/app/task.py\", line 379, in __call__\n",
      "  File \"/usr/local/lib/python2.7/dist-packages/celery/local.py\", line 191, in __call__\n",
      "    self._target(*self._args, **self._kwargs)\n",
      "  File \"/usr/lib/python2.7/multiprocessing/process.py\", line 114, in run\n",
      "  File \"/usr/local/lib/python2.7/dist-packages/celery/local.py\", line 191, in __call__\n",
      "    return self.run(*args, **kwargs)\n",
      "  File \"/usr/lib/python2.7/multiprocessing/process.py\", line 114, in run\n",
      "    return self._get_current_object()(*a, **kw)\n",
      "  File \"/usr/local/lib/python2.7/dist-packages/celery/local.py\", line 191, in __call__\n",
      "  File \"/usr/local/lib/python2.7/dist-packages/celery/app/task.py\", line 379, in __call__\n",
      "  File \"/usr/local/lib/python2.7/dist-packages/celery/local.py\", line 191, in __call__\n",
      "  File \"/usr/local/lib/python2.7/dist-packages/celery/local.py\", line 191, in __call__\n",
      "  File \"/usr/local/lib/python2.7/dist-packages/celery/app/task.py\", line 379, in __call__\n",
      "    return self._get_current_object()(*a, **kw)\n",
      "  File \"/usr/local/lib/python2.7/dist-packages/celery/local.py\", line 191, in __call__\n",
      "    self._target(*self._args, **self._kwargs)\n",
      "    self._target(*self._args, **self._kwargs)\n",
      "  File \"/usr/local/lib/python2.7/dist-packages/celery/local.py\", line 191, in __call__\n",
      "    self._target(*self._args, **self._kwargs)\n",
      "    return self.run(*args, **kwargs)\n",
      "  File \"/usr/local/lib/python2.7/dist-packages/celery/local.py\", line 191, in __call__\n",
      "    return self._get_current_object()(*a, **kw)\n",
      "    return self._get_current_object()(*a, **kw)\n",
      "    self._target(*self._args, **self._kwargs)\n",
      "  File \"/usr/local/lib/python2.7/dist-packages/celery/app/task.py\", line 379, in __call__\n",
      "  File \"/usr/local/lib/python2.7/dist-packages/celery/app/task.py\", line 379, in __call__\n",
      "  File \"dataapp/tasks.py\", line 76, in UpdatePriceData\n",
      "    return self._get_current_object()(*a, **kw)\n",
      "    return self._get_current_object()(*a, **kw)\n",
      "    return self.run(*args, **kwargs)\n",
      "    return self.run(*args, **kwargs)\n",
      "    return self._get_current_object()(*a, **kw)\n",
      "    self._target(*self._args, **self._kwargs)\n",
      "  File \"/usr/local/lib/python2.7/dist-packages/celery/app/task.py\", line 379, in __call__\n",
      "    return self._get_current_object()(*a, **kw)\n",
      "  File \"/usr/lib/python2.7/multiprocessing/process.py\", line 114, in run\n",
      "  File \"/usr/lib/python2.7/multiprocessing/process.py\", line 114, in run\n",
      "  File \"/usr/local/lib/python2.7/dist-packages/celery/app/task.py\", line 379, in __call__\n",
      "    return self._get_current_object()(*a, **kw)\n",
      "    return self._get_current_object()(*a, **kw)\n",
      "  File \"/usr/local/lib/python2.7/dist-packages/celery/app/task.py\", line 379, in __call__\n",
      "    return self._get_current_object()(*a, **kw)\n",
      "    return self._get_current_object()(*a, **kw)\n",
      "  File \"/usr/local/lib/python2.7/dist-packages/celery/local.py\", line 191, in __call__\n",
      "  File \"/usr/local/lib/python2.7/dist-packages/celery/local.py\", line 191, in __call__\n",
      "    self._target(*self._args, **self._kwargs)\n"
     ]
    },
    {
     "name": "stderr",
     "output_type": "stream",
     "text": [
      "  File \"/usr/lib/python2.7/multiprocessing/process.py\", line 114, in run\n",
      "  File \"/usr/local/lib/python2.7/dist-packages/celery/app/task.py\", line 379, in __call__\n",
      "    return self._get_current_object()(*a, **kw)\n",
      "    return self._get_current_object()(*a, **kw)\n",
      "  File \"/usr/local/lib/python2.7/dist-packages/celery/local.py\", line 191, in __call__\n",
      "  File \"/usr/local/lib/python2.7/dist-packages/celery/local.py\", line 191, in __call__\n",
      "  File \"/usr/local/lib/python2.7/dist-packages/celery/local.py\", line 191, in __call__\n",
      "  File \"dataapp/tasks.py\", line 76, in UpdatePriceData\n",
      "    return self._get_current_object()(*a, **kw)\n",
      "    self.run()\n",
      "  File \"/usr/local/lib/python2.7/dist-packages/celery/app/task.py\", line 379, in __call__\n",
      "  File \"/usr/local/lib/python2.7/dist-packages/celery/app/task.py\", line 379, in __call__\n",
      "  File \"/usr/local/lib/python2.7/dist-packages/celery/app/task.py\", line 379, in __call__\n",
      "    self._target(*self._args, **self._kwargs)\n",
      "  File \"/usr/local/lib/python2.7/dist-packages/celery/app/task.py\", line 379, in __call__\n",
      "    self._target(*self._args, **self._kwargs)\n",
      "    return self.run(*args, **kwargs)\n",
      "    self._target(*self._args, **self._kwargs)\n",
      "  File \"/usr/local/lib/python2.7/dist-packages/celery/app/task.py\", line 379, in __call__\n",
      "    return self._get_current_object()(*a, **kw)\n",
      "    self._target(*self._args, **self._kwargs)\n",
      "  File \"/usr/local/lib/python2.7/dist-packages/celery/local.py\", line 191, in __call__\n",
      "  File \"/usr/local/lib/python2.7/dist-packages/celery/app/task.py\", line 379, in __call__\n",
      "  File \"dataapp/tasks.py\", line 76, in UpdatePriceData\n",
      "    kwargs['lock'].acquire()\n",
      "    return self.run(*args, **kwargs)\n",
      "    return self.run(*args, **kwargs)\n",
      "  File \"/usr/local/lib/python2.7/dist-packages/celery/local.py\", line 191, in __call__\n",
      "  File \"/usr/local/lib/python2.7/dist-packages/celery/app/task.py\", line 379, in __call__\n",
      "    return self._get_current_object()(*a, **kw)\n",
      "  File \"/usr/local/lib/python2.7/dist-packages/celery/app/task.py\", line 379, in __call__\n",
      "    return self.run(*args, **kwargs)\n",
      "    return self.run(*args, **kwargs)\n",
      "  File \"/usr/lib/python2.7/multiprocessing/process.py\", line 114, in run\n",
      "  File \"/usr/local/lib/python2.7/dist-packages/celery/local.py\", line 191, in __call__\n",
      "  File \"/usr/local/lib/python2.7/dist-packages/celery/app/task.py\", line 379, in __call__\n",
      "  File \"/usr/local/lib/python2.7/dist-packages/celery/app/task.py\", line 379, in __call__\n",
      "    return self._get_current_object()(*a, **kw)\n",
      "    return self._get_current_object()(*a, **kw)\n",
      "  File \"/usr/local/lib/python2.7/dist-packages/celery/app/task.py\", line 379, in __call__\n",
      "    return self._get_current_object()(*a, **kw)\n",
      "    return self._get_current_object()(*a, **kw)\n",
      "    return self._get_current_object()(*a, **kw)\n",
      "  File \"/usr/local/lib/python2.7/dist-packages/celery/app/task.py\", line 379, in __call__\n",
      "    return self.run(*args, **kwargs)\n",
      "  File \"/usr/local/lib/python2.7/dist-packages/celery/local.py\", line 191, in __call__\n",
      "  File \"/usr/local/lib/python2.7/dist-packages/celery/app/task.py\", line 379, in __call__\n",
      "  File \"/usr/local/lib/python2.7/dist-packages/celery/app/task.py\", line 379, in __call__\n",
      "  File \"/usr/local/lib/python2.7/dist-packages/celery/local.py\", line 191, in __call__\n",
      "  File \"dataapp/tasks.py\", line 76, in UpdatePriceData\n",
      "  File \"/usr/local/lib/python2.7/dist-packages/celery/local.py\", line 191, in __call__\n",
      "  File \"/usr/local/lib/python2.7/dist-packages/celery/local.py\", line 191, in __call__\n",
      "    self._target(*self._args, **self._kwargs)\n",
      "  File \"/usr/local/lib/python2.7/dist-packages/celery/local.py\", line 191, in __call__\n",
      "  File \"dataapp/tasks.py\", line 76, in UpdatePriceData\n",
      "  File \"/usr/local/lib/python2.7/dist-packages/celery/local.py\", line 191, in __call__\n",
      "  File \"/usr/lib/python2.7/multiprocessing/process.py\", line 114, in run\n",
      "  File \"/usr/lib/python2.7/multiprocessing/process.py\", line 114, in run\n",
      "  File \"/usr/local/lib/python2.7/dist-packages/celery/local.py\", line 191, in __call__\n",
      "    return self._get_current_object()(*a, **kw)\n",
      "  File \"/usr/local/lib/python2.7/dist-packages/celery/local.py\", line 191, in __call__\n",
      "    self._target(*self._args, **self._kwargs)\n",
      "    return self.run(*args, **kwargs)\n",
      "  File \"dataapp/tasks.py\", line 76, in UpdatePriceData\n",
      "    return self.run(*args, **kwargs)\n",
      "    return self._get_current_object()(*a, **kw)\n",
      "  File \"/usr/local/lib/python2.7/dist-packages/celery/app/task.py\", line 379, in __call__\n",
      "    return self.run(*args, **kwargs)\n",
      "    return self.run(*args, **kwargs)\n",
      "  File \"/usr/local/lib/python2.7/dist-packages/celery/local.py\", line 191, in __call__\n",
      "  File \"/usr/local/lib/python2.7/dist-packages/celery/app/task.py\", line 379, in __call__\n",
      "    return self.run(*args, **kwargs)\n",
      "    return self._get_current_object()(*a, **kw)\n",
      "    return self._get_current_object()(*a, **kw)\n",
      "    self._target(*self._args, **self._kwargs)\n",
      "    return self._get_current_object()(*a, **kw)\n",
      "    return self._get_current_object()(*a, **kw)\n",
      "  File \"dataapp/tasks.py\", line 76, in UpdatePriceData\n",
      "    return self.run(*args, **kwargs)\n",
      "    self._target(*self._args, **self._kwargs)\n",
      "  File \"/usr/local/lib/python2.7/dist-packages/celery/local.py\", line 191, in __call__\n",
      "    return self.run(*args, **kwargs)\n",
      "    return self._get_current_object()(*a, **kw)\n",
      "  File \"/usr/local/lib/python2.7/dist-packages/celery/app/task.py\", line 379, in __call__\n",
      "Process Process-108:\n",
      "  File \"/usr/local/lib/python2.7/dist-packages/celery/app/task.py\", line 379, in __call__\n",
      "  File \"dataapp/tasks.py\", line 76, in UpdatePriceData\n",
      "    return self._get_current_object()(*a, **kw)\n",
      "  File \"/usr/local/lib/python2.7/dist-packages/celery/app/task.py\", line 379, in __call__\n",
      "    return self.run(*args, **kwargs)\n",
      "    return self.run(*args, **kwargs)\n",
      "  File \"/usr/local/lib/python2.7/dist-packages/celery/app/task.py\", line 379, in __call__\n",
      "  File \"/usr/lib/python2.7/multiprocessing/process.py\", line 114, in run\n",
      "  File \"/usr/local/lib/python2.7/dist-packages/celery/local.py\", line 191, in __call__\n",
      "  File \"dataapp/tasks.py\", line 76, in UpdatePriceData\n",
      "    return self._get_current_object()(*a, **kw)\n",
      "    return self._get_current_object()(*a, **kw)\n",
      "  File \"/usr/local/lib/python2.7/dist-packages/celery/local.py\", line 191, in __call__\n",
      "    kwargs['lock'].acquire()\n",
      "    return self.run(*args, **kwargs)\n",
      "    kwargs['lock'].acquire()\n",
      "    return self.run(*args, **kwargs)\n",
      "    self._target(*self._args, **self._kwargs)\n",
      "  File \"/usr/local/lib/python2.7/dist-packages/celery/local.py\", line 191, in __call__\n",
      "    return self.run(*args, **kwargs)\n",
      "    return self._get_current_object()(*a, **kw)\n",
      "  File \"dataapp/tasks.py\", line 76, in UpdatePriceData\n",
      "  File \"/usr/local/lib/python2.7/dist-packages/celery/local.py\", line 191, in __call__\n",
      "  File \"dataapp/tasks.py\", line 76, in UpdatePriceData\n",
      "  File \"/usr/local/lib/python2.7/dist-packages/celery/app/task.py\", line 379, in __call__\n",
      "    return self.run(*args, **kwargs)\n",
      "KeyboardInterrupt\n",
      "  File \"dataapp/tasks.py\", line 76, in UpdatePriceData\n",
      "  File \"/usr/local/lib/python2.7/dist-packages/celery/app/task.py\", line 379, in __call__\n",
      "  File \"dataapp/tasks.py\", line 76, in UpdatePriceData\n",
      "  File \"dataapp/tasks.py\", line 76, in UpdatePriceData\n",
      "    return self._get_current_object()(*a, **kw)\n",
      "  File \"/usr/local/lib/python2.7/dist-packages/celery/app/task.py\", line 379, in __call__\n",
      "    return self._get_current_object()(*a, **kw)\n",
      "  File \"/usr/local/lib/python2.7/dist-packages/celery/app/task.py\", line 379, in __call__\n",
      "  File \"/usr/local/lib/python2.7/dist-packages/celery/local.py\", line 191, in __call__\n",
      "    return self.run(*args, **kwargs)\n",
      "  File \"dataapp/tasks.py\", line 76, in UpdatePriceData\n",
      "  File \"/usr/local/lib/python2.7/dist-packages/celery/app/task.py\", line 379, in __call__\n",
      "    return self._get_current_object()(*a, **kw)\n",
      "    kwargs['lock'].acquire()\n",
      "  File \"dataapp/tasks.py\", line 69, in UpdatePriceData\n",
      "    return self.run(*args, **kwargs)\n",
      "    return self._get_current_object()(*a, **kw)\n",
      "  File \"/usr/local/lib/python2.7/dist-packages/celery/local.py\", line 191, in __call__\n",
      "    return self.run(*args, **kwargs)\n",
      "    kwargs['lock'].acquire()\n",
      "  File \"dataapp/tasks.py\", line 76, in UpdatePriceData\n",
      "  File \"/usr/local/lib/python2.7/dist-packages/celery/app/task.py\", line 379, in __call__\n"
     ]
    },
    {
     "name": "stderr",
     "output_type": "stream",
     "text": [
      "  File \"/usr/local/lib/python2.7/dist-packages/celery/local.py\", line 191, in __call__\n",
      "  File \"/usr/local/lib/python2.7/dist-packages/celery/app/task.py\", line 379, in __call__\n",
      "    return self._get_current_object()(*a, **kw)\n",
      "  File \"/usr/local/lib/python2.7/dist-packages/celery/local.py\", line 191, in __call__\n",
      "    kwargs['lock'].acquire()\n",
      "  File \"/usr/local/lib/python2.7/dist-packages/celery/app/task.py\", line 379, in __call__\n",
      "    return self._get_current_object()(*a, **kw)\n",
      "    kwargs['lock'].acquire()\n",
      "    return self.run(*args, **kwargs)\n",
      "  File \"/usr/local/lib/python2.7/dist-packages/celery/local.py\", line 191, in __call__\n",
      "    self._target(*self._args, **self._kwargs)\n",
      "    return self._get_current_object()(*a, **kw)\n",
      "    return self._get_current_object()(*a, **kw)\n",
      "    return self.run(*args, **kwargs)\n",
      "  File \"/usr/local/lib/python2.7/dist-packages/celery/local.py\", line 191, in __call__\n",
      "    return self.run(*args, **kwargs)\n",
      "  File \"dataapp/tasks.py\", line 76, in UpdatePriceData\n",
      "  File \"/usr/local/lib/python2.7/dist-packages/celery/app/task.py\", line 379, in __call__\n",
      "  File \"/usr/local/lib/python2.7/dist-packages/celery/app/task.py\", line 379, in __call__\n",
      "    return self._get_current_object()(*a, **kw)\n",
      "    return self._get_current_object()(*a, **kw)\n",
      "Traceback (most recent call last):\n",
      "    return self._get_current_object()(*a, **kw)\n",
      "  File \"dataapp/tasks.py\", line 76, in UpdatePriceData\n",
      "  File \"/usr/local/lib/python2.7/dist-packages/celery/app/task.py\", line 379, in __call__\n",
      "    kwargs['lock'].acquire()\n",
      "  File \"/usr/local/lib/python2.7/dist-packages/celery/local.py\", line 191, in __call__\n",
      "    return self._get_current_object()(*a, **kw)\n",
      "  File \"/usr/local/lib/python2.7/dist-packages/celery/local.py\", line 191, in __call__\n",
      "    return self.run(*args, **kwargs)\n",
      "  File \"/usr/lib/python2.7/multiprocessing/process.py\", line 114, in run\n",
      "    return self.run(*args, **kwargs)\n",
      "  File \"/usr/local/lib/python2.7/dist-packages/celery/app/task.py\", line 379, in __call__\n",
      "  File \"dataapp/tasks.py\", line 76, in UpdatePriceData\n",
      "    return self.run(*args, **kwargs)\n",
      "    return self._get_current_object()(*a, **kw)\n",
      "  File \"/usr/local/lib/python2.7/dist-packages/celery/app/task.py\", line 379, in __call__\n",
      "  File \"/usr/local/lib/python2.7/dist-packages/celery/app/task.py\", line 379, in __call__\n",
      "  File \"dataapp/tasks.py\", line 76, in UpdatePriceData\n",
      "  File \"dataapp/tasks.py\", line 76, in UpdatePriceData\n",
      "  File \"dataapp/tasks.py\", line 76, in UpdatePriceData\n",
      "    return self.run(*args, **kwargs)\n",
      "    kwargs['lock'].acquire()\n",
      "  File \"dataapp/tasks.py\", line 76, in UpdatePriceData\n",
      "    kwargs['lock'].acquire()\n",
      "  File \"/usr/local/lib/python2.7/dist-packages/celery/app/task.py\", line 379, in __call__\n",
      "    return self.run(*args, **kwargs)\n",
      "    kwargs['lock'].acquire()\n",
      "    return self.run(*args, **kwargs)\n",
      "  File \"/usr/local/lib/python2.7/dist-packages/celery/app/task.py\", line 379, in __call__\n",
      "KeyboardInterrupt\n",
      "    kwargs['lock'].acquire()\n",
      "    kwargs['lock'].acquire()\n",
      "  File \"/usr/local/lib/python2.7/dist-packages/celery/app/task.py\", line 379, in __call__\n",
      "    return self._get_current_object()(*a, **kw)\n",
      "    kwargs['lock'].acquire()\n",
      "  File \"dataapp/tasks.py\", line 76, in UpdatePriceData\n",
      "  File \"/usr/local/lib/python2.7/dist-packages/celery/local.py\", line 191, in __call__\n",
      "    return self._get_current_object()(*a, **kw)\n",
      "  File \"/usr/local/lib/python2.7/dist-packages/celery/app/task.py\", line 379, in __call__\n",
      "  File \"dataapp/tasks.py\", line 76, in UpdatePriceData\n",
      "    return self.run(*args, **kwargs)\n",
      "    self._target(*self._args, **self._kwargs)\n",
      "  File \"dataapp/tasks.py\", line 76, in UpdatePriceData\n",
      "  File \"/usr/local/lib/python2.7/dist-packages/celery/app/task.py\", line 379, in __call__\n",
      "    return self._get_current_object()(*a, **kw)\n",
      "  File \"/usr/local/lib/python2.7/dist-packages/celery/app/task.py\", line 379, in __call__\n",
      "    return self._get_current_object()(*a, **kw)\n",
      "    kwargs['lock'].acquire()\n",
      "KeyboardInterrupt\n",
      "KeyboardInterrupt\n",
      "    return self._get_current_object()(*a, **kw)\n",
      "    self._target(*self._args, **self._kwargs)\n",
      "    return self.run(*args, **kwargs)\n",
      "  File \"/usr/local/lib/python2.7/dist-packages/celery/app/task.py\", line 379, in __call__\n",
      "    return self.run(*args, **kwargs)\n",
      "    return self.run(*args, **kwargs)\n",
      "  File \"/usr/local/lib/python2.7/dist-packages/celery/app/task.py\", line 379, in __call__\n",
      "  File \"/usr/local/lib/python2.7/dist-packages/celery/app/task.py\", line 379, in __call__\n",
      "  File \"dataapp/tasks.py\", line 76, in UpdatePriceData\n",
      "    objs.append( dtamd.Stockprice(Close=df.loc[ind,'Close'], Open=df.loc[ind,'Open'] ,\n",
      "KeyboardInterrupt\n"
     ]
    },
    {
     "name": "stdout",
     "output_type": "stream",
     "text": [
      "Updated data for  SOXX  downloaded  3858 \r",
      "Updated data for  SPHQ  downloaded  2868 \r",
      "Updated data for  SOCL  downloaded  1371 \r",
      "Updated data for  SHM  downloaded  2399 \r",
      "Updated data for  SOXL  downloaded  1797 \r",
      "Updated data for  SMH  downloaded  3858 \r",
      "Updated data for  GRRB  downloaded  3414 \r"
     ]
    },
    {
     "name": "stderr",
     "output_type": "stream",
     "text": [
      "KeyboardInterrupt\n",
      "  File \"dataapp/tasks.py\", line 76, in UpdatePriceData\n",
      "  File \"/usr/local/lib/python2.7/dist-packages/celery/app/task.py\", line 379, in __call__\n",
      "  File \"dataapp/tasks.py\", line 76, in UpdatePriceData\n",
      "  File \"/usr/local/lib/python2.7/dist-packages/celery/app/task.py\", line 379, in __call__\n",
      "    return self._get_current_object()(*a, **kw)\n",
      "    kwargs['lock'].acquire()\n",
      "KeyboardInterrupt\n",
      "  File \"/usr/local/lib/python2.7/dist-packages/celery/local.py\", line 191, in __call__\n",
      "    return self.run(*args, **kwargs)\n",
      "    return self._get_current_object()(*a, **kw)\n",
      "    kwargs['lock'].acquire()\n",
      "  File \"/usr/local/lib/python2.7/dist-packages/celery/app/task.py\", line 379, in __call__\n",
      "  File \"/usr/local/lib/python2.7/dist-packages/celery/app/task.py\", line 379, in __call__\n",
      "    return self.run(*args, **kwargs)\n",
      "    return self.run(*args, **kwargs)\n",
      "    return self.run(*args, **kwargs)\n",
      "    return self._get_current_object()(*a, **kw)\n",
      "KeyboardInterrupt\n",
      "    kwargs['lock'].acquire()\n",
      "    return self._get_current_object()(*a, **kw)\n",
      "  File \"dataapp/tasks.py\", line 76, in UpdatePriceData\n",
      "    kwargs['lock'].acquire()\n",
      "  File \"dataapp/tasks.py\", line 76, in UpdatePriceData\n",
      "KeyboardInterrupt\n",
      "    self._target(*self._args, **self._kwargs)\n",
      "  File \"/usr/local/lib/python2.7/dist-packages/celery/app/task.py\", line 379, in __call__\n",
      "  File \"/usr/lib/python2.7/multiprocessing/process.py\", line 258, in _bootstrap\n",
      "  File \"dataapp/tasks.py\", line 76, in UpdatePriceData\n",
      "  File \"dataapp/tasks.py\", line 76, in UpdatePriceData\n",
      "    return self.run(*args, **kwargs)\n",
      "    return self.run(*args, **kwargs)\n",
      "KeyboardInterrupt\n",
      "  File \"dataapp/tasks.py\", line 76, in UpdatePriceData\n",
      "    kwargs['lock'].acquire()\n",
      "  File \"dataapp/tasks.py\", line 76, in UpdatePriceData\n",
      "    return self.run(*args, **kwargs)\n",
      "    return self._get_current_object()(*a, **kw)\n",
      "    return self._get_current_object()(*a, **kw)\n",
      "    return self.run(*args, **kwargs)\n",
      "    return self.run(*args, **kwargs)\n",
      "    kwargs['lock'].acquire()\n",
      "KeyboardInterrupt\n",
      "  File \"/usr/local/lib/python2.7/dist-packages/celery/app/task.py\", line 379, in __call__\n",
      "    return self.run(*args, **kwargs)\n",
      "    kwargs['lock'].acquire()\n",
      "  File \"dataapp/tasks.py\", line 76, in UpdatePriceData\n",
      "  File \"/usr/local/lib/python2.7/dist-packages/celery/app/task.py\", line 379, in __call__\n",
      "    return self._get_current_object()(*a, **kw)\n",
      "    kwargs['lock'].acquire()\n",
      "    kwargs['lock'].acquire()\n",
      "  File \"/usr/local/lib/python2.7/dist-packages/celery/app/task.py\", line 379, in __call__\n",
      "  File \"dataapp/tasks.py\", line 76, in UpdatePriceData\n",
      "  File \"/usr/local/lib/python2.7/dist-packages/celery/local.py\", line 191, in __call__\n",
      "    kwargs['lock'].acquire()\n",
      "KeyboardInterrupt\n",
      "KeyboardInterrupt\n",
      "    return self.run(*args, **kwargs)\n",
      "KeyboardInterrupt\n",
      "    return self.run(*args, **kwargs)\n",
      "KeyboardInterrupt\n",
      "  File \"/usr/local/lib/python2.7/dist-packages/celery/app/task.py\", line 379, in __call__\n",
      "  File \"/usr/local/lib/python2.7/dist-packages/celery/app/task.py\", line 379, in __call__\n"
     ]
    },
    {
     "name": "stdout",
     "output_type": "stream",
     "text": [
      "Updated data for  CHN  downloaded  3858 \r",
      "Updated data for  CHNR  downloaded  3858 \r",
      "Updated data for  CEW  downloaded  1992 \r",
      "Updated data for  CGW  downloaded  2509 \r",
      "Updated data for  COUP  downloaded  141 \r",
      "Updated data for  BZF  downloaded  2250 \r",
      "Updated data for  CH  downloaded  3858 \r"
     ]
    },
    {
     "name": "stderr",
     "output_type": "stream",
     "text": [
      "    kwargs['lock'].acquire()\n",
      "    return self.run(*args, **kwargs)\n"
     ]
    },
    {
     "name": "stdout",
     "output_type": "stream",
     "text": [
      "Updated data for  CNR  downloaded  3830 \r",
      "Updated data for  CNGO  downloaded  771 \r",
      "Updated data for  CNDA  downloaded  1789 \r",
      "Updated data for  CGO  downloaded  2895 \r"
     ]
    },
    {
     "name": "stderr",
     "output_type": "stream",
     "text": [
      "  File \"/usr/local/lib/python2.7/dist-packages/celery/app/task.py\", line 379, in __call__\n"
     ]
    },
    {
     "name": "stdout",
     "output_type": "stream",
     "text": [
      "Updated data for  AOA  downloaded  2130 \r",
      "Updated data for  AMBK  downloaded  3858 \r",
      "Updated data for  ARN  downloaded  225 \r",
      "Updated data for  AMNF  downloaded  3858 \r",
      "Updated data for  APTO  downloaded  633 \r",
      "Updated data for  AP  downloaded  3858 \r",
      "Updated data for  AMBZ  downloaded  3269 \r",
      "Updated data for  APWC  downloaded  3473 \r"
     ]
    },
    {
     "name": "stderr",
     "output_type": "stream",
     "text": [
      "  File \"/usr/local/lib/python2.7/dist-packages/celery/local.py\", line 191, in __call__\n",
      "  File \"dataapp/tasks.py\", line 76, in UpdatePriceData\n",
      "    return self.run(*args, **kwargs)\n",
      "    return self.run(*args, **kwargs)\n",
      "    return self._get_current_object()(*a, **kw)\n",
      "    return self.run(*args, **kwargs)\n",
      "  File \"/usr/local/lib/python2.7/dist-packages/pandas/core/indexing.py\", line 1310, in __getitem__\n",
      "    return self.run(*args, **kwargs)\n",
      "    kwargs['lock'].acquire()\n"
     ]
    },
    {
     "name": "stdout",
     "output_type": "stream",
     "text": [
      "Updated data for  WDTI  downloaded  1589 \r"
     ]
    },
    {
     "name": "stderr",
     "output_type": "stream",
     "text": [
      "    kwargs['lock'].acquire()\n",
      "  File \"dataapp/tasks.py\", line 76, in UpdatePriceData\n",
      "  File \"/usr/local/lib/python2.7/dist-packages/celery/app/task.py\", line 379, in __call__\n",
      "KeyboardInterrupt\n",
      "    kwargs['lock'].acquire()\n",
      "  File \"/usr/local/lib/python2.7/dist-packages/celery/app/task.py\", line 379, in __call__\n",
      "    return self.run(*args, **kwargs)\n",
      "    return self.run(*args, **kwargs)\n",
      "  File \"dataapp/tasks.py\", line 76, in UpdatePriceData\n",
      "  File \"dataapp/tasks.py\", line 76, in UpdatePriceData\n",
      "KeyboardInterrupt\n",
      "  File \"dataapp/tasks.py\", line 76, in UpdatePriceData\n",
      "  File \"/usr/local/lib/python2.7/dist-packages/celery/app/task.py\", line 379, in __call__\n",
      "    return self.run(*args, **kwargs)\n"
     ]
    },
    {
     "name": "stdout",
     "output_type": "stream",
     "text": [
      "Updated data for  DOO  downloaded  2736 \r",
      "Updated data for  DYNT  downloaded  3858 \r",
      "Updated data for  DSI  downloaded  2628 \r",
      "Updated data for  DYNR  downloaded  2429 \r",
      "Updated data for  DTD  downloaded  2736 \r",
      "Updated data for  EDEN  downloaded  1323 \r",
      "Updated data for  DGT  downloaded  3858 \r",
      "Updated data for  ECSL  downloaded  2249 \r"
     ]
    },
    {
     "name": "stderr",
     "output_type": "stream",
     "text": [
      "  File \"/usr/local/lib/python2.7/dist-packages/celery/app/task.py\", line 379, in __call__\n",
      "  File \"dataapp/tasks.py\", line 76, in UpdatePriceData\n",
      "KeyboardInterrupt\n",
      "KeyboardInterrupt\n",
      "    return self.run(*args, **kwargs)\n",
      "    kwargs['lock'].acquire()\n",
      "KeyboardInterrupt\n",
      "    kwargs['lock'].acquire()\n",
      "    kwargs['lock'].acquire()\n",
      "  File \"dataapp/tasks.py\", line 76, in UpdatePriceData\n",
      "    kwargs['lock'].acquire()\n",
      "    kwargs['lock'].acquire()\n",
      "  File \"dataapp/tasks.py\", line 76, in UpdatePriceData\n",
      "  File \"/usr/local/lib/python2.7/dist-packages/celery/app/task.py\", line 379, in __call__\n",
      "  File \"dataapp/tasks.py\", line 76, in UpdatePriceData\n",
      "    kwargs['lock'].acquire()\n",
      "    return self.run(*args, **kwargs)\n",
      "  File \"/usr/local/lib/python2.7/dist-packages/celery/app/task.py\", line 379, in __call__\n",
      "    kwargs['lock'].acquire()\n",
      "    return self.run(*args, **kwargs)\n",
      "KeyboardInterrupt\n",
      "  File \"dataapp/tasks.py\", line 76, in UpdatePriceData\n",
      "  File \"dataapp/tasks.py\", line 76, in UpdatePriceData\n",
      "KeyboardInterrupt\n"
     ]
    },
    {
     "name": "stdout",
     "output_type": "stream",
     "text": [
      "Updated data for  HARL  downloaded  3858 \r",
      "Updated data for  FCBI  downloaded  2431 \r",
      "Updated data for  FDT  downloaded  1517 \r",
      "Updated data for  FPCG  downloaded  3250 \r",
      "Updated data for  FCO  downloaded  3858 \r",
      "Updated data for  FDBC  downloaded  3858 \r",
      "Updated data for  FDHC  downloaded  666 \r"
     ]
    },
    {
     "name": "stderr",
     "output_type": "stream",
     "text": [
      "  File \"/usr/local/lib/python2.7/dist-packages/celery/app/task.py\", line 379, in __call__\n",
      "  File \"dataapp/tasks.py\", line 76, in UpdatePriceData\n",
      "KeyboardInterrupt\n",
      "    return self.run(*args, **kwargs)\n",
      "  File \"dataapp/tasks.py\", line 76, in UpdatePriceData\n",
      "  File \"dataapp/tasks.py\", line 76, in UpdatePriceData\n",
      "  File \"dataapp/tasks.py\", line 76, in UpdatePriceData\n",
      "    kwargs['lock'].acquire()\n",
      "    kwargs['lock'].acquire()\n",
      "  File \"dataapp/tasks.py\", line 76, in UpdatePriceData\n",
      "  File \"dataapp/tasks.py\", line 76, in UpdatePriceData\n",
      "KeyboardInterrupt\n"
     ]
    },
    {
     "name": "stdout",
     "output_type": "stream",
     "text": [
      "Updated data for  CXEE  downloaded  1051 \r",
      "Updated data for  CXH  downloaded  3858 \r",
      "Updated data for  CXGP  downloaded  1178 \r",
      "Updated data for  CVU  downloaded  3858 \r",
      "Updated data for  DBGR  downloaded  1482 \r",
      "Updated data for  DBCP  downloaded  3858 \r",
      "Updated data for  CWBC  downloaded  3858 \r",
      "Updated data for  DBEM  downloaded  1482 \r"
     ]
    },
    {
     "name": "stderr",
     "output_type": "stream",
     "text": [
      "    return self.run(*args, **kwargs)\n",
      "  File \"dataapp/tasks.py\", line 76, in UpdatePriceData\n",
      "KeyboardInterrupt\n"
     ]
    },
    {
     "name": "stdout",
     "output_type": "stream",
     "text": [
      "Updated data for  FIVE  downloaded  1202 \r"
     ]
    },
    {
     "name": "stderr",
     "output_type": "stream",
     "text": [
      "    kwargs['lock'].acquire()\n",
      "KeyboardInterrupt\n",
      "    kwargs['lock'].acquire()\n",
      "    return self.run(*args, **kwargs)\n",
      "KeyboardInterrupt\n",
      "    return self._getitem_tuple(key)\n"
     ]
    },
    {
     "name": "stdout",
     "output_type": "stream",
     "text": [
      "Updated data for  GJO  downloaded  2878 \r",
      "Updated data for  GLBS  downloaded  2301 \r",
      "Updated data for  GBAB  downloaded  1636 \r",
      "Updated data for  GJR  downloaded  2351 \r",
      "Updated data for  GJS  downloaded  2770 \r",
      "Updated data for  GJT  downloaded  2454 \r",
      "Updated data for  GJV  downloaded  2454 \r"
     ]
    },
    {
     "name": "stderr",
     "output_type": "stream",
     "text": [
      "    return self._get_current_object()(*a, **kw)\n"
     ]
    },
    {
     "name": "stdout",
     "output_type": "stream",
     "text": [
      "Updated data for  MBLX  downloaded  2556 \r"
     ]
    },
    {
     "name": "stderr",
     "output_type": "stream",
     "text": [
      "KeyboardInterrupt\n",
      "KeyboardInterrupt\n",
      "    return self.run(*args, **kwargs)\n",
      "  File \"dataapp/tasks.py\", line 76, in UpdatePriceData\n",
      "KeyboardInterrupt\n",
      "    kwargs['lock'].acquire()\n",
      "    return self.run(*args, **kwargs)\n",
      "    kwargs['lock'].acquire()\n",
      "KeyboardInterrupt\n"
     ]
    },
    {
     "name": "stdout",
     "output_type": "stream",
     "text": [
      "Updated data for  ABCP  downloaded  3858 \r",
      "Updated data for  FRAK  downloaded  1309 \r",
      "Updated data for  IOIL  downloaded  1506 \r",
      "Updated data for  UGA  downloaded  2309 \r",
      "Updated data for  IPW  downloaded  2206 \r",
      "Updated data for  ENY  downloaded  2478 \r",
      "Updated data for  DNO  downloaded  1912 \r"
     ]
    },
    {
     "name": "stderr",
     "output_type": "stream",
     "text": [
      "KeyboardInterrupt\n",
      "  File \"/usr/local/lib/python2.7/dist-packages/celery/app/task.py\", line 379, in __call__\n"
     ]
    },
    {
     "name": "stdout",
     "output_type": "stream",
     "text": [
      "Updated data for  SFBC  downloaded  2343 \r",
      "Updated data for  RXI  downloaded  2669 \r",
      "Updated data for  SBKO  downloaded  2518 \r",
      "Updated data for  SFRK  downloaded  2320 \r",
      "Updated data for  SFEF  downloaded  3858 \r",
      "Updated data for  SFST  downloaded  3858 \r",
      "Updated data for  SBCP  downloaded  704 \r"
     ]
    },
    {
     "name": "stderr",
     "output_type": "stream",
     "text": [
      "  File \"dataapp/tasks.py\", line 76, in UpdatePriceData\n",
      "  File \"dataapp/tasks.py\", line 76, in UpdatePriceData\n",
      "    self.run()\n"
     ]
    },
    {
     "name": "stdout",
     "output_type": "stream",
     "text": [
      "Updated data for  CACC  downloaded  3858 \r",
      "Updated data for  BORT  downloaded  2293 \r",
      "Updated data for  BSQR  downloaded  3858 \r",
      "Updated data for  BSND  downloaded  2228 \r",
      "Updated data for  BSE  downloaded  3650 \r",
      "Updated data for  CABC  downloaded  2345 \r",
      "Updated data for  BSCM  downloaded  954 \r"
     ]
    },
    {
     "name": "stderr",
     "output_type": "stream",
     "text": [
      "    kwargs['lock'].acquire()\n",
      "    return self.run(*args, **kwargs)\n",
      "  File \"dataapp/tasks.py\", line 76, in UpdatePriceData\n",
      "  File \"dataapp/tasks.py\", line 76, in UpdatePriceData\n",
      "  File \"/usr/local/lib/python2.7/dist-packages/pandas/core/indexing.py\", line 796, in _getitem_tuple\n"
     ]
    },
    {
     "name": "stdout",
     "output_type": "stream",
     "text": [
      "Updated data for  KYO  downloaded  3858 \r",
      "Updated data for  PKBK  downloaded  3488 \r",
      "Updated data for  ITRN  downloaded  2916 \r",
      "Updated data for  PTN  downloaded  3858 \r",
      "Updated data for  SUN  downloaded  1158 \r",
      "Updated data for  MWG  downloaded  3345 \r",
      "Updated data for  IDI  downloaded  2201 \r"
     ]
    },
    {
     "name": "stderr",
     "output_type": "stream",
     "text": [
      "    kwargs['lock'].acquire()\n",
      "  File \"dataapp/tasks.py\", line 76, in UpdatePriceData\n"
     ]
    },
    {
     "name": "stdout",
     "output_type": "stream",
     "text": [
      "Updated data for  GASS  downloaded  2910 \r"
     ]
    },
    {
     "name": "stderr",
     "output_type": "stream",
     "text": [
      "  File \"dataapp/tasks.py\", line 76, in UpdatePriceData\n"
     ]
    },
    {
     "name": "stdout",
     "output_type": "stream",
     "text": [
      "Updated data for  ARI  downloaded  1912 \r",
      "Updated data for  SYNL  downloaded  3858 \r",
      "Updated data for  CPLP  downloaded  2539 \r",
      "Updated data for  ITW  downloaded  3858 \r",
      "Updated data for  CERN  downloaded  3858 \r",
      "Updated data for  KMX  downloaded  3858 \r",
      "Updated data for  AMCX  downloaded  1477 \r",
      "Updated data for  ESRT  downloaded  900 \r"
     ]
    },
    {
     "name": "stderr",
     "output_type": "stream",
     "text": [
      "    kwargs['lock'].acquire()\n",
      "  File \"dataapp/tasks.py\", line 76, in UpdatePriceData\n",
      "KeyboardInterrupt\n",
      "    return self.run(*args, **kwargs)\n",
      "    return self.run(*args, **kwargs)\n"
     ]
    },
    {
     "name": "stdout",
     "output_type": "stream",
     "text": [
      "Updated data for  CLDX  downloaded  3858 \r",
      "Updated data for  KPTI  downloaded  875 \r",
      "Updated data for  INSY  downloaded  3858 \r"
     ]
    },
    {
     "name": "stderr",
     "output_type": "stream",
     "text": [
      "    return self._get_current_object()(*a, **kw)\n",
      "    return self.run(*args, **kwargs)\n",
      "KeyboardInterrupt\n",
      "    kwargs['lock'].acquire()\n",
      "  File \"dataapp/tasks.py\", line 76, in UpdatePriceData\n",
      "    kwargs['lock'].acquire()\n",
      "    kwargs['lock'].acquire()\n",
      "    kwargs['lock'].acquire()\n"
     ]
    },
    {
     "name": "stdout",
     "output_type": "stream",
     "text": [
      "Updated data for  EGL  downloaded  1203 \r",
      "Updated data for  BLMN  downloaded  1188 \r",
      "Updated data for  TSRO  downloaded  1216 \r",
      "Updated data for  EIGI  downloaded  883 \r",
      "Updated data for  DY  downloaded  3858 \r",
      "Updated data for  EBS  downloaded  2630 \r",
      "Updated data for  SSYS  downloaded  3858 \r",
      "Updated data for  SRNE  downloaded  2548 \r",
      "Updated data for  SLB  downloaded  3858 \r"
     ]
    },
    {
     "name": "stderr",
     "output_type": "stream",
     "text": [
      "KeyboardInterrupt\n"
     ]
    },
    {
     "name": "stdout",
     "output_type": "stream",
     "text": [
      "Updated data for  VSS  downloaded  2031 \r",
      "Updated data for  XME  downloaded  2732 \r",
      "Updated data for  VCSH  downloaded  1870 \r",
      "Updated data for  VWO  downloaded  3056 \r",
      "Updated data for  VUSE  downloaded  824 \r",
      "Updated data for  VV  downloaded  3335 \r",
      "Updated data for  VIXM  downloaded  1590 \r",
      "Updated data for  XLE  downloaded  3858 \r"
     ]
    },
    {
     "name": "stderr",
     "output_type": "stream",
     "text": [
      "  File \"dataapp/tasks.py\", line 76, in UpdatePriceData\n",
      "    kwargs['lock'].acquire()\n",
      "    kwargs['lock'].acquire()\n"
     ]
    },
    {
     "name": "stdout",
     "output_type": "stream",
     "text": [
      "Updated data for  LPT  downloaded  3858  \r"
     ]
    },
    {
     "name": "stderr",
     "output_type": "stream",
     "text": [
      "  File \"dataapp/tasks.py\", line 77, in UpdatePriceData\n",
      "    return self.run(*args, **kwargs)\n",
      "KeyboardInterrupt\n",
      "    kwargs['lock'].acquire()\n",
      "KeyboardInterrupt\n",
      "  File \"/usr/local/lib/python2.7/dist-packages/celery/local.py\", line 191, in __call__\n",
      "KeyboardInterrupt\n",
      "    kwargs['lock'].acquire()\n",
      "    return self.run(*args, **kwargs)\n",
      "KeyboardInterrupt\n",
      "  File \"dataapp/tasks.py\", line 76, in UpdatePriceData\n",
      "    kwargs['lock'].acquire()\n",
      "    kwargs['lock'].acquire()\n",
      "    return self.run(*args, **kwargs)\n",
      "    kwargs['lock'].acquire()\n",
      "KeyboardInterrupt\n",
      "  File \"/usr/lib/python2.7/multiprocessing/process.py\", line 114, in run\n"
     ]
    },
    {
     "name": "stdout",
     "output_type": "stream",
     "text": [
      "Updated data for  TRXC  downloaded  3858 \r",
      "Updated data for  ALDR  downloaded  750 \r",
      "Updated data for  DAVE  downloaded  3858 \r",
      "Updated data for  CBPO  downloaded  2330 \r",
      "Updated data for  WMAR  downloaded  3858 \r",
      "Updated data for  CCS  downloaded  722 \r",
      "Updated data for  NGHC  downloaded  804 \r"
     ]
    },
    {
     "name": "stderr",
     "output_type": "stream",
     "text": [
      "    kwargs['lock'].acquire()\n",
      "  File \"/usr/local/lib/python2.7/dist-packages/celery/app/task.py\", line 379, in __call__\n",
      "KeyboardInterrupt\n"
     ]
    },
    {
     "name": "stdout",
     "output_type": "stream",
     "text": [
      "Updated data for  ELLO  downloaded  3858 \r",
      "Updated data for  GABC  downloaded  3858 \r",
      "Updated data for  CAPN  downloaded  617 \r",
      "Updated data for  HAV  downloaded  3282 \r",
      "Updated data for  ISM  downloaded  2819 \r",
      "Updated data for  GLOW  downloaded  3858 \r",
      "Updated data for  EVBN  downloaded  3787 \r"
     ]
    },
    {
     "name": "stderr",
     "output_type": "stream",
     "text": [
      "  File \"dataapp/tasks.py\", line 76, in UpdatePriceData\n"
     ]
    },
    {
     "name": "stdout",
     "output_type": "stream",
     "text": [
      "Updated data for  UCTT  downloaded  3297 \r",
      "Updated data for  SBAC  downloaded  3858 \r",
      "Updated data for  SFUN  downloaded  1665 \r",
      "Updated data for  SNSS  downloaded  2918 \r",
      "Updated data for  SEMG  downloaded  1645 \r",
      "Updated data for  RSPP  downloaded  826 \r",
      "Updated data for  SBLK  downloaded  2368 \r",
      "Updated data for  SN  downloaded  1350 \r"
     ]
    },
    {
     "name": "stderr",
     "output_type": "stream",
     "text": [
      "    kwargs['lock'].acquire()\n",
      "KeyboardInterrupt\n",
      "    kwargs['lock'].acquire()\n",
      "    return self._getitem_lowerdim(tup)\n",
      "    kwargs['lock'].acquire()\n",
      "  File \"dataapp/tasks.py\", line 76, in UpdatePriceData\n",
      "    kwargs['lock'].acquire()\n",
      "KeyboardInterrupt\n",
      "    kwargs['lock'].acquire()\n",
      "    kwargs['lock'].acquire()\n"
     ]
    },
    {
     "name": "stdout",
     "output_type": "stream",
     "text": [
      "Updated data for  ALKS  downloaded  3858 \r",
      "Updated data for  ARNA  downloaded  3858 \r",
      "Updated data for  APEI  downloaded  2383 \r",
      "Updated data for  AVG  downloaded  1200 \r",
      "Updated data for  BBG  downloaded  3117 \r",
      "Updated data for  CKH  downloaded  3858 \r",
      "Updated data for  BCR  downloaded  3858 \r",
      "Updated data for  BANC  downloaded  3670 \r"
     ]
    },
    {
     "name": "stderr",
     "output_type": "stream",
     "text": [
      "KeyboardInterrupt\n",
      "    kwargs['lock'].acquire()\n"
     ]
    },
    {
     "name": "stdout",
     "output_type": "stream",
     "text": [
      "Updated data for  LDP  downloaded  1195 \r"
     ]
    },
    {
     "name": "stderr",
     "output_type": "stream",
     "text": [
      "KeyboardInterrupt\n",
      "    kwargs['lock'].acquire()\n",
      "KeyboardInterrupt\n",
      "  File \"dataapp/tasks.py\", line 76, in UpdatePriceData\n",
      "KeyboardInterrupt\n",
      "  File \"/usr/local/lib/python2.7/dist-packages/celery/app/task.py\", line 379, in __call__\n",
      "  File \"dataapp/tasks.py\", line 76, in UpdatePriceData\n",
      "  File \"dataapp/tasks.py\", line 76, in UpdatePriceData\n",
      "KeyboardInterrupt\n",
      "KeyboardInterrupt\n",
      "KeyboardInterrupt\n"
     ]
    },
    {
     "name": "stdout",
     "output_type": "stream",
     "text": [
      "Updated data for  ZOLT  downloaded  3085 \r"
     ]
    },
    {
     "name": "stderr",
     "output_type": "stream",
     "text": [
      "KeyboardInterrupt\n"
     ]
    },
    {
     "name": "stdout",
     "output_type": "stream",
     "text": [
      "Updated data for  BMRN  downloaded  3858 \r",
      "Updated data for  AVD  downloaded  3858 \r",
      "Updated data for  AMCN  downloaded  2385 \r",
      "Updated data for  AMPE  downloaded  1783 \r",
      "Updated data for  ALTI  downloaded  3829 \r",
      "Updated data for  ACLS  downloaded  3858 \r"
     ]
    },
    {
     "name": "stderr",
     "output_type": "stream",
     "text": [
      "KeyboardInterrupt\n"
     ]
    },
    {
     "name": "stdout",
     "output_type": "stream",
     "text": [
      "Updated data for  DCT  downloaded  2611 \r",
      "Updated data for  HNR  downloaded  3858 \r",
      "Updated data for  CXP  downloaded  894 \r",
      "Updated data for  HELE  downloaded  3858 \r",
      "Updated data for  FTEK  downloaded  3858 \r",
      "Updated data for  IRWD  downloaded  1822 \r",
      "Updated data for  HA  downloaded  3858 \r",
      "Updated data for  HAE  downloaded  3858 \r"
     ]
    },
    {
     "name": "stderr",
     "output_type": "stream",
     "text": [
      "    kwargs['lock'].acquire()\n",
      "KeyboardInterrupt\n",
      "    self._target(*self._args, **self._kwargs)\n",
      "    return self._get_current_object()(*a, **kw)\n",
      "KeyboardInterrupt\n",
      "  File \"dataapp/tasks.py\", line 76, in UpdatePriceData\n",
      "KeyboardInterrupt\n",
      "    dtamd.Stockprice.objects.bulk_create(objs)\n",
      "  File \"dataapp/tasks.py\", line 76, in UpdatePriceData\n",
      "    kwargs['lock'].acquire()\n"
     ]
    },
    {
     "name": "stdout",
     "output_type": "stream",
     "text": [
      "Updated data for  WYN  downloaded  2714 \r",
      "Updated data for  ZNH  downloaded  3858 \r",
      "Updated data for  TEL  downloaded  2487 \r",
      "Updated data for  TRN  downloaded  3858 \r",
      "Updated data for  ZIXI  downloaded  3858 \r",
      "Updated data for  YNDX  downloaded  1493 \r",
      "Updated data for  TARO  downloaded  3858 \r",
      "Updated data for  TBBK  downloaded  3333 \r"
     ]
    },
    {
     "name": "stderr",
     "output_type": "stream",
     "text": [
      "KeyboardInterrupt\n",
      "    return self.run(*args, **kwargs)\n"
     ]
    },
    {
     "name": "stdout",
     "output_type": "stream",
     "text": [
      "Updated data for  AAOI  downloaded  904  \r"
     ]
    },
    {
     "name": "stderr",
     "output_type": "stream",
     "text": [
      "    kwargs['lock'].acquire()\n",
      "KeyboardInterrupt\n",
      "KeyboardInterrupt\n",
      "  File \"/usr/local/lib/python2.7/dist-packages/pandas/core/indexing.py\", line 922, in _getitem_lowerdim\n",
      "KeyboardInterrupt\n"
     ]
    },
    {
     "name": "stdout",
     "output_type": "stream",
     "text": [
      "Updated data for  FOX  downloaded  3858  \r"
     ]
    },
    {
     "name": "stderr",
     "output_type": "stream",
     "text": [
      "    kwargs['lock'].acquire()\n",
      "KeyboardInterrupt\n"
     ]
    },
    {
     "name": "stdout",
     "output_type": "stream",
     "text": [
      "Updated data for  PWON  downloaded  1655 \r"
     ]
    },
    {
     "name": "stderr",
     "output_type": "stream",
     "text": [
      "    kwargs['lock'].acquire()\n",
      "    kwargs['lock'].acquire()\n",
      "  File \"/usr/local/lib/python2.7/dist-packages/django/db/models/manager.py\", line 85, in manager_method\n",
      "  File \"/usr/local/lib/python2.7/dist-packages/celery/app/task.py\", line 379, in __call__\n",
      "KeyboardInterrupt\n",
      "KeyboardInterrupt\n",
      "  File \"dataapp/tasks.py\", line 76, in UpdatePriceData\n",
      "KeyboardInterrupt\n",
      "KeyboardInterrupt\n",
      "    kwargs['lock'].acquire()\n",
      "    return getattr(self.get_queryset(), name)(*args, **kwargs)\n",
      "KeyboardInterrupt\n",
      "  File \"/usr/local/lib/python2.7/dist-packages/django/db/models/query.py\", line 442, in bulk_create\n",
      "KeyboardInterrupt\n",
      "KeyboardInterrupt\n",
      "    kwargs['lock'].acquire()\n",
      "KeyboardInterrupt\n",
      "KeyboardInterrupt\n",
      "    section = self._getitem_axis(key, axis=i)\n"
     ]
    },
    {
     "name": "stdout",
     "output_type": "stream",
     "text": [
      "Updated data for  CACB  downloaded  3858 \r"
     ]
    },
    {
     "name": "stderr",
     "output_type": "stream",
     "text": [
      "    kwargs['lock'].acquire()\n",
      "KeyboardInterrupt\n"
     ]
    },
    {
     "name": "stdout",
     "output_type": "stream",
     "text": [
      "Updated data for  GDL  downloaded  2524  \r"
     ]
    },
    {
     "name": "stderr",
     "output_type": "stream",
     "text": [
      "KeyboardInterrupt\n"
     ]
    },
    {
     "name": "stdout",
     "output_type": "stream",
     "text": [
      "Updated data for  SMT  downloaded  1555  \r"
     ]
    },
    {
     "name": "stderr",
     "output_type": "stream",
     "text": [
      "    ids = self._batched_insert(objs_without_pk, fields, batch_size)\n",
      "  File \"/usr/local/lib/python2.7/dist-packages/celery/local.py\", line 191, in __call__\n"
     ]
    },
    {
     "name": "stdout",
     "output_type": "stream",
     "text": [
      "Updated data for  EVO  downloaded  3858 \r",
      "Updated data for  ERS  downloaded  913 \r",
      "Updated data for  EVX  downloaded  2652 \r",
      "Updated data for  HTWR  downloaded  2057 \r",
      "Updated data for  EMZ  downloaded  1383 \r",
      "Updated data for  ETAK  downloaded  3737 \r",
      "Updated data for  CERU  downloaded  769 \r"
     ]
    },
    {
     "name": "stderr",
     "output_type": "stream",
     "text": [
      "  File \"dataapp/tasks.py\", line 76, in UpdatePriceData\n",
      "  File \"/usr/local/lib/python2.7/dist-packages/pandas/core/indexing.py\", line 1483, in _getitem_axis\n"
     ]
    },
    {
     "name": "stdout",
     "output_type": "stream",
     "text": [
      "Updated data for  UIFC  downloaded  2514 \r",
      "Updated data for  UFPT  downloaded  3858 \r",
      "Updated data for  ULE  downloaded  2120 \r"
     ]
    },
    {
     "name": "stderr",
     "output_type": "stream",
     "text": [
      "    return self.run(*args, **kwargs)\n",
      "KeyboardInterrupt\n",
      "    return self.run(*args, **kwargs)\n"
     ]
    },
    {
     "name": "stdout",
     "output_type": "stream",
     "text": [
      "Updated data for  MYY  downloaded  2733  \r"
     ]
    },
    {
     "name": "stderr",
     "output_type": "stream",
     "text": [
      "    kwargs['lock'].acquire()\n"
     ]
    },
    {
     "name": "stdout",
     "output_type": "stream",
     "text": [
      "Updated data for  YHOO  downloaded  3858 \r"
     ]
    },
    {
     "name": "stderr",
     "output_type": "stream",
     "text": [
      "    return self._get_label(key, axis=axis)\n",
      "KeyboardInterrupt\n"
     ]
    },
    {
     "name": "stdout",
     "output_type": "stream",
     "text": [
      "Updated data for  HTM  downloaded  2567  \r"
     ]
    },
    {
     "name": "stderr",
     "output_type": "stream",
     "text": [
      "  File \"/usr/local/lib/python2.7/dist-packages/django/db/models/query.py\", line 1083, in _batched_insert\n",
      "  File \"/usr/local/lib/python2.7/dist-packages/pandas/core/indexing.py\", line 102, in _get_label\n"
     ]
    },
    {
     "name": "stdout",
     "output_type": "stream",
     "text": [
      "Updated data for  PEX  downloaded  1050 \r",
      "Updated data for  PAWP  downloaded  614 \r",
      "Updated data for  PEBO  downloaded  3858 \r",
      "Updated data for  PFI  downloaded  2654 \r",
      "Updated data for  PCM  downloaded  3858 \r",
      "Updated data for  PFCF  downloaded  2518 \r",
      "Updated data for  PFD  downloaded  3858 \r",
      "Updated data for  PAF  downloaded  2480 \r"
     ]
    },
    {
     "name": "stderr",
     "output_type": "stream",
     "text": [
      "  File \"dataapp/tasks.py\", line 76, in UpdatePriceData\n",
      "  File \"dataapp/tasks.py\", line 76, in UpdatePriceData\n",
      "KeyboardInterrupt\n",
      "    return self.obj._xs(label, axis=axis)\n",
      "    kwargs['lock'].acquire()\n",
      "  File \"/usr/local/lib/python2.7/dist-packages/pandas/core/generic.py\", line 1804, in xs\n",
      "    return self._get_current_object()(*a, **kw)\n",
      "    kwargs['lock'].acquire()\n"
     ]
    },
    {
     "name": "stdout",
     "output_type": "stream",
     "text": [
      "Updated data for  IMPV  downloaded  1375 \r",
      "Updated data for  IMMY  downloaded  2413 \r",
      "Updated data for  IOC  downloaded  3137 \r",
      "Updated data for  IBCP  downloaded  1823 \r",
      "Updated data for  HTZ  downloaded  208 \r",
      "Updated data for  HY  downloaded  1151 \r",
      "Updated data for  KIN  downloaded  850 \r",
      "Updated data for  IDRA  downloaded  3858 \r"
     ]
    },
    {
     "name": "stderr",
     "output_type": "stream",
     "text": [
      "KeyboardInterrupt\n",
      "  File \"/usr/local/lib/python2.7/dist-packages/celery/app/task.py\", line 379, in __call__\n",
      "    name=self.index[loc], dtype=new_values.dtype)\n",
      "KeyboardInterrupt\n",
      "    return self.run(*args, **kwargs)\n"
     ]
    },
    {
     "name": "stdout",
     "output_type": "stream",
     "text": [
      "Updated data for  SCHL  downloaded  3858 \r",
      "Updated data for  RPM  downloaded  3858 \r",
      "Updated data for  ROIC  downloaded  1884 \r",
      "Updated data for  RATE  downloaded  1476 \r",
      "Updated data for  PSEC  downloaded  3213 \r",
      "Updated data for  PTEN  downloaded  3858 \r",
      "Updated data for  RDNT  downloaded  3858 \r",
      "Updated data for  REGI  downloaded  1328 \r"
     ]
    },
    {
     "name": "stderr",
     "output_type": "stream",
     "text": [
      "  File \"/usr/local/lib/python2.7/dist-packages/pandas/core/series.py\", line 245, in __init__\n",
      "  File \"dataapp/tasks.py\", line 76, in UpdatePriceData\n",
      "    self._insert(item, fields=fields, using=self.db)\n"
     ]
    },
    {
     "name": "stdout",
     "output_type": "stream",
     "text": [
      "Updated data for  NCLI  downloaded  1740 \r"
     ]
    },
    {
     "name": "stderr",
     "output_type": "stream",
     "text": [
      "  File \"/usr/local/lib/python2.7/dist-packages/django/db/models/query.py\", line 1060, in _insert\n"
     ]
    },
    {
     "name": "stdout",
     "output_type": "stream",
     "text": [
      "Updated data for  GBIM  downloaded  712 \r",
      "Updated data for  EEMV  downloaded  1389 \r",
      "Updated data for  HURC  downloaded  3858 \r",
      "Updated data for  LAKE  downloaded  3858 \r",
      "Updated data for  FTGC  downloaded  885 \r",
      "Updated data for  EFOI  downloaded  687 \r",
      "Updated data for  BSJI  downloaded  1250 \r",
      "Updated data for  EFUT  downloaded  2560 \r"
     ]
    },
    {
     "name": "stderr",
     "output_type": "stream",
     "text": [
      "    return query.get_compiler(using=using).execute_sql(return_id)\n"
     ]
    },
    {
     "name": "stdout",
     "output_type": "stream",
     "text": [
      "Updated data for  COPX  downloaded  1770 \r",
      "Updated data for  IDXX  downloaded  3858 \r",
      "Updated data for  KO  downloaded  3858 \r"
     ]
    },
    {
     "name": "stderr",
     "output_type": "stream",
     "text": [
      "  File \"/usr/local/lib/python2.7/dist-packages/django/db/models/sql/compiler.py\", line 1098, in execute_sql\n",
      "    kwargs['lock'].acquire()\n",
      "    data = SingleBlockManager(data, index, fastpath=True)\n",
      "    for sql, params in self.as_sql():\n",
      "KeyboardInterrupt\n",
      "  File \"/usr/local/lib/python2.7/dist-packages/pandas/core/internals.py\", line 4072, in __init__\n",
      "    self.blocks = [block]\n",
      "KeyboardInterrupt\n"
     ]
    },
    {
     "name": "stdout",
     "output_type": "stream",
     "text": [
      "Updated data for  TUP  downloaded  3858  \r"
     ]
    },
    {
     "name": "stderr",
     "output_type": "stream",
     "text": [
      "  File \"/usr/local/lib/python2.7/dist-packages/django/db/models/sql/compiler.py\", line 1051, in as_sql\n"
     ]
    },
    {
     "name": "stdout",
     "output_type": "stream",
     "text": [
      "Updated data for  SAIC  downloaded  912 \r",
      "Updated data for  SBCF  downloaded  3858 \r",
      "Updated data for  SCL  downloaded  3858 \r",
      "Updated data for  WPX  downloaded  1353 \r",
      "Updated data for  PZE  downloaded  3858 \r",
      "Updated data for  WMC  downloaded  1249 \r",
      "Updated data for  SAFT  downloaded  3632 \r",
      "Updated data for  PACB  downloaded  1637 \r"
     ]
    },
    {
     "name": "stderr",
     "output_type": "stream",
     "text": [
      "    for obj in self.query.objs\n",
      "  File \"/usr/local/lib/python2.7/dist-packages/django/db/models/sql/compiler.py\", line 990, in prepare_value\n",
      "    value = field.get_db_prep_save(value, connection=self.connection)\n"
     ]
    },
    {
     "name": "stdout",
     "output_type": "stream",
     "text": [
      "Updated data for  EVN  downloaded  3858 \r",
      "Updated data for  EWX  downloaded  2250 \r",
      "Updated data for  EWC  downloaded  3858 \r",
      "Updated data for  EWG  downloaded  3858 \r",
      "Updated data for  EWH  downloaded  3858 \r",
      "Updated data for  EWN  downloaded  3858 \r",
      "Updated data for  EWJ  downloaded  3858 \r"
     ]
    },
    {
     "name": "stderr",
     "output_type": "stream",
     "text": [
      "  File \"/usr/local/lib/python2.7/dist-packages/django/db/models/fields/__init__.py\", line 1600, in get_db_prep_save\n",
      "    return connection.ops.adapt_decimalfield_value(self.to_python(value), self.max_digits, self.decimal_places)\n",
      "  File \"/usr/local/lib/python2.7/dist-packages/django/db/backends/base/operations.py\", line 503, in adapt_decimalfield_value\n",
      "    return utils.format_number(value, max_digits, decimal_places)\n",
      "  File \"/usr/local/lib/python2.7/dist-packages/django/db/backends/utils.py\", line 215, in format_number\n",
      "    return \"{:f}\".format(value)\n",
      "  File \"/usr/lib/python2.7/decimal.py\", line 3643, in __format__\n",
      "    def __format__(self, specifier, context=None, _localeconv=None):\n",
      "KeyboardInterrupt\n"
     ]
    },
    {
     "name": "stdout",
     "output_type": "stream",
     "text": [
      "Updated data for  FULT  downloaded  3858 \r",
      "Updated data for  GES  downloaded  3858 \r",
      "Updated data for  PLXS  downloaded  3858 \r",
      "Updated data for  GHL  downloaded  3268 \r"
     ]
    }
   ],
   "source": [
    "dtatks.RunDataDownload()"
   ]
  },
  {
   "cell_type": "code",
   "execution_count": null,
   "metadata": {
    "collapsed": true
   },
   "outputs": [],
   "source": [
    "stk=stkmd.Stockmeta.objects.get(Symbol='AAPL')\n",
    "print stk.LastPriceUpdate\n",
    "print stk.Lastdate\n",
    "print stk.Startdate"
   ]
  },
  {
   "cell_type": "code",
   "execution_count": null,
   "metadata": {
    "collapsed": true
   },
   "outputs": [],
   "source": []
  },
  {
   "cell_type": "code",
   "execution_count": null,
   "metadata": {
    "collapsed": true
   },
   "outputs": [],
   "source": [
    "from dataapp import models as dtamd\n",
    "stkmd.Stockmeta.objects.get(Symbol='AAPL').values_list()\n",
    "dtamd.Stockprice.objects.filter(Symbol='AAPL')\n",
    "dtamd.Stockprice.objects.all().delete()"
   ]
  },
  {
   "cell_type": "code",
   "execution_count": null,
   "metadata": {
    "collapsed": true
   },
   "outputs": [],
   "source": [
    "dfstockmeta=pd.read_csv('databases/olddata/stockmeta.csv')\n",
    "dfwatchlist=pd.read_csv('databases/olddata/watchlist.csv')\n",
    "dfwatchlist_stocks=pd.read_csv('databases/olddata/watchlist_stocks.csv')"
   ]
  },
  {
   "cell_type": "code",
   "execution_count": null,
   "metadata": {
    "collapsed": true,
    "scrolled": true
   },
   "outputs": [],
   "source": [
    "store=pd.HDFStore('databases/olddata/StockData.h5')\n",
    "store['AAPL']"
   ]
  },
  {
   "cell_type": "code",
   "execution_count": null,
   "metadata": {
    "collapsed": true,
    "scrolled": true
   },
   "outputs": [],
   "source": [
    "for stk in dfstockmeta['Symbol']:\n",
    "    print stk\n",
    "    try:\n",
    "        df=store[stk]\n",
    "    except:\n",
    "        continue\n",
    "    objs=[]\n",
    "    for ind in df.index:\n",
    "        objs.append( dtamd.Stockprice(Close=df.loc[ind,'Close'], Open=df.loc[ind,'Open'] ,\n",
    "                                     High=df.loc[ind,'High'],Low=df.loc[ind,'Low'],\n",
    "                                     Volume=df.loc[ind,'Volume'],Date=ind,Symbol=stk)  )\n",
    "    \n",
    "    dtamd.Stockprice.objects.bulk_create(objs)\n",
    "  "
   ]
  },
  {
   "cell_type": "code",
   "execution_count": null,
   "metadata": {
    "collapsed": true
   },
   "outputs": [],
   "source": [
    "ss=stkmd.Stockmeta.objects.all()\n",
    "S=ss.values('Symbol','Company','Sector','Industry','Status','Labels')\n",
    "S[0]"
   ]
  },
  {
   "cell_type": "code",
   "execution_count": null,
   "metadata": {
    "collapsed": true
   },
   "outputs": [],
   "source": [
    "from django.db.models import Count,Max,Min\n",
    "sp=ss.values('Date').annotate(MaxClose=Max('Close'),MinClose=Min('Close'))\n",
    "print sp\n",
    "print\n",
    "print connections['stockpricedata'].queries\n",
    "reset_queries()"
   ]
  },
  {
   "cell_type": "code",
   "execution_count": 9,
   "metadata": {},
   "outputs": [
    {
     "name": "stderr",
     "output_type": "stream",
     "text": [
      "/usr/local/lib/python2.7/dist-packages/django/db/models/base.py:324: RuntimeWarning: Model 'stockapp.stockmeta' was already registered. Reloading models is not advised as it can lead to inconsistencies, most notably with related models.\n",
      "  new_class._meta.apps.register_model(new_class._meta.app_label, new_class)\n",
      "/usr/local/lib/python2.7/dist-packages/django/db/models/base.py:324: RuntimeWarning: Model 'stockapp.indexfunction_user' was already registered. Reloading models is not advised as it can lead to inconsistencies, most notably with related models.\n",
      "  new_class._meta.apps.register_model(new_class._meta.app_label, new_class)\n",
      "/usr/local/lib/python2.7/dist-packages/django/db/models/base.py:324: RuntimeWarning: Model 'stockapp.indexfunction' was already registered. Reloading models is not advised as it can lead to inconsistencies, most notably with related models.\n",
      "  new_class._meta.apps.register_model(new_class._meta.app_label, new_class)\n",
      "/usr/local/lib/python2.7/dist-packages/django/db/models/base.py:324: RuntimeWarning: Model 'stockapp.stockgroup_indicies' was already registered. Reloading models is not advised as it can lead to inconsistencies, most notably with related models.\n",
      "  new_class._meta.apps.register_model(new_class._meta.app_label, new_class)\n",
      "/usr/local/lib/python2.7/dist-packages/django/db/models/base.py:324: RuntimeWarning: Model 'stockapp.stockgroup_symbol' was already registered. Reloading models is not advised as it can lead to inconsistencies, most notably with related models.\n",
      "  new_class._meta.apps.register_model(new_class._meta.app_label, new_class)\n",
      "/usr/local/lib/python2.7/dist-packages/django/db/models/base.py:324: RuntimeWarning: Model 'stockapp.stockgroup_user' was already registered. Reloading models is not advised as it can lead to inconsistencies, most notably with related models.\n",
      "  new_class._meta.apps.register_model(new_class._meta.app_label, new_class)\n",
      "/usr/local/lib/python2.7/dist-packages/django/db/models/base.py:324: RuntimeWarning: Model 'stockapp.stockgroup' was already registered. Reloading models is not advised as it can lead to inconsistencies, most notably with related models.\n",
      "  new_class._meta.apps.register_model(new_class._meta.app_label, new_class)\n"
     ]
    },
    {
     "ename": "DatabaseError",
     "evalue": "Execution failed on sql 'SELECT \"dataapp_stockprice\".\"Date\", \n               CAST(MIN(\"dataapp_stockprice\".\"Close\") AS NUMERIC) AS \"MinClose\", \n               CAST(MAX(\"dataapp_stockprice\".\"Close\") AS NUMERIC) AS \"MaxClose\", \n               CAST(AVG(\"dataapp_stockprice\".\"Close\") AS NUMERIC) AS \"AvgClose\" \n               FROM \"dataapp_stockprice\" \n               WHERE \"dataapp_stockprice\".\"Date\" BETWEEN '2015-01-01' AND '2016-01-01' AND \"dataapp_stockprice\".\"Close\" >2 AND \"dataapp_stockprice\".\"Close\"<1000\n               AND \"dataapp_Stockprice\".\"id\" IN (SELECT stockid FROM  )\n               GROUP BY \"dataapp_stockprice\".\"Date\" \n               ORDER BY \"dataapp_stockprice\".\"Date\" ASC LIMIT 21': near \")\": syntax error",
     "output_type": "error",
     "traceback": [
      "\u001b[0;31m---------------------------------------------------------------------------\u001b[0m",
      "\u001b[0;31mDatabaseError\u001b[0m                             Traceback (most recent call last)",
      "\u001b[0;32m<ipython-input-9-dcf7c123ef07>\u001b[0m in \u001b[0;36m<module>\u001b[0;34m()\u001b[0m\n\u001b[1;32m      8\u001b[0m                \u001b[0mGROUP\u001b[0m \u001b[0mBY\u001b[0m \u001b[0;34m\"dataapp_stockprice\"\u001b[0m\u001b[0;34m.\u001b[0m\u001b[0;34m\"Date\"\u001b[0m\u001b[0;34m\u001b[0m\u001b[0m\n\u001b[1;32m      9\u001b[0m                ORDER BY \"dataapp_stockprice\".\"Date\" ASC LIMIT 21\"\"\"\n\u001b[0;32m---> 10\u001b[0;31m     ,connections['stockpricedata'])\n\u001b[0m",
      "\u001b[0;32m/usr/local/lib/python2.7/dist-packages/pandas/io/sql.pyc\u001b[0m in \u001b[0;36mread_sql\u001b[0;34m(sql, con, index_col, coerce_float, params, parse_dates, columns, chunksize)\u001b[0m\n\u001b[1;32m    397\u001b[0m             \u001b[0msql\u001b[0m\u001b[0;34m,\u001b[0m \u001b[0mindex_col\u001b[0m\u001b[0;34m=\u001b[0m\u001b[0mindex_col\u001b[0m\u001b[0;34m,\u001b[0m \u001b[0mparams\u001b[0m\u001b[0;34m=\u001b[0m\u001b[0mparams\u001b[0m\u001b[0;34m,\u001b[0m\u001b[0;34m\u001b[0m\u001b[0m\n\u001b[1;32m    398\u001b[0m             \u001b[0mcoerce_float\u001b[0m\u001b[0;34m=\u001b[0m\u001b[0mcoerce_float\u001b[0m\u001b[0;34m,\u001b[0m \u001b[0mparse_dates\u001b[0m\u001b[0;34m=\u001b[0m\u001b[0mparse_dates\u001b[0m\u001b[0;34m,\u001b[0m\u001b[0;34m\u001b[0m\u001b[0m\n\u001b[0;32m--> 399\u001b[0;31m             chunksize=chunksize)\n\u001b[0m\u001b[1;32m    400\u001b[0m \u001b[0;34m\u001b[0m\u001b[0m\n\u001b[1;32m    401\u001b[0m     \u001b[0;32mtry\u001b[0m\u001b[0;34m:\u001b[0m\u001b[0;34m\u001b[0m\u001b[0m\n",
      "\u001b[0;32m/usr/local/lib/python2.7/dist-packages/pandas/io/sql.pyc\u001b[0m in \u001b[0;36mread_query\u001b[0;34m(self, sql, index_col, coerce_float, params, parse_dates, chunksize)\u001b[0m\n\u001b[1;32m   1434\u001b[0m \u001b[0;34m\u001b[0m\u001b[0m\n\u001b[1;32m   1435\u001b[0m         \u001b[0margs\u001b[0m \u001b[0;34m=\u001b[0m \u001b[0m_convert_params\u001b[0m\u001b[0;34m(\u001b[0m\u001b[0msql\u001b[0m\u001b[0;34m,\u001b[0m \u001b[0mparams\u001b[0m\u001b[0;34m)\u001b[0m\u001b[0;34m\u001b[0m\u001b[0m\n\u001b[0;32m-> 1436\u001b[0;31m         \u001b[0mcursor\u001b[0m \u001b[0;34m=\u001b[0m \u001b[0mself\u001b[0m\u001b[0;34m.\u001b[0m\u001b[0mexecute\u001b[0m\u001b[0;34m(\u001b[0m\u001b[0;34m*\u001b[0m\u001b[0margs\u001b[0m\u001b[0;34m)\u001b[0m\u001b[0;34m\u001b[0m\u001b[0m\n\u001b[0m\u001b[1;32m   1437\u001b[0m         \u001b[0mcolumns\u001b[0m \u001b[0;34m=\u001b[0m \u001b[0;34m[\u001b[0m\u001b[0mcol_desc\u001b[0m\u001b[0;34m[\u001b[0m\u001b[0;36m0\u001b[0m\u001b[0;34m]\u001b[0m \u001b[0;32mfor\u001b[0m \u001b[0mcol_desc\u001b[0m \u001b[0;32min\u001b[0m \u001b[0mcursor\u001b[0m\u001b[0;34m.\u001b[0m\u001b[0mdescription\u001b[0m\u001b[0;34m]\u001b[0m\u001b[0;34m\u001b[0m\u001b[0m\n\u001b[1;32m   1438\u001b[0m \u001b[0;34m\u001b[0m\u001b[0m\n",
      "\u001b[0;32m/usr/local/lib/python2.7/dist-packages/pandas/io/sql.pyc\u001b[0m in \u001b[0;36mexecute\u001b[0;34m(self, *args, **kwargs)\u001b[0m\n\u001b[1;32m   1411\u001b[0m             ex = DatabaseError(\n\u001b[1;32m   1412\u001b[0m                 \"Execution failed on sql '%s': %s\" % (args[0], exc))\n\u001b[0;32m-> 1413\u001b[0;31m             \u001b[0mraise_with_traceback\u001b[0m\u001b[0;34m(\u001b[0m\u001b[0mex\u001b[0m\u001b[0;34m)\u001b[0m\u001b[0;34m\u001b[0m\u001b[0m\n\u001b[0m\u001b[1;32m   1414\u001b[0m \u001b[0;34m\u001b[0m\u001b[0m\n\u001b[1;32m   1415\u001b[0m     \u001b[0;34m@\u001b[0m\u001b[0mstaticmethod\u001b[0m\u001b[0;34m\u001b[0m\u001b[0m\n",
      "\u001b[0;32m/usr/local/lib/python2.7/dist-packages/pandas/io/sql.pyc\u001b[0m in \u001b[0;36mexecute\u001b[0;34m(self, *args, **kwargs)\u001b[0m\n\u001b[1;32m   1399\u001b[0m                 \u001b[0mcur\u001b[0m\u001b[0;34m.\u001b[0m\u001b[0mexecute\u001b[0m\u001b[0;34m(\u001b[0m\u001b[0;34m*\u001b[0m\u001b[0margs\u001b[0m\u001b[0;34m,\u001b[0m \u001b[0;34m**\u001b[0m\u001b[0mkwargs\u001b[0m\u001b[0;34m)\u001b[0m\u001b[0;34m\u001b[0m\u001b[0m\n\u001b[1;32m   1400\u001b[0m             \u001b[0;32melse\u001b[0m\u001b[0;34m:\u001b[0m\u001b[0;34m\u001b[0m\u001b[0m\n\u001b[0;32m-> 1401\u001b[0;31m                 \u001b[0mcur\u001b[0m\u001b[0;34m.\u001b[0m\u001b[0mexecute\u001b[0m\u001b[0;34m(\u001b[0m\u001b[0;34m*\u001b[0m\u001b[0margs\u001b[0m\u001b[0;34m)\u001b[0m\u001b[0;34m\u001b[0m\u001b[0m\n\u001b[0m\u001b[1;32m   1402\u001b[0m             \u001b[0;32mreturn\u001b[0m \u001b[0mcur\u001b[0m\u001b[0;34m\u001b[0m\u001b[0m\n\u001b[1;32m   1403\u001b[0m         \u001b[0;32mexcept\u001b[0m \u001b[0mException\u001b[0m \u001b[0;32mas\u001b[0m \u001b[0mexc\u001b[0m\u001b[0;34m:\u001b[0m\u001b[0;34m\u001b[0m\u001b[0m\n",
      "\u001b[0;32m/usr/local/lib/python2.7/dist-packages/django/db/backends/utils.pyc\u001b[0m in \u001b[0;36mexecute\u001b[0;34m(self, sql, params)\u001b[0m\n\u001b[1;32m     78\u001b[0m         \u001b[0mstart\u001b[0m \u001b[0;34m=\u001b[0m \u001b[0mtime\u001b[0m\u001b[0;34m(\u001b[0m\u001b[0;34m)\u001b[0m\u001b[0;34m\u001b[0m\u001b[0m\n\u001b[1;32m     79\u001b[0m         \u001b[0;32mtry\u001b[0m\u001b[0;34m:\u001b[0m\u001b[0;34m\u001b[0m\u001b[0m\n\u001b[0;32m---> 80\u001b[0;31m             \u001b[0;32mreturn\u001b[0m \u001b[0msuper\u001b[0m\u001b[0;34m(\u001b[0m\u001b[0mCursorDebugWrapper\u001b[0m\u001b[0;34m,\u001b[0m \u001b[0mself\u001b[0m\u001b[0;34m)\u001b[0m\u001b[0;34m.\u001b[0m\u001b[0mexecute\u001b[0m\u001b[0;34m(\u001b[0m\u001b[0msql\u001b[0m\u001b[0;34m,\u001b[0m \u001b[0mparams\u001b[0m\u001b[0;34m)\u001b[0m\u001b[0;34m\u001b[0m\u001b[0m\n\u001b[0m\u001b[1;32m     81\u001b[0m         \u001b[0;32mfinally\u001b[0m\u001b[0;34m:\u001b[0m\u001b[0;34m\u001b[0m\u001b[0m\n\u001b[1;32m     82\u001b[0m             \u001b[0mstop\u001b[0m \u001b[0;34m=\u001b[0m \u001b[0mtime\u001b[0m\u001b[0;34m(\u001b[0m\u001b[0;34m)\u001b[0m\u001b[0;34m\u001b[0m\u001b[0m\n",
      "\u001b[0;32m/usr/local/lib/python2.7/dist-packages/django/db/backends/utils.pyc\u001b[0m in \u001b[0;36mexecute\u001b[0;34m(self, sql, params)\u001b[0m\n\u001b[1;32m     63\u001b[0m                 \u001b[0;32mreturn\u001b[0m \u001b[0mself\u001b[0m\u001b[0;34m.\u001b[0m\u001b[0mcursor\u001b[0m\u001b[0;34m.\u001b[0m\u001b[0mexecute\u001b[0m\u001b[0;34m(\u001b[0m\u001b[0msql\u001b[0m\u001b[0;34m)\u001b[0m\u001b[0;34m\u001b[0m\u001b[0m\n\u001b[1;32m     64\u001b[0m             \u001b[0;32melse\u001b[0m\u001b[0;34m:\u001b[0m\u001b[0;34m\u001b[0m\u001b[0m\n\u001b[0;32m---> 65\u001b[0;31m                 \u001b[0;32mreturn\u001b[0m \u001b[0mself\u001b[0m\u001b[0;34m.\u001b[0m\u001b[0mcursor\u001b[0m\u001b[0;34m.\u001b[0m\u001b[0mexecute\u001b[0m\u001b[0;34m(\u001b[0m\u001b[0msql\u001b[0m\u001b[0;34m,\u001b[0m \u001b[0mparams\u001b[0m\u001b[0;34m)\u001b[0m\u001b[0;34m\u001b[0m\u001b[0m\n\u001b[0m\u001b[1;32m     66\u001b[0m \u001b[0;34m\u001b[0m\u001b[0m\n\u001b[1;32m     67\u001b[0m     \u001b[0;32mdef\u001b[0m \u001b[0mexecutemany\u001b[0m\u001b[0;34m(\u001b[0m\u001b[0mself\u001b[0m\u001b[0;34m,\u001b[0m \u001b[0msql\u001b[0m\u001b[0;34m,\u001b[0m \u001b[0mparam_list\u001b[0m\u001b[0;34m)\u001b[0m\u001b[0;34m:\u001b[0m\u001b[0;34m\u001b[0m\u001b[0m\n",
      "\u001b[0;32m/usr/local/lib/python2.7/dist-packages/django/db/utils.pyc\u001b[0m in \u001b[0;36m__exit__\u001b[0;34m(self, exc_type, exc_value, traceback)\u001b[0m\n\u001b[1;32m     92\u001b[0m                 \u001b[0;32mif\u001b[0m \u001b[0mdj_exc_type\u001b[0m \u001b[0;32mnot\u001b[0m \u001b[0;32min\u001b[0m \u001b[0;34m(\u001b[0m\u001b[0mDataError\u001b[0m\u001b[0;34m,\u001b[0m \u001b[0mIntegrityError\u001b[0m\u001b[0;34m)\u001b[0m\u001b[0;34m:\u001b[0m\u001b[0;34m\u001b[0m\u001b[0m\n\u001b[1;32m     93\u001b[0m                     \u001b[0mself\u001b[0m\u001b[0;34m.\u001b[0m\u001b[0mwrapper\u001b[0m\u001b[0;34m.\u001b[0m\u001b[0merrors_occurred\u001b[0m \u001b[0;34m=\u001b[0m \u001b[0mTrue\u001b[0m\u001b[0;34m\u001b[0m\u001b[0m\n\u001b[0;32m---> 94\u001b[0;31m                 \u001b[0msix\u001b[0m\u001b[0;34m.\u001b[0m\u001b[0mreraise\u001b[0m\u001b[0;34m(\u001b[0m\u001b[0mdj_exc_type\u001b[0m\u001b[0;34m,\u001b[0m \u001b[0mdj_exc_value\u001b[0m\u001b[0;34m,\u001b[0m \u001b[0mtraceback\u001b[0m\u001b[0;34m)\u001b[0m\u001b[0;34m\u001b[0m\u001b[0m\n\u001b[0m\u001b[1;32m     95\u001b[0m \u001b[0;34m\u001b[0m\u001b[0m\n\u001b[1;32m     96\u001b[0m     \u001b[0;32mdef\u001b[0m \u001b[0m__call__\u001b[0m\u001b[0;34m(\u001b[0m\u001b[0mself\u001b[0m\u001b[0;34m,\u001b[0m \u001b[0mfunc\u001b[0m\u001b[0;34m)\u001b[0m\u001b[0;34m:\u001b[0m\u001b[0;34m\u001b[0m\u001b[0m\n",
      "\u001b[0;32m/usr/local/lib/python2.7/dist-packages/django/db/backends/utils.pyc\u001b[0m in \u001b[0;36mexecute\u001b[0;34m(self, sql, params)\u001b[0m\n\u001b[1;32m     61\u001b[0m         \u001b[0;32mwith\u001b[0m \u001b[0mself\u001b[0m\u001b[0;34m.\u001b[0m\u001b[0mdb\u001b[0m\u001b[0;34m.\u001b[0m\u001b[0mwrap_database_errors\u001b[0m\u001b[0;34m:\u001b[0m\u001b[0;34m\u001b[0m\u001b[0m\n\u001b[1;32m     62\u001b[0m             \u001b[0;32mif\u001b[0m \u001b[0mparams\u001b[0m \u001b[0;32mis\u001b[0m \u001b[0mNone\u001b[0m\u001b[0;34m:\u001b[0m\u001b[0;34m\u001b[0m\u001b[0m\n\u001b[0;32m---> 63\u001b[0;31m                 \u001b[0;32mreturn\u001b[0m \u001b[0mself\u001b[0m\u001b[0;34m.\u001b[0m\u001b[0mcursor\u001b[0m\u001b[0;34m.\u001b[0m\u001b[0mexecute\u001b[0m\u001b[0;34m(\u001b[0m\u001b[0msql\u001b[0m\u001b[0;34m)\u001b[0m\u001b[0;34m\u001b[0m\u001b[0m\n\u001b[0m\u001b[1;32m     64\u001b[0m             \u001b[0;32melse\u001b[0m\u001b[0;34m:\u001b[0m\u001b[0;34m\u001b[0m\u001b[0m\n\u001b[1;32m     65\u001b[0m                 \u001b[0;32mreturn\u001b[0m \u001b[0mself\u001b[0m\u001b[0;34m.\u001b[0m\u001b[0mcursor\u001b[0m\u001b[0;34m.\u001b[0m\u001b[0mexecute\u001b[0m\u001b[0;34m(\u001b[0m\u001b[0msql\u001b[0m\u001b[0;34m,\u001b[0m \u001b[0mparams\u001b[0m\u001b[0;34m)\u001b[0m\u001b[0;34m\u001b[0m\u001b[0m\n",
      "\u001b[0;32m/usr/local/lib/python2.7/dist-packages/django/db/backends/sqlite3/base.pyc\u001b[0m in \u001b[0;36mexecute\u001b[0;34m(self, query, params)\u001b[0m\n\u001b[1;32m    324\u001b[0m     \u001b[0;32mdef\u001b[0m \u001b[0mexecute\u001b[0m\u001b[0;34m(\u001b[0m\u001b[0mself\u001b[0m\u001b[0;34m,\u001b[0m \u001b[0mquery\u001b[0m\u001b[0;34m,\u001b[0m \u001b[0mparams\u001b[0m\u001b[0;34m=\u001b[0m\u001b[0mNone\u001b[0m\u001b[0;34m)\u001b[0m\u001b[0;34m:\u001b[0m\u001b[0;34m\u001b[0m\u001b[0m\n\u001b[1;32m    325\u001b[0m         \u001b[0;32mif\u001b[0m \u001b[0mparams\u001b[0m \u001b[0;32mis\u001b[0m \u001b[0mNone\u001b[0m\u001b[0;34m:\u001b[0m\u001b[0;34m\u001b[0m\u001b[0m\n\u001b[0;32m--> 326\u001b[0;31m             \u001b[0;32mreturn\u001b[0m \u001b[0mDatabase\u001b[0m\u001b[0;34m.\u001b[0m\u001b[0mCursor\u001b[0m\u001b[0;34m.\u001b[0m\u001b[0mexecute\u001b[0m\u001b[0;34m(\u001b[0m\u001b[0mself\u001b[0m\u001b[0;34m,\u001b[0m \u001b[0mquery\u001b[0m\u001b[0;34m)\u001b[0m\u001b[0;34m\u001b[0m\u001b[0m\n\u001b[0m\u001b[1;32m    327\u001b[0m         \u001b[0mquery\u001b[0m \u001b[0;34m=\u001b[0m \u001b[0mself\u001b[0m\u001b[0;34m.\u001b[0m\u001b[0mconvert_query\u001b[0m\u001b[0;34m(\u001b[0m\u001b[0mquery\u001b[0m\u001b[0;34m)\u001b[0m\u001b[0;34m\u001b[0m\u001b[0m\n\u001b[1;32m    328\u001b[0m         \u001b[0;32mreturn\u001b[0m \u001b[0mDatabase\u001b[0m\u001b[0;34m.\u001b[0m\u001b[0mCursor\u001b[0m\u001b[0;34m.\u001b[0m\u001b[0mexecute\u001b[0m\u001b[0;34m(\u001b[0m\u001b[0mself\u001b[0m\u001b[0;34m,\u001b[0m \u001b[0mquery\u001b[0m\u001b[0;34m,\u001b[0m \u001b[0mparams\u001b[0m\u001b[0;34m)\u001b[0m\u001b[0;34m\u001b[0m\u001b[0m\n",
      "\u001b[0;31mDatabaseError\u001b[0m: Execution failed on sql 'SELECT \"dataapp_stockprice\".\"Date\", \n               CAST(MIN(\"dataapp_stockprice\".\"Close\") AS NUMERIC) AS \"MinClose\", \n               CAST(MAX(\"dataapp_stockprice\".\"Close\") AS NUMERIC) AS \"MaxClose\", \n               CAST(AVG(\"dataapp_stockprice\".\"Close\") AS NUMERIC) AS \"AvgClose\" \n               FROM \"dataapp_stockprice\" \n               WHERE \"dataapp_stockprice\".\"Date\" BETWEEN '2015-01-01' AND '2016-01-01' AND \"dataapp_stockprice\".\"Close\" >2 AND \"dataapp_stockprice\".\"Close\"<1000\n               AND \"dataapp_Stockprice\".\"id\" IN (SELECT stockid FROM  )\n               GROUP BY \"dataapp_stockprice\".\"Date\" \n               ORDER BY \"dataapp_stockprice\".\"Date\" ASC LIMIT 21': near \")\": syntax error"
     ]
    }
   ],
   "source": [
    "df=pd.read_sql(\"\"\"SELECT \"dataapp_stockprice\".\"Date\", \n",
    "               CAST(MIN(\"dataapp_stockprice\".\"Close\") AS NUMERIC) AS \"MinClose\", \n",
    "               CAST(MAX(\"dataapp_stockprice\".\"Close\") AS NUMERIC) AS \"MaxClose\", \n",
    "               CAST(AVG(\"dataapp_stockprice\".\"Close\") AS NUMERIC) AS \"AvgClose\" \n",
    "               FROM \"dataapp_stockprice\" \n",
    "               WHERE \"dataapp_stockprice\".\"Date\" BETWEEN \\'2015-01-01\\' AND \\'2016-01-01\\' AND \"dataapp_stockprice\".\"Close\" >2 AND \"dataapp_stockprice\".\"Close\"<1000\n",
    "               AND \"dataapp_Stockprice\".\"id\" IN (SELECT stockid FROM  )\n",
    "               GROUP BY \"dataapp_stockprice\".\"Date\" \n",
    "               ORDER BY \"dataapp_stockprice\".\"Date\" ASC LIMIT 21\"\"\"\n",
    "    ,connections['stockpricedata'])"
   ]
  },
  {
   "cell_type": "code",
   "execution_count": 17,
   "metadata": {
    "collapsed": true
   },
   "outputs": [],
   "source": [
    "df=pd.read_sql(\"\"\"SELECT * from dataapp_stockprice WHERE \"dataapp_stockprice\".\"Date\" BETWEEN \\'2015-01-01\\' AND \\'2016-01-01\\' AND \"dataapp_stockprice\".\"Close\" >2 AND \"dataapp_stockprice\".\"Close\"<1000\"\"\"\n",
    "    ,connections['stockpricedata'])"
   ]
  },
  {
   "cell_type": "code",
   "execution_count": 19,
   "metadata": {},
   "outputs": [
    {
     "data": {
      "text/html": [
       "<div>\n",
       "<table border=\"1\" class=\"dataframe\">\n",
       "  <thead>\n",
       "    <tr style=\"text-align: right;\">\n",
       "      <th></th>\n",
       "      <th>id</th>\n",
       "      <th>Close</th>\n",
       "      <th>Open</th>\n",
       "      <th>High</th>\n",
       "      <th>Low</th>\n",
       "      <th>Volume</th>\n",
       "      <th>Date</th>\n",
       "      <th>Symbol</th>\n",
       "      <th>Symbol_id</th>\n",
       "    </tr>\n",
       "  </thead>\n",
       "  <tbody>\n",
       "    <tr>\n",
       "      <th>286</th>\n",
       "      <td>1176771</td>\n",
       "      <td>415.0</td>\n",
       "      <td>415.0</td>\n",
       "      <td>415.0</td>\n",
       "      <td>415.0</td>\n",
       "      <td>0.0</td>\n",
       "      <td>2015-01-02</td>\n",
       "      <td>BSND</td>\n",
       "      <td>5005</td>\n",
       "    </tr>\n",
       "    <tr>\n",
       "      <th>831</th>\n",
       "      <td>1176772</td>\n",
       "      <td>415.0</td>\n",
       "      <td>415.0</td>\n",
       "      <td>415.0</td>\n",
       "      <td>415.0</td>\n",
       "      <td>0.0</td>\n",
       "      <td>2015-01-05</td>\n",
       "      <td>BSND</td>\n",
       "      <td>5005</td>\n",
       "    </tr>\n",
       "    <tr>\n",
       "      <th>1376</th>\n",
       "      <td>1176773</td>\n",
       "      <td>415.0</td>\n",
       "      <td>415.0</td>\n",
       "      <td>415.0</td>\n",
       "      <td>415.0</td>\n",
       "      <td>0.0</td>\n",
       "      <td>2015-01-06</td>\n",
       "      <td>BSND</td>\n",
       "      <td>5005</td>\n",
       "    </tr>\n",
       "    <tr>\n",
       "      <th>1922</th>\n",
       "      <td>1176774</td>\n",
       "      <td>415.0</td>\n",
       "      <td>415.0</td>\n",
       "      <td>415.0</td>\n",
       "      <td>415.0</td>\n",
       "      <td>0.0</td>\n",
       "      <td>2015-01-07</td>\n",
       "      <td>BSND</td>\n",
       "      <td>5005</td>\n",
       "    </tr>\n",
       "    <tr>\n",
       "      <th>2470</th>\n",
       "      <td>1176775</td>\n",
       "      <td>415.0</td>\n",
       "      <td>415.0</td>\n",
       "      <td>415.0</td>\n",
       "      <td>415.0</td>\n",
       "      <td>0.0</td>\n",
       "      <td>2015-01-08</td>\n",
       "      <td>BSND</td>\n",
       "      <td>5005</td>\n",
       "    </tr>\n",
       "    <tr>\n",
       "      <th>3017</th>\n",
       "      <td>1176776</td>\n",
       "      <td>415.0</td>\n",
       "      <td>415.0</td>\n",
       "      <td>415.0</td>\n",
       "      <td>415.0</td>\n",
       "      <td>0.0</td>\n",
       "      <td>2015-01-09</td>\n",
       "      <td>BSND</td>\n",
       "      <td>5005</td>\n",
       "    </tr>\n",
       "    <tr>\n",
       "      <th>3564</th>\n",
       "      <td>1176777</td>\n",
       "      <td>415.0</td>\n",
       "      <td>415.0</td>\n",
       "      <td>415.0</td>\n",
       "      <td>415.0</td>\n",
       "      <td>0.0</td>\n",
       "      <td>2015-01-12</td>\n",
       "      <td>BSND</td>\n",
       "      <td>5005</td>\n",
       "    </tr>\n",
       "    <tr>\n",
       "      <th>4110</th>\n",
       "      <td>1176778</td>\n",
       "      <td>415.0</td>\n",
       "      <td>415.0</td>\n",
       "      <td>415.0</td>\n",
       "      <td>415.0</td>\n",
       "      <td>0.0</td>\n",
       "      <td>2015-01-13</td>\n",
       "      <td>BSND</td>\n",
       "      <td>5005</td>\n",
       "    </tr>\n",
       "    <tr>\n",
       "      <th>4657</th>\n",
       "      <td>1176779</td>\n",
       "      <td>415.0</td>\n",
       "      <td>415.0</td>\n",
       "      <td>415.0</td>\n",
       "      <td>415.0</td>\n",
       "      <td>0.0</td>\n",
       "      <td>2015-01-14</td>\n",
       "      <td>BSND</td>\n",
       "      <td>5005</td>\n",
       "    </tr>\n",
       "    <tr>\n",
       "      <th>5204</th>\n",
       "      <td>1176780</td>\n",
       "      <td>415.0</td>\n",
       "      <td>415.0</td>\n",
       "      <td>415.0</td>\n",
       "      <td>415.0</td>\n",
       "      <td>0.0</td>\n",
       "      <td>2015-01-15</td>\n",
       "      <td>BSND</td>\n",
       "      <td>5005</td>\n",
       "    </tr>\n",
       "    <tr>\n",
       "      <th>5750</th>\n",
       "      <td>1176781</td>\n",
       "      <td>415.0</td>\n",
       "      <td>415.0</td>\n",
       "      <td>415.0</td>\n",
       "      <td>415.0</td>\n",
       "      <td>0.0</td>\n",
       "      <td>2015-01-16</td>\n",
       "      <td>BSND</td>\n",
       "      <td>5005</td>\n",
       "    </tr>\n",
       "    <tr>\n",
       "      <th>6302</th>\n",
       "      <td>1176782</td>\n",
       "      <td>415.0</td>\n",
       "      <td>415.0</td>\n",
       "      <td>415.0</td>\n",
       "      <td>415.0</td>\n",
       "      <td>0.0</td>\n",
       "      <td>2015-01-20</td>\n",
       "      <td>BSND</td>\n",
       "      <td>5005</td>\n",
       "    </tr>\n",
       "    <tr>\n",
       "      <th>6849</th>\n",
       "      <td>1176783</td>\n",
       "      <td>415.0</td>\n",
       "      <td>415.0</td>\n",
       "      <td>415.0</td>\n",
       "      <td>415.0</td>\n",
       "      <td>0.0</td>\n",
       "      <td>2015-01-21</td>\n",
       "      <td>BSND</td>\n",
       "      <td>5005</td>\n",
       "    </tr>\n",
       "    <tr>\n",
       "      <th>7396</th>\n",
       "      <td>1176784</td>\n",
       "      <td>415.0</td>\n",
       "      <td>415.0</td>\n",
       "      <td>415.0</td>\n",
       "      <td>415.0</td>\n",
       "      <td>0.0</td>\n",
       "      <td>2015-01-22</td>\n",
       "      <td>BSND</td>\n",
       "      <td>5005</td>\n",
       "    </tr>\n",
       "    <tr>\n",
       "      <th>7945</th>\n",
       "      <td>1176785</td>\n",
       "      <td>415.0</td>\n",
       "      <td>415.0</td>\n",
       "      <td>415.0</td>\n",
       "      <td>415.0</td>\n",
       "      <td>0.0</td>\n",
       "      <td>2015-01-23</td>\n",
       "      <td>BSND</td>\n",
       "      <td>5005</td>\n",
       "    </tr>\n",
       "    <tr>\n",
       "      <th>8493</th>\n",
       "      <td>1176786</td>\n",
       "      <td>415.0</td>\n",
       "      <td>415.0</td>\n",
       "      <td>415.0</td>\n",
       "      <td>415.0</td>\n",
       "      <td>0.0</td>\n",
       "      <td>2015-01-26</td>\n",
       "      <td>BSND</td>\n",
       "      <td>5005</td>\n",
       "    </tr>\n",
       "    <tr>\n",
       "      <th>9040</th>\n",
       "      <td>1176787</td>\n",
       "      <td>415.0</td>\n",
       "      <td>415.0</td>\n",
       "      <td>415.0</td>\n",
       "      <td>415.0</td>\n",
       "      <td>0.0</td>\n",
       "      <td>2015-01-27</td>\n",
       "      <td>BSND</td>\n",
       "      <td>5005</td>\n",
       "    </tr>\n",
       "    <tr>\n",
       "      <th>9586</th>\n",
       "      <td>1176788</td>\n",
       "      <td>415.0</td>\n",
       "      <td>415.0</td>\n",
       "      <td>415.0</td>\n",
       "      <td>415.0</td>\n",
       "      <td>0.0</td>\n",
       "      <td>2015-01-28</td>\n",
       "      <td>BSND</td>\n",
       "      <td>5005</td>\n",
       "    </tr>\n",
       "    <tr>\n",
       "      <th>10132</th>\n",
       "      <td>1176789</td>\n",
       "      <td>415.0</td>\n",
       "      <td>415.0</td>\n",
       "      <td>415.0</td>\n",
       "      <td>415.0</td>\n",
       "      <td>0.0</td>\n",
       "      <td>2015-01-29</td>\n",
       "      <td>BSND</td>\n",
       "      <td>5005</td>\n",
       "    </tr>\n",
       "    <tr>\n",
       "      <th>10679</th>\n",
       "      <td>1176790</td>\n",
       "      <td>415.0</td>\n",
       "      <td>415.0</td>\n",
       "      <td>415.0</td>\n",
       "      <td>415.0</td>\n",
       "      <td>0.0</td>\n",
       "      <td>2015-01-30</td>\n",
       "      <td>BSND</td>\n",
       "      <td>5005</td>\n",
       "    </tr>\n",
       "    <tr>\n",
       "      <th>11224</th>\n",
       "      <td>1176791</td>\n",
       "      <td>415.0</td>\n",
       "      <td>415.0</td>\n",
       "      <td>415.0</td>\n",
       "      <td>415.0</td>\n",
       "      <td>0.0</td>\n",
       "      <td>2015-02-02</td>\n",
       "      <td>BSND</td>\n",
       "      <td>5005</td>\n",
       "    </tr>\n",
       "    <tr>\n",
       "      <th>11771</th>\n",
       "      <td>1176792</td>\n",
       "      <td>415.0</td>\n",
       "      <td>415.0</td>\n",
       "      <td>415.0</td>\n",
       "      <td>415.0</td>\n",
       "      <td>0.0</td>\n",
       "      <td>2015-02-03</td>\n",
       "      <td>BSND</td>\n",
       "      <td>5005</td>\n",
       "    </tr>\n",
       "    <tr>\n",
       "      <th>12316</th>\n",
       "      <td>1176793</td>\n",
       "      <td>415.0</td>\n",
       "      <td>415.0</td>\n",
       "      <td>415.0</td>\n",
       "      <td>415.0</td>\n",
       "      <td>0.0</td>\n",
       "      <td>2015-02-04</td>\n",
       "      <td>BSND</td>\n",
       "      <td>5005</td>\n",
       "    </tr>\n",
       "    <tr>\n",
       "      <th>12862</th>\n",
       "      <td>1176794</td>\n",
       "      <td>415.0</td>\n",
       "      <td>415.0</td>\n",
       "      <td>415.0</td>\n",
       "      <td>415.0</td>\n",
       "      <td>0.0</td>\n",
       "      <td>2015-02-05</td>\n",
       "      <td>BSND</td>\n",
       "      <td>5005</td>\n",
       "    </tr>\n",
       "    <tr>\n",
       "      <th>13409</th>\n",
       "      <td>1176795</td>\n",
       "      <td>415.0</td>\n",
       "      <td>415.0</td>\n",
       "      <td>415.0</td>\n",
       "      <td>415.0</td>\n",
       "      <td>0.0</td>\n",
       "      <td>2015-02-06</td>\n",
       "      <td>BSND</td>\n",
       "      <td>5005</td>\n",
       "    </tr>\n",
       "    <tr>\n",
       "      <th>13955</th>\n",
       "      <td>1176796</td>\n",
       "      <td>415.0</td>\n",
       "      <td>415.0</td>\n",
       "      <td>415.0</td>\n",
       "      <td>415.0</td>\n",
       "      <td>0.0</td>\n",
       "      <td>2015-02-09</td>\n",
       "      <td>BSND</td>\n",
       "      <td>5005</td>\n",
       "    </tr>\n",
       "    <tr>\n",
       "      <th>14498</th>\n",
       "      <td>1176797</td>\n",
       "      <td>415.0</td>\n",
       "      <td>415.0</td>\n",
       "      <td>415.0</td>\n",
       "      <td>415.0</td>\n",
       "      <td>0.0</td>\n",
       "      <td>2015-02-10</td>\n",
       "      <td>BSND</td>\n",
       "      <td>5005</td>\n",
       "    </tr>\n",
       "    <tr>\n",
       "      <th>15043</th>\n",
       "      <td>1176798</td>\n",
       "      <td>415.0</td>\n",
       "      <td>415.0</td>\n",
       "      <td>415.0</td>\n",
       "      <td>415.0</td>\n",
       "      <td>0.0</td>\n",
       "      <td>2015-02-11</td>\n",
       "      <td>BSND</td>\n",
       "      <td>5005</td>\n",
       "    </tr>\n",
       "    <tr>\n",
       "      <th>15589</th>\n",
       "      <td>1176799</td>\n",
       "      <td>415.0</td>\n",
       "      <td>415.0</td>\n",
       "      <td>415.0</td>\n",
       "      <td>415.0</td>\n",
       "      <td>0.0</td>\n",
       "      <td>2015-02-12</td>\n",
       "      <td>BSND</td>\n",
       "      <td>5005</td>\n",
       "    </tr>\n",
       "    <tr>\n",
       "      <th>16135</th>\n",
       "      <td>1176800</td>\n",
       "      <td>415.0</td>\n",
       "      <td>415.0</td>\n",
       "      <td>415.0</td>\n",
       "      <td>415.0</td>\n",
       "      <td>0.0</td>\n",
       "      <td>2015-02-13</td>\n",
       "      <td>BSND</td>\n",
       "      <td>5005</td>\n",
       "    </tr>\n",
       "    <tr>\n",
       "      <th>...</th>\n",
       "      <td>...</td>\n",
       "      <td>...</td>\n",
       "      <td>...</td>\n",
       "      <td>...</td>\n",
       "      <td>...</td>\n",
       "      <td>...</td>\n",
       "      <td>...</td>\n",
       "      <td>...</td>\n",
       "      <td>...</td>\n",
       "    </tr>\n",
       "    <tr>\n",
       "      <th>120931</th>\n",
       "      <td>1176993</td>\n",
       "      <td>413.0</td>\n",
       "      <td>413.0</td>\n",
       "      <td>413.0</td>\n",
       "      <td>413.0</td>\n",
       "      <td>0.0</td>\n",
       "      <td>2015-11-18</td>\n",
       "      <td>BSND</td>\n",
       "      <td>5005</td>\n",
       "    </tr>\n",
       "    <tr>\n",
       "      <th>121462</th>\n",
       "      <td>1176994</td>\n",
       "      <td>413.0</td>\n",
       "      <td>413.0</td>\n",
       "      <td>413.0</td>\n",
       "      <td>413.0</td>\n",
       "      <td>0.0</td>\n",
       "      <td>2015-11-19</td>\n",
       "      <td>BSND</td>\n",
       "      <td>5005</td>\n",
       "    </tr>\n",
       "    <tr>\n",
       "      <th>121993</th>\n",
       "      <td>1176995</td>\n",
       "      <td>413.0</td>\n",
       "      <td>413.0</td>\n",
       "      <td>413.0</td>\n",
       "      <td>413.0</td>\n",
       "      <td>0.0</td>\n",
       "      <td>2015-11-20</td>\n",
       "      <td>BSND</td>\n",
       "      <td>5005</td>\n",
       "    </tr>\n",
       "    <tr>\n",
       "      <th>122524</th>\n",
       "      <td>1176996</td>\n",
       "      <td>413.0</td>\n",
       "      <td>413.0</td>\n",
       "      <td>413.0</td>\n",
       "      <td>413.0</td>\n",
       "      <td>0.0</td>\n",
       "      <td>2015-11-23</td>\n",
       "      <td>BSND</td>\n",
       "      <td>5005</td>\n",
       "    </tr>\n",
       "    <tr>\n",
       "      <th>123059</th>\n",
       "      <td>1176997</td>\n",
       "      <td>413.0</td>\n",
       "      <td>413.0</td>\n",
       "      <td>413.0</td>\n",
       "      <td>413.0</td>\n",
       "      <td>0.0</td>\n",
       "      <td>2015-11-24</td>\n",
       "      <td>BSND</td>\n",
       "      <td>5005</td>\n",
       "    </tr>\n",
       "    <tr>\n",
       "      <th>123591</th>\n",
       "      <td>1176998</td>\n",
       "      <td>413.0</td>\n",
       "      <td>413.0</td>\n",
       "      <td>413.0</td>\n",
       "      <td>413.0</td>\n",
       "      <td>0.0</td>\n",
       "      <td>2015-11-25</td>\n",
       "      <td>BSND</td>\n",
       "      <td>5005</td>\n",
       "    </tr>\n",
       "    <tr>\n",
       "      <th>124125</th>\n",
       "      <td>1176999</td>\n",
       "      <td>413.0</td>\n",
       "      <td>413.0</td>\n",
       "      <td>413.0</td>\n",
       "      <td>413.0</td>\n",
       "      <td>0.0</td>\n",
       "      <td>2015-11-27</td>\n",
       "      <td>BSND</td>\n",
       "      <td>5005</td>\n",
       "    </tr>\n",
       "    <tr>\n",
       "      <th>124660</th>\n",
       "      <td>1177000</td>\n",
       "      <td>413.0</td>\n",
       "      <td>413.0</td>\n",
       "      <td>413.0</td>\n",
       "      <td>413.0</td>\n",
       "      <td>0.0</td>\n",
       "      <td>2015-11-30</td>\n",
       "      <td>BSND</td>\n",
       "      <td>5005</td>\n",
       "    </tr>\n",
       "    <tr>\n",
       "      <th>125193</th>\n",
       "      <td>1177001</td>\n",
       "      <td>413.0</td>\n",
       "      <td>413.0</td>\n",
       "      <td>413.0</td>\n",
       "      <td>413.0</td>\n",
       "      <td>0.0</td>\n",
       "      <td>2015-12-01</td>\n",
       "      <td>BSND</td>\n",
       "      <td>5005</td>\n",
       "    </tr>\n",
       "    <tr>\n",
       "      <th>125725</th>\n",
       "      <td>1177002</td>\n",
       "      <td>413.0</td>\n",
       "      <td>413.0</td>\n",
       "      <td>413.0</td>\n",
       "      <td>413.0</td>\n",
       "      <td>0.0</td>\n",
       "      <td>2015-12-02</td>\n",
       "      <td>BSND</td>\n",
       "      <td>5005</td>\n",
       "    </tr>\n",
       "    <tr>\n",
       "      <th>126257</th>\n",
       "      <td>1177003</td>\n",
       "      <td>413.0</td>\n",
       "      <td>413.0</td>\n",
       "      <td>413.0</td>\n",
       "      <td>413.0</td>\n",
       "      <td>0.0</td>\n",
       "      <td>2015-12-03</td>\n",
       "      <td>BSND</td>\n",
       "      <td>5005</td>\n",
       "    </tr>\n",
       "    <tr>\n",
       "      <th>126788</th>\n",
       "      <td>1177004</td>\n",
       "      <td>413.0</td>\n",
       "      <td>413.0</td>\n",
       "      <td>413.0</td>\n",
       "      <td>413.0</td>\n",
       "      <td>0.0</td>\n",
       "      <td>2015-12-04</td>\n",
       "      <td>BSND</td>\n",
       "      <td>5005</td>\n",
       "    </tr>\n",
       "    <tr>\n",
       "      <th>127318</th>\n",
       "      <td>1177005</td>\n",
       "      <td>413.0</td>\n",
       "      <td>413.0</td>\n",
       "      <td>413.0</td>\n",
       "      <td>413.0</td>\n",
       "      <td>0.0</td>\n",
       "      <td>2015-12-07</td>\n",
       "      <td>BSND</td>\n",
       "      <td>5005</td>\n",
       "    </tr>\n",
       "    <tr>\n",
       "      <th>127849</th>\n",
       "      <td>1177006</td>\n",
       "      <td>413.0</td>\n",
       "      <td>413.0</td>\n",
       "      <td>413.0</td>\n",
       "      <td>413.0</td>\n",
       "      <td>0.0</td>\n",
       "      <td>2015-12-08</td>\n",
       "      <td>BSND</td>\n",
       "      <td>5005</td>\n",
       "    </tr>\n",
       "    <tr>\n",
       "      <th>128379</th>\n",
       "      <td>1177007</td>\n",
       "      <td>413.0</td>\n",
       "      <td>413.0</td>\n",
       "      <td>413.0</td>\n",
       "      <td>413.0</td>\n",
       "      <td>0.0</td>\n",
       "      <td>2015-12-09</td>\n",
       "      <td>BSND</td>\n",
       "      <td>5005</td>\n",
       "    </tr>\n",
       "    <tr>\n",
       "      <th>128910</th>\n",
       "      <td>1177008</td>\n",
       "      <td>413.0</td>\n",
       "      <td>413.0</td>\n",
       "      <td>413.0</td>\n",
       "      <td>413.0</td>\n",
       "      <td>0.0</td>\n",
       "      <td>2015-12-10</td>\n",
       "      <td>BSND</td>\n",
       "      <td>5005</td>\n",
       "    </tr>\n",
       "    <tr>\n",
       "      <th>129442</th>\n",
       "      <td>1177009</td>\n",
       "      <td>413.0</td>\n",
       "      <td>413.0</td>\n",
       "      <td>413.0</td>\n",
       "      <td>413.0</td>\n",
       "      <td>0.0</td>\n",
       "      <td>2015-12-11</td>\n",
       "      <td>BSND</td>\n",
       "      <td>5005</td>\n",
       "    </tr>\n",
       "    <tr>\n",
       "      <th>129972</th>\n",
       "      <td>1177010</td>\n",
       "      <td>413.0</td>\n",
       "      <td>413.0</td>\n",
       "      <td>413.0</td>\n",
       "      <td>413.0</td>\n",
       "      <td>0.0</td>\n",
       "      <td>2015-12-14</td>\n",
       "      <td>BSND</td>\n",
       "      <td>5005</td>\n",
       "    </tr>\n",
       "    <tr>\n",
       "      <th>130504</th>\n",
       "      <td>1177011</td>\n",
       "      <td>414.0</td>\n",
       "      <td>414.0</td>\n",
       "      <td>414.0</td>\n",
       "      <td>414.0</td>\n",
       "      <td>0.0</td>\n",
       "      <td>2015-12-15</td>\n",
       "      <td>BSND</td>\n",
       "      <td>5005</td>\n",
       "    </tr>\n",
       "    <tr>\n",
       "      <th>131036</th>\n",
       "      <td>1177012</td>\n",
       "      <td>414.0</td>\n",
       "      <td>414.0</td>\n",
       "      <td>414.0</td>\n",
       "      <td>414.0</td>\n",
       "      <td>0.0</td>\n",
       "      <td>2015-12-16</td>\n",
       "      <td>BSND</td>\n",
       "      <td>5005</td>\n",
       "    </tr>\n",
       "    <tr>\n",
       "      <th>131566</th>\n",
       "      <td>1177013</td>\n",
       "      <td>414.0</td>\n",
       "      <td>414.0</td>\n",
       "      <td>414.0</td>\n",
       "      <td>414.0</td>\n",
       "      <td>0.0</td>\n",
       "      <td>2015-12-17</td>\n",
       "      <td>BSND</td>\n",
       "      <td>5005</td>\n",
       "    </tr>\n",
       "    <tr>\n",
       "      <th>132096</th>\n",
       "      <td>1177014</td>\n",
       "      <td>414.0</td>\n",
       "      <td>414.0</td>\n",
       "      <td>414.0</td>\n",
       "      <td>414.0</td>\n",
       "      <td>0.0</td>\n",
       "      <td>2015-12-18</td>\n",
       "      <td>BSND</td>\n",
       "      <td>5005</td>\n",
       "    </tr>\n",
       "    <tr>\n",
       "      <th>132626</th>\n",
       "      <td>1177015</td>\n",
       "      <td>414.0</td>\n",
       "      <td>414.0</td>\n",
       "      <td>414.0</td>\n",
       "      <td>414.0</td>\n",
       "      <td>0.0</td>\n",
       "      <td>2015-12-21</td>\n",
       "      <td>BSND</td>\n",
       "      <td>5005</td>\n",
       "    </tr>\n",
       "    <tr>\n",
       "      <th>133156</th>\n",
       "      <td>1177016</td>\n",
       "      <td>414.0</td>\n",
       "      <td>414.0</td>\n",
       "      <td>414.0</td>\n",
       "      <td>414.0</td>\n",
       "      <td>0.0</td>\n",
       "      <td>2015-12-22</td>\n",
       "      <td>BSND</td>\n",
       "      <td>5005</td>\n",
       "    </tr>\n",
       "    <tr>\n",
       "      <th>133686</th>\n",
       "      <td>1177017</td>\n",
       "      <td>414.0</td>\n",
       "      <td>414.0</td>\n",
       "      <td>414.0</td>\n",
       "      <td>414.0</td>\n",
       "      <td>0.0</td>\n",
       "      <td>2015-12-23</td>\n",
       "      <td>BSND</td>\n",
       "      <td>5005</td>\n",
       "    </tr>\n",
       "    <tr>\n",
       "      <th>134216</th>\n",
       "      <td>1177018</td>\n",
       "      <td>414.0</td>\n",
       "      <td>414.0</td>\n",
       "      <td>414.0</td>\n",
       "      <td>414.0</td>\n",
       "      <td>0.0</td>\n",
       "      <td>2015-12-24</td>\n",
       "      <td>BSND</td>\n",
       "      <td>5005</td>\n",
       "    </tr>\n",
       "    <tr>\n",
       "      <th>134749</th>\n",
       "      <td>1177019</td>\n",
       "      <td>414.0</td>\n",
       "      <td>414.0</td>\n",
       "      <td>414.0</td>\n",
       "      <td>414.0</td>\n",
       "      <td>0.0</td>\n",
       "      <td>2015-12-28</td>\n",
       "      <td>BSND</td>\n",
       "      <td>5005</td>\n",
       "    </tr>\n",
       "    <tr>\n",
       "      <th>135280</th>\n",
       "      <td>1177020</td>\n",
       "      <td>414.0</td>\n",
       "      <td>414.0</td>\n",
       "      <td>414.0</td>\n",
       "      <td>414.0</td>\n",
       "      <td>0.0</td>\n",
       "      <td>2015-12-29</td>\n",
       "      <td>BSND</td>\n",
       "      <td>5005</td>\n",
       "    </tr>\n",
       "    <tr>\n",
       "      <th>135809</th>\n",
       "      <td>1177021</td>\n",
       "      <td>414.0</td>\n",
       "      <td>414.0</td>\n",
       "      <td>414.0</td>\n",
       "      <td>414.0</td>\n",
       "      <td>0.0</td>\n",
       "      <td>2015-12-30</td>\n",
       "      <td>BSND</td>\n",
       "      <td>5005</td>\n",
       "    </tr>\n",
       "    <tr>\n",
       "      <th>136338</th>\n",
       "      <td>1177022</td>\n",
       "      <td>414.0</td>\n",
       "      <td>414.0</td>\n",
       "      <td>414.0</td>\n",
       "      <td>414.0</td>\n",
       "      <td>0.0</td>\n",
       "      <td>2015-12-31</td>\n",
       "      <td>BSND</td>\n",
       "      <td>5005</td>\n",
       "    </tr>\n",
       "  </tbody>\n",
       "</table>\n",
       "<p>252 rows × 9 columns</p>\n",
       "</div>"
      ],
      "text/plain": [
       "             id  Close   Open   High    Low  Volume        Date Symbol  \\\n",
       "286     1176771  415.0  415.0  415.0  415.0     0.0  2015-01-02   BSND   \n",
       "831     1176772  415.0  415.0  415.0  415.0     0.0  2015-01-05   BSND   \n",
       "1376    1176773  415.0  415.0  415.0  415.0     0.0  2015-01-06   BSND   \n",
       "1922    1176774  415.0  415.0  415.0  415.0     0.0  2015-01-07   BSND   \n",
       "2470    1176775  415.0  415.0  415.0  415.0     0.0  2015-01-08   BSND   \n",
       "3017    1176776  415.0  415.0  415.0  415.0     0.0  2015-01-09   BSND   \n",
       "3564    1176777  415.0  415.0  415.0  415.0     0.0  2015-01-12   BSND   \n",
       "4110    1176778  415.0  415.0  415.0  415.0     0.0  2015-01-13   BSND   \n",
       "4657    1176779  415.0  415.0  415.0  415.0     0.0  2015-01-14   BSND   \n",
       "5204    1176780  415.0  415.0  415.0  415.0     0.0  2015-01-15   BSND   \n",
       "5750    1176781  415.0  415.0  415.0  415.0     0.0  2015-01-16   BSND   \n",
       "6302    1176782  415.0  415.0  415.0  415.0     0.0  2015-01-20   BSND   \n",
       "6849    1176783  415.0  415.0  415.0  415.0     0.0  2015-01-21   BSND   \n",
       "7396    1176784  415.0  415.0  415.0  415.0     0.0  2015-01-22   BSND   \n",
       "7945    1176785  415.0  415.0  415.0  415.0     0.0  2015-01-23   BSND   \n",
       "8493    1176786  415.0  415.0  415.0  415.0     0.0  2015-01-26   BSND   \n",
       "9040    1176787  415.0  415.0  415.0  415.0     0.0  2015-01-27   BSND   \n",
       "9586    1176788  415.0  415.0  415.0  415.0     0.0  2015-01-28   BSND   \n",
       "10132   1176789  415.0  415.0  415.0  415.0     0.0  2015-01-29   BSND   \n",
       "10679   1176790  415.0  415.0  415.0  415.0     0.0  2015-01-30   BSND   \n",
       "11224   1176791  415.0  415.0  415.0  415.0     0.0  2015-02-02   BSND   \n",
       "11771   1176792  415.0  415.0  415.0  415.0     0.0  2015-02-03   BSND   \n",
       "12316   1176793  415.0  415.0  415.0  415.0     0.0  2015-02-04   BSND   \n",
       "12862   1176794  415.0  415.0  415.0  415.0     0.0  2015-02-05   BSND   \n",
       "13409   1176795  415.0  415.0  415.0  415.0     0.0  2015-02-06   BSND   \n",
       "13955   1176796  415.0  415.0  415.0  415.0     0.0  2015-02-09   BSND   \n",
       "14498   1176797  415.0  415.0  415.0  415.0     0.0  2015-02-10   BSND   \n",
       "15043   1176798  415.0  415.0  415.0  415.0     0.0  2015-02-11   BSND   \n",
       "15589   1176799  415.0  415.0  415.0  415.0     0.0  2015-02-12   BSND   \n",
       "16135   1176800  415.0  415.0  415.0  415.0     0.0  2015-02-13   BSND   \n",
       "...         ...    ...    ...    ...    ...     ...         ...    ...   \n",
       "120931  1176993  413.0  413.0  413.0  413.0     0.0  2015-11-18   BSND   \n",
       "121462  1176994  413.0  413.0  413.0  413.0     0.0  2015-11-19   BSND   \n",
       "121993  1176995  413.0  413.0  413.0  413.0     0.0  2015-11-20   BSND   \n",
       "122524  1176996  413.0  413.0  413.0  413.0     0.0  2015-11-23   BSND   \n",
       "123059  1176997  413.0  413.0  413.0  413.0     0.0  2015-11-24   BSND   \n",
       "123591  1176998  413.0  413.0  413.0  413.0     0.0  2015-11-25   BSND   \n",
       "124125  1176999  413.0  413.0  413.0  413.0     0.0  2015-11-27   BSND   \n",
       "124660  1177000  413.0  413.0  413.0  413.0     0.0  2015-11-30   BSND   \n",
       "125193  1177001  413.0  413.0  413.0  413.0     0.0  2015-12-01   BSND   \n",
       "125725  1177002  413.0  413.0  413.0  413.0     0.0  2015-12-02   BSND   \n",
       "126257  1177003  413.0  413.0  413.0  413.0     0.0  2015-12-03   BSND   \n",
       "126788  1177004  413.0  413.0  413.0  413.0     0.0  2015-12-04   BSND   \n",
       "127318  1177005  413.0  413.0  413.0  413.0     0.0  2015-12-07   BSND   \n",
       "127849  1177006  413.0  413.0  413.0  413.0     0.0  2015-12-08   BSND   \n",
       "128379  1177007  413.0  413.0  413.0  413.0     0.0  2015-12-09   BSND   \n",
       "128910  1177008  413.0  413.0  413.0  413.0     0.0  2015-12-10   BSND   \n",
       "129442  1177009  413.0  413.0  413.0  413.0     0.0  2015-12-11   BSND   \n",
       "129972  1177010  413.0  413.0  413.0  413.0     0.0  2015-12-14   BSND   \n",
       "130504  1177011  414.0  414.0  414.0  414.0     0.0  2015-12-15   BSND   \n",
       "131036  1177012  414.0  414.0  414.0  414.0     0.0  2015-12-16   BSND   \n",
       "131566  1177013  414.0  414.0  414.0  414.0     0.0  2015-12-17   BSND   \n",
       "132096  1177014  414.0  414.0  414.0  414.0     0.0  2015-12-18   BSND   \n",
       "132626  1177015  414.0  414.0  414.0  414.0     0.0  2015-12-21   BSND   \n",
       "133156  1177016  414.0  414.0  414.0  414.0     0.0  2015-12-22   BSND   \n",
       "133686  1177017  414.0  414.0  414.0  414.0     0.0  2015-12-23   BSND   \n",
       "134216  1177018  414.0  414.0  414.0  414.0     0.0  2015-12-24   BSND   \n",
       "134749  1177019  414.0  414.0  414.0  414.0     0.0  2015-12-28   BSND   \n",
       "135280  1177020  414.0  414.0  414.0  414.0     0.0  2015-12-29   BSND   \n",
       "135809  1177021  414.0  414.0  414.0  414.0     0.0  2015-12-30   BSND   \n",
       "136338  1177022  414.0  414.0  414.0  414.0     0.0  2015-12-31   BSND   \n",
       "\n",
       "        Symbol_id  \n",
       "286          5005  \n",
       "831          5005  \n",
       "1376         5005  \n",
       "1922         5005  \n",
       "2470         5005  \n",
       "3017         5005  \n",
       "3564         5005  \n",
       "4110         5005  \n",
       "4657         5005  \n",
       "5204         5005  \n",
       "5750         5005  \n",
       "6302         5005  \n",
       "6849         5005  \n",
       "7396         5005  \n",
       "7945         5005  \n",
       "8493         5005  \n",
       "9040         5005  \n",
       "9586         5005  \n",
       "10132        5005  \n",
       "10679        5005  \n",
       "11224        5005  \n",
       "11771        5005  \n",
       "12316        5005  \n",
       "12862        5005  \n",
       "13409        5005  \n",
       "13955        5005  \n",
       "14498        5005  \n",
       "15043        5005  \n",
       "15589        5005  \n",
       "16135        5005  \n",
       "...           ...  \n",
       "120931       5005  \n",
       "121462       5005  \n",
       "121993       5005  \n",
       "122524       5005  \n",
       "123059       5005  \n",
       "123591       5005  \n",
       "124125       5005  \n",
       "124660       5005  \n",
       "125193       5005  \n",
       "125725       5005  \n",
       "126257       5005  \n",
       "126788       5005  \n",
       "127318       5005  \n",
       "127849       5005  \n",
       "128379       5005  \n",
       "128910       5005  \n",
       "129442       5005  \n",
       "129972       5005  \n",
       "130504       5005  \n",
       "131036       5005  \n",
       "131566       5005  \n",
       "132096       5005  \n",
       "132626       5005  \n",
       "133156       5005  \n",
       "133686       5005  \n",
       "134216       5005  \n",
       "134749       5005  \n",
       "135280       5005  \n",
       "135809       5005  \n",
       "136338       5005  \n",
       "\n",
       "[252 rows x 9 columns]"
      ]
     },
     "execution_count": 19,
     "metadata": {},
     "output_type": "execute_result"
    }
   ],
   "source": [
    "# print df['Symbol'].unique()\n",
    "df[df['Symbol']=='BSND']"
   ]
  },
  {
   "cell_type": "code",
   "execution_count": null,
   "metadata": {
    "collapsed": true
   },
   "outputs": [],
   "source": [
    "import pymongo\n",
    "\n",
    "from pymongo import MongoClient\n",
    "client = MongoClient()\n",
    "\n",
    "client = MongoClient('localhost', 27017)\n",
    "client = MongoClient('mongodb://localhost:27017/')"
   ]
  },
  {
   "cell_type": "code",
   "execution_count": null,
   "metadata": {
    "collapsed": true
   },
   "outputs": [],
   "source": [
    "db = client['test-database']\n",
    "\n",
    "collection = db['test-collection']\n",
    "\n",
    "import datetime\n",
    "post = {\"author\": \"Mike\",\n",
    "         \"text\": \"My first blog post!\",\n",
    "         \"tags\": [\"mongodb\", \"python\", \"pymongo\"],\n",
    "         \"date\": datetime.datetime.utcnow(),\n",
    "         \"somearray\": {\"X\":[1,2,3],\"Y\":[4,5,6]} }\n",
    "\n",
    "posts = db.posts\n",
    "pp=db.posts.insert_one(post)\n",
    "pp"
   ]
  },
  {
   "cell_type": "code",
   "execution_count": null,
   "metadata": {
    "collapsed": true
   },
   "outputs": [],
   "source": [
    "db.collection_names(include_system_collections=True)"
   ]
  },
  {
   "cell_type": "code",
   "execution_count": null,
   "metadata": {
    "collapsed": true
   },
   "outputs": [],
   "source": [
    "result = db.profiles.create_index([('user_id', pymongo.ASCENDING)],unique=True)\n",
    "sorted(list(db.profiles.index_information()))\n"
   ]
  },
  {
   "cell_type": "code",
   "execution_count": null,
   "metadata": {
    "collapsed": true
   },
   "outputs": [],
   "source": [
    "import numpy as np\n",
    "db.testing.update_many(\n",
    "   {  },\n",
    "   {\n",
    "     \"$set\": { \"Some\": np.nan},\n",
    "     \"$currentDate\": { \"lastModified\": True }\n",
    "   }\n",
    ")"
   ]
  },
  {
   "cell_type": "code",
   "execution_count": null,
   "metadata": {
    "collapsed": true
   },
   "outputs": [],
   "source": [
    "qty=\"qty\"\n",
    "size=\"size\"\n",
    "h=\"h\"\n",
    "w=\"w\"\n",
    "uom=\"uom\"\n",
    "status=\"status\"\n",
    "db.testing.insert_one( \n",
    "   { \"item\": \"canvas\", qty: 100, size: { h: 28, w: 35.5, uom: \"cm\" }, status: \"A\" },\n",
    ");\n",
    "\n",
    "db.testing.insert_many( [\n",
    "   { \"item\": \"canvas\", qty: 100, size: { h: 28, w: 35.5, uom: \"cm\" }, status: \"A\" },\n",
    "   { \"item\": \"journal\", qty: 25, size: { h: 14, w: 21, uom: \"cm\" }, status: \"A\" },\n",
    "   { \"item\": \"mat\", qty: 85, size: { h: 27.9, w: 35.5, uom: \"cm\" }, status: \"A\" },\n",
    "   { \"item\": \"mousepad\", qty: 25, size: { h: 19, w: 22.85, uom: \"cm\" }, status: \"P\" },\n",
    "   { \"item\": \"notebook\", qty: 50, size: { h: 8.5, w: 11, uom: \"in\" }, status: \"P\" },\n",
    "]);"
   ]
  },
  {
   "cell_type": "code",
   "execution_count": null,
   "metadata": {
    "collapsed": true
   },
   "outputs": [],
   "source": [
    "for pp in db.testing.find():\n",
    "    print pp"
   ]
  },
  {
   "cell_type": "code",
   "execution_count": null,
   "metadata": {
    "collapsed": true
   },
   "outputs": [],
   "source": [
    "pd.read_sql('Select * From dataapp_stockprice',connections['stockpricedata'])"
   ]
  },
  {
   "cell_type": "code",
   "execution_count": null,
   "metadata": {
    "collapsed": true
   },
   "outputs": [],
   "source": [
    "uty.get_celery_worker_status()"
   ]
  },
  {
   "cell_type": "code",
   "execution_count": null,
   "metadata": {
    "collapsed": true
   },
   "outputs": [],
   "source": [
    "dtamd.Stockprice.objects.filter(Symbol='AAPL').delete()"
   ]
  },
  {
   "cell_type": "code",
   "execution_count": null,
   "metadata": {
    "collapsed": true,
    "scrolled": false
   },
   "outputs": [],
   "source": [
    "print stkmd.Stockmeta.objects.filter(Symbol='AAPL').values()\n",
    "stk=stkmd.Stockmeta.objects.get(Symbol='AAPL')\n",
    "print stk\n",
    "print dtamd.Stockprice.objects.filter(Symbol='AAPL').count()\n",
    "dtatks.UpdatePriceData([stk.id],inputtype='id')"
   ]
  },
  {
   "cell_type": "code",
   "execution_count": null,
   "metadata": {
    "collapsed": true
   },
   "outputs": [],
   "source": []
  },
  {
   "cell_type": "code",
   "execution_count": 2,
   "metadata": {},
   "outputs": [
    {
     "name": "stdout",
     "output_type": "stream",
     "text": [
      "7\n"
     ]
    }
   ],
   "source": [
    "import multiprocessing as mp\n",
    "class Someclass(object):\n",
    "    def __init__(self,x):\n",
    "        self.x=x\n",
    "    def __call__(self,a):\n",
    "        print a+self.x\n",
    "\n",
    "p=mp.Process(target=Someclass(3),args=(4,))\n",
    "p.start()\n",
    "p.join()"
   ]
  },
  {
   "cell_type": "code",
   "execution_count": 9,
   "metadata": {},
   "outputs": [
    {
     "data": {
      "text/plain": [
       "<generator object collect at 0x7f6261934690>"
      ]
     },
     "execution_count": 9,
     "metadata": {},
     "output_type": "execute_result"
    }
   ],
   "source": [
    "from celery import shared_task\n",
    "class Someclass(object):\n",
    "    def __init__(self,x):\n",
    "        self.x=x\n",
    "    @shared_task\n",
    "    def __call__(self,a):\n",
    "        print a+self.x\n",
    "A=Someclass(3)\n",
    "\n",
    "@shared_task\n",
    "def add(x):\n",
    "    print x+3\n",
    "r=add.delay(4)\n",
    "r.collect()"
   ]
  },
  {
   "cell_type": "code",
   "execution_count": null,
   "metadata": {
    "collapsed": true
   },
   "outputs": [],
   "source": []
  },
  {
   "cell_type": "code",
   "execution_count": 18,
   "metadata": {},
   "outputs": [
    {
     "name": "stdout",
     "output_type": "stream",
     "text": [
      "0.524054050446\n"
     ]
    },
    {
     "data": {
      "image/png": "[encoded data removed]",
      "text/plain": [
       "<matplotlib.figure.Figure at 0x7fb1515c5c10>"
      ]
     },
     "metadata": {},
     "output_type": "display_data"
    }
   ],
   "source": [
    "\n",
    "ss=\"\"\"\n",
    "from __future__ import print_function, division, absolute_import\n",
    "\n",
    "from timeit import default_timer as timer\n",
    "from matplotlib.pylab import imshow, jet, show, ion\n",
    "import numpy as np\n",
    "\n",
    "from numba import jit\n",
    "\n",
    "\n",
    "@jit\n",
    "def mandel(x, y, max_iters):\n",
    "    \n",
    "    #Given the real and imaginary parts of a complex number,\n",
    "    #determine if it is a candidate for membership in the Mandelbrot\n",
    "    #set given a fixed number of iterations.\n",
    "    \n",
    "    i = 0\n",
    "    c = complex(x,y)\n",
    "    z = 0.0j\n",
    "    for i in range(max_iters):\n",
    "        z = z*z + c\n",
    "        if (z.real*z.real + z.imag*z.imag) >= 4:\n",
    "            return i\n",
    "\n",
    "    return 255\n",
    "\n",
    "@jit\n",
    "def create_fractal(min_x, max_x, min_y, max_y, image, iters):\n",
    "    height = image.shape[0]\n",
    "    width = image.shape[1]\n",
    "\n",
    "    pixel_size_x = (max_x - min_x) / width\n",
    "    pixel_size_y = (max_y - min_y) / height\n",
    "    for x in range(width):\n",
    "        real = min_x + x * pixel_size_x\n",
    "        for y in range(height):\n",
    "            imag = min_y + y * pixel_size_y\n",
    "            color = mandel(real, imag, iters)\n",
    "            image[y, x] = color\n",
    "\n",
    "    return image\n",
    "\n",
    "image = np.zeros((500 * 2, 750 * 2), dtype=np.uint8)\n",
    "s = timer()\n",
    "create_fractal(-2.0, 1.0, -1.0, 1.0, image, 20)\n",
    "e = timer()\n",
    "print(e - s)\n",
    "imshow(image)\n",
    "#jet()\n",
    "#ion()\n",
    "show()\n",
    "\"\"\"\n",
    "codeobj = compile(ss, 'fakemodule', 'exec')\n",
    "exec(codeobj)\n",
    "    "
   ]
  },
  {
   "cell_type": "code",
   "execution_count": 27,
   "metadata": {},
   "outputs": [
    {
     "name": "stdout",
     "output_type": "stream",
     "text": [
      "b\n"
     ]
    },
    {
     "data": {
      "text/plain": [
       "3"
      ]
     },
     "execution_count": 27,
     "metadata": {},
     "output_type": "execute_result"
    }
   ],
   "source": [
    "class A(object):\n",
    "    a=1\n",
    "    def __init__(self):\n",
    "        print( \"a\")\n",
    "        \n",
    "class B(A):\n",
    "    b=2\n",
    "    a=3\n",
    "    def __init__(self):\n",
    "        print( \"b\")\n",
    "\n",
    "b=B()\n",
    "A.a=7\n",
    "b.a"
   ]
  },
  {
   "cell_type": "code",
   "execution_count": null,
   "metadata": {
    "collapsed": true
   },
   "outputs": [],
   "source": [
    "class IndexFunction(hmd.UserBase):\n",
    "\tIndexCode=models.TextField(help_text='Code to compute the index')\n",
    "\tIndexName=models.CharField(help_text='Name of the index',max_length=50)\n",
    "\tIndexDescription=models.CharField(help_text='Description of the index',max_length=200)"
   ]
  },
  {
   "cell_type": "code",
   "execution_count": 30,
   "metadata": {
    "collapsed": true
   },
   "outputs": [],
   "source": [
    "indF=stkmd.IndexFunction(IndexCode=ss,IndexName='test',IndexDescription='just testing ')\n",
    "indF.save()"
   ]
  },
  {
   "cell_type": "code",
   "execution_count": null,
   "metadata": {
    "collapsed": true
   },
   "outputs": [],
   "source": [
    "indF=stkmd.IndexFunction(IndexCode=ss,IndexName='test2',IndexDescription='just testing 2 ')\n",
    "indF.save()\n",
    "\n",
    "indF=stkmd.IndexFunction(IndexCode=ss,IndexName='test3',IndexDescription='just testing 3 ')\n",
    "indF.save()\n"
   ]
  },
  {
   "cell_type": "code",
   "execution_count": null,
   "metadata": {
    "collapsed": true
   },
   "outputs": [],
   "source": []
  },
  {
   "cell_type": "code",
   "execution_count": 32,
   "metadata": {},
   "outputs": [
    {
     "name": "stdout",
     "output_type": "stream",
     "text": [
      "0.472647190094\n"
     ]
    },
    {
     "data": {
      "image/png": "[encoded data removed]",
      "text/plain": [
       "<matplotlib.figure.Figure at 0x7fb1515b8110>"
      ]
     },
     "metadata": {},
     "output_type": "display_data"
    }
   ],
   "source": [
    "\n",
    "codeobj = compile(indF.IndexCode, 'fakemodule', 'exec')\n",
    "exec(codeobj)"
   ]
  },
  {
   "cell_type": "code",
   "execution_count": 60,
   "metadata": {
    "scrolled": true
   },
   "outputs": [
    {
     "data": {
      "text/plain": [
       "[('AnotherFunc', stockapp.GroupIndicies.test.AnotherFunc),\n",
       " ('SomeFunc', stockapp.GroupIndicies.test.SomeFunc),\n",
       " ('__builtins__',\n",
       "  {'ArithmeticError': ArithmeticError,\n",
       "   'AssertionError': AssertionError,\n",
       "   'AttributeError': AttributeError,\n",
       "   'BaseException': BaseException,\n",
       "   'BufferError': BufferError,\n",
       "   'BytesWarning': BytesWarning,\n",
       "   'DeprecationWarning': DeprecationWarning,\n",
       "   'EOFError': EOFError,\n",
       "   'Ellipsis': Ellipsis,\n",
       "   'EnvironmentError': EnvironmentError,\n",
       "   'Exception': Exception,\n",
       "   'False': False,\n",
       "   'FloatingPointError': FloatingPointError,\n",
       "   'FutureWarning': FutureWarning,\n",
       "   'GeneratorExit': GeneratorExit,\n",
       "   'IOError': IOError,\n",
       "   'ImportError': ImportError,\n",
       "   'ImportWarning': ImportWarning,\n",
       "   'IndentationError': IndentationError,\n",
       "   'IndexError': IndexError,\n",
       "   'KeyError': KeyError,\n",
       "   'KeyboardInterrupt': KeyboardInterrupt,\n",
       "   'LookupError': LookupError,\n",
       "   'MemoryError': MemoryError,\n",
       "   'NameError': NameError,\n",
       "   'None': None,\n",
       "   'NotImplemented': NotImplemented,\n",
       "   'NotImplementedError': NotImplementedError,\n",
       "   'OSError': OSError,\n",
       "   'OverflowError': OverflowError,\n",
       "   'PendingDeprecationWarning': PendingDeprecationWarning,\n",
       "   'ReferenceError': ReferenceError,\n",
       "   'RuntimeError': RuntimeError,\n",
       "   'RuntimeWarning': RuntimeWarning,\n",
       "   'StandardError': StandardError,\n",
       "   'StopIteration': StopIteration,\n",
       "   'SyntaxError': SyntaxError,\n",
       "   'SyntaxWarning': SyntaxWarning,\n",
       "   'SystemError': SystemError,\n",
       "   'SystemExit': SystemExit,\n",
       "   'TabError': TabError,\n",
       "   'True': True,\n",
       "   'TypeError': TypeError,\n",
       "   'UnboundLocalError': UnboundLocalError,\n",
       "   'UnicodeDecodeError': UnicodeDecodeError,\n",
       "   'UnicodeEncodeError': UnicodeEncodeError,\n",
       "   'UnicodeError': UnicodeError,\n",
       "   'UnicodeTranslateError': UnicodeTranslateError,\n",
       "   'UnicodeWarning': UnicodeWarning,\n",
       "   'UserWarning': UserWarning,\n",
       "   'ValueError': ValueError,\n",
       "   'Warning': Warning,\n",
       "   'ZeroDivisionError': ZeroDivisionError,\n",
       "   '__IPYTHON__': True,\n",
       "   '__debug__': True,\n",
       "   '__doc__': \"Built-in functions, exceptions, and other objects.\\n\\nNoteworthy: None is the `nil' object; Ellipsis represents `...' in slices.\",\n",
       "   '__import__': <function __import__>,\n",
       "   '__name__': '__builtin__',\n",
       "   '__package__': None,\n",
       "   'abs': <function abs>,\n",
       "   'all': <function all>,\n",
       "   'any': <function any>,\n",
       "   'apply': <function apply>,\n",
       "   'basestring': basestring,\n",
       "   'bin': <function bin>,\n",
       "   'bool': bool,\n",
       "   'buffer': buffer,\n",
       "   'bytearray': bytearray,\n",
       "   'bytes': str,\n",
       "   'callable': <function callable>,\n",
       "   'chr': <function chr>,\n",
       "   'classmethod': classmethod,\n",
       "   'cmp': <function cmp>,\n",
       "   'coerce': <function coerce>,\n",
       "   'compile': <function compile>,\n",
       "   'complex': complex,\n",
       "   'copyright': Copyright (c) 2001-2016 Python Software Foundation.\n",
       "   All Rights Reserved.\n",
       "   \n",
       "   Copyright (c) 2000 BeOpen.com.\n",
       "   All Rights Reserved.\n",
       "   \n",
       "   Copyright (c) 1995-2001 Corporation for National Research Initiatives.\n",
       "   All Rights Reserved.\n",
       "   \n",
       "   Copyright (c) 1991-1995 Stichting Mathematisch Centrum, Amsterdam.\n",
       "   All Rights Reserved.,\n",
       "   'credits':     Thanks to CWI, CNRI, BeOpen.com, Zope Corporation and a cast of thousands\n",
       "       for supporting Python development.  See www.python.org for more information.,\n",
       "   'delattr': <function delattr>,\n",
       "   'dict': dict,\n",
       "   'dir': <function dir>,\n",
       "   'divmod': <function divmod>,\n",
       "   'dreload': <function IPython.lib.deepreload._dreload>,\n",
       "   'enumerate': enumerate,\n",
       "   'eval': <function eval>,\n",
       "   'execfile': <function execfile>,\n",
       "   'file': file,\n",
       "   'filter': <function filter>,\n",
       "   'float': float,\n",
       "   'format': <function format>,\n",
       "   'frozenset': frozenset,\n",
       "   'get_ipython': <bound method ZMQInteractiveShell.get_ipython of <ipykernel.zmqshell.ZMQInteractiveShell object at 0x7fb182d0e8d0>>,\n",
       "   'getattr': <function getattr>,\n",
       "   'globals': <function globals>,\n",
       "   'hasattr': <function hasattr>,\n",
       "   'hash': <function hash>,\n",
       "   'help': Type help() for interactive help, or help(object) for help about object.,\n",
       "   'hex': <function hex>,\n",
       "   'id': <function id>,\n",
       "   'input': <function ipykernel.ipkernel.<lambda>>,\n",
       "   'int': int,\n",
       "   'intern': <function intern>,\n",
       "   'isinstance': <function isinstance>,\n",
       "   'issubclass': <function issubclass>,\n",
       "   'iter': <function iter>,\n",
       "   'len': <function len>,\n",
       "   'license': Type license() to see the full license text,\n",
       "   'list': list,\n",
       "   'locals': <function locals>,\n",
       "   'long': long,\n",
       "   'map': <function map>,\n",
       "   'max': <function max>,\n",
       "   'memoryview': memoryview,\n",
       "   'min': <function min>,\n",
       "   'next': <function next>,\n",
       "   'object': object,\n",
       "   'oct': <function oct>,\n",
       "   'open': <function open>,\n",
       "   'ord': <function ord>,\n",
       "   'pow': <function pow>,\n",
       "   'print': <function print>,\n",
       "   'property': property,\n",
       "   'range': <function range>,\n",
       "   'raw_input': <bound method IPythonKernel.raw_input of <ipykernel.ipkernel.IPythonKernel object at 0x7fb182d14d50>>,\n",
       "   'reduce': <function reduce>,\n",
       "   'reload': <function reload>,\n",
       "   'repr': <function repr>,\n",
       "   'reversed': reversed,\n",
       "   'round': <function round>,\n",
       "   'set': set,\n",
       "   'setattr': <function setattr>,\n",
       "   'slice': slice,\n",
       "   'sorted': <function sorted>,\n",
       "   'staticmethod': staticmethod,\n",
       "   'str': str,\n",
       "   'sum': <function sum>,\n",
       "   'super': super,\n",
       "   'tuple': tuple,\n",
       "   'type': type,\n",
       "   'unichr': <function unichr>,\n",
       "   'unicode': unicode,\n",
       "   'vars': <function vars>,\n",
       "   'xrange': xrange,\n",
       "   'zip': <function zip>}),\n",
       " ('__file__', 'stockapp/GroupIndicies/test.py'),\n",
       " ('__name__', 'stockapp.GroupIndicies.test'),\n",
       " ('__package__', 'stockapp.GroupIndicies'),\n",
       " ('compute', stockapp.GroupIndicies.test.compute),\n",
       " ('func1', <function stockapp.GroupIndicies.test.func1>),\n",
       " ('func2', <function stockapp.GroupIndicies.test.func2>),\n",
       " ('pd',\n",
       "  <module 'pandas' from '/usr/local/lib/python2.7/dist-packages/pandas/__init__.pyc'>)]"
      ]
     },
     "execution_count": 60,
     "metadata": {},
     "output_type": "execute_result"
    }
   ],
   "source": [
    "import inspect as inpt\n",
    "import stockapp.GroupIndicies.test as tst\n",
    "\n",
    "inpt.getmembers(tst)\n",
    "# inpt.getmodulename(tst)\n",
    "# inpt.ismodule(tst)"
   ]
  },
  {
   "cell_type": "code",
   "execution_count": 71,
   "metadata": {},
   "outputs": [
    {
     "name": "stdout",
     "output_type": "stream",
     "text": [
      "class  ('AnotherFunc', <class 'stockapp.GroupIndicies.test.AnotherFunc'>) feature class 3 None\n",
      "class AnotherFunc(compute):\n",
      "\t\"\"\"\n",
      "\tfeature class 2\n",
      "\t\"\"\"\n",
      "\tuser='Anonymous'\n",
      "\tdef compute(self):\n",
      "\t\tself.x=3\n",
      "\n",
      "class  ('SomeFunc', <class 'stockapp.GroupIndicies.test.SomeFunc'>) feature class 1 None\n",
      "class SomeFunc(compute):\n",
      "\t\"\"\"\n",
      "\tfeature class 1\n",
      "\t\"\"\"\n",
      "\tuser='Anonymous'\n",
      "\n",
      "\tdef compute(self):\n",
      "\t\tself.x=3\n",
      "\n",
      "class  ('compute', <class 'stockapp.GroupIndicies.test.compute'>) None None\n",
      "class compute(object):\n",
      "\tdef __init__(self):\n",
      "\t\tpass\n",
      "\tdef compute(self):\n",
      "\t\tpass\n",
      "\n",
      "function  ('func1', <function func1 at 0x7fb151074de8>) test func1 None\n",
      "def func1(x):\n",
      "\t\"\"\"\n",
      "\ttest func1\n",
      "\t\"\"\"\n",
      "\treturn x+1\n",
      "\n",
      "ArgSpec(args=['x'], varargs=None, keywords=None, defaults=None)\n"
     ]
    }
   ],
   "source": [
    "CLS=[]\n",
    "for pp in inpt.getmembers(tst):\n",
    "    if inpt.isclass(pp[1]):\n",
    "        print ( \"class \",pp,inpt.getdoc(pp[1]), inpt.getcomments(pp[1]) )\n",
    "        print (inpt.getsource(pp[1]))\n",
    "        CLS.append(pp[1])\n",
    "    if inpt.isfunction(pp[1]):    \n",
    "        print ( \"function \",pp,inpt.getdoc(pp[1]), inpt.getcomments(pp[1]) )\n",
    "        print (inpt.getsource(pp[1]))\n",
    "        print (inpt.getargspec(pp[1]))\n",
    "        break"
   ]
  },
  {
   "cell_type": "code",
   "execution_count": 70,
   "metadata": {},
   "outputs": [
    {
     "data": {
      "text/plain": [
       "'x'"
      ]
     },
     "execution_count": 70,
     "metadata": {},
     "output_type": "execute_result"
    }
   ],
   "source": [
    "inpt.getargspec(pp[1]).args[0]"
   ]
  },
  {
   "cell_type": "code",
   "execution_count": 75,
   "metadata": {},
   "outputs": [
    {
     "name": "stdout",
     "output_type": "stream",
     "text": [
      "(<type 'object'>, ())\n",
      "\n",
      "[(<class 'stockapp.GroupIndicies.test.compute'>, (<type 'object'>,)), [(<class 'stockapp.GroupIndicies.test.AnotherFunc'>, (<class 'stockapp.GroupIndicies.test.compute'>,)), (<class 'stockapp.GroupIndicies.test.SomeFunc'>, (<class 'stockapp.GroupIndicies.test.compute'>,))]]\n",
      "\n"
     ]
    }
   ],
   "source": [
    "for pp in inpt.getclasstree(CLS):\n",
    "    print (pp)\n",
    "    print()"
   ]
  },
  {
   "cell_type": "code",
   "execution_count": 80,
   "metadata": {},
   "outputs": [
    {
     "data": {
      "text/plain": [
       "[(object, ()),\n",
       " [(stockapp.GroupIndicies.test.compute, (object,)),\n",
       "  [(stockapp.GroupIndicies.test.AnotherFunc,\n",
       "    (stockapp.GroupIndicies.test.compute,)),\n",
       "   (stockapp.GroupIndicies.test.SomeFunc,\n",
       "    (stockapp.GroupIndicies.test.compute,))]]]"
      ]
     },
     "execution_count": 80,
     "metadata": {},
     "output_type": "execute_result"
    }
   ],
   "source": [
    "S=inpt.getclasstree(CLS)\n",
    "S"
   ]
  },
  {
   "cell_type": "code",
   "execution_count": 82,
   "metadata": {},
   "outputs": [
    {
     "data": {
      "text/plain": [
       "True"
      ]
     },
     "execution_count": 82,
     "metadata": {},
     "output_type": "execute_result"
    }
   ],
   "source": [
    "issubclass(S[1][0][0],S[1][0][1])"
   ]
  },
  {
   "cell_type": "code",
   "execution_count": 83,
   "metadata": {},
   "outputs": [
    {
     "data": {
      "text/plain": [
       "[(stockapp.GroupIndicies.test.compute, (object,)),\n",
       " [(stockapp.GroupIndicies.test.AnotherFunc,\n",
       "   (stockapp.GroupIndicies.test.compute,)),\n",
       "  (stockapp.GroupIndicies.test.SomeFunc,\n",
       "   (stockapp.GroupIndicies.test.compute,))]]"
      ]
     },
     "execution_count": 83,
     "metadata": {},
     "output_type": "execute_result"
    }
   ],
   "source": [
    "S[1]"
   ]
  }
 ],
 "metadata": {
  "kernelspec": {
   "display_name": "Django Shell-Plus",
   "language": "python",
   "name": "django_extensions"
  },
  "language_info": {
   "codemirror_mode": {
    "name": "ipython",
    "version": 2
   },
   "file_extension": ".py",
   "mimetype": "text/x-python",
   "name": "python",
   "nbconvert_exporter": "python",
   "pygments_lexer": "ipython2",
   "version": "2.7.12"
  }
 },
 "nbformat": 4,
 "nbformat_minor": 1
}
